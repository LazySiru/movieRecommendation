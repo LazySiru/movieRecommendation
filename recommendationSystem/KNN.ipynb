{
 "cells": [
  {
   "cell_type": "code",
   "execution_count": 1,
   "id": "a0bb0e8f-f75d-42a2-b7ba-8fcd7fc241ec",
   "metadata": {},
   "outputs": [],
   "source": [
    "import numpy as np\n",
    "import pandas as pd\n",
    "\n",
    "from surprise import KNNBasic\n",
    "from surprise import Dataset\n",
    "from surprise import Reader\n",
    "from surprise import accuracy\n",
    "\n",
    "import pickle"
   ]
  },
  {
   "cell_type": "markdown",
   "id": "41b5d9ab",
   "metadata": {},
   "source": [
    "### Import datasets"
   ]
  },
  {
   "cell_type": "code",
   "execution_count": 2,
   "id": "44e73bfd",
   "metadata": {},
   "outputs": [
    {
     "data": {
      "text/html": [
       "<div>\n",
       "<style scoped>\n",
       "    .dataframe tbody tr th:only-of-type {\n",
       "        vertical-align: middle;\n",
       "    }\n",
       "\n",
       "    .dataframe tbody tr th {\n",
       "        vertical-align: top;\n",
       "    }\n",
       "\n",
       "    .dataframe thead th {\n",
       "        text-align: right;\n",
       "    }\n",
       "</style>\n",
       "<table border=\"1\" class=\"dataframe\">\n",
       "  <thead>\n",
       "    <tr style=\"text-align: right;\">\n",
       "      <th></th>\n",
       "      <th>user_id</th>\n",
       "      <th>movie_id</th>\n",
       "      <th>rating</th>\n",
       "    </tr>\n",
       "  </thead>\n",
       "  <tbody>\n",
       "    <tr>\n",
       "      <th>0</th>\n",
       "      <td>1198</td>\n",
       "      <td>434</td>\n",
       "      <td>5</td>\n",
       "    </tr>\n",
       "    <tr>\n",
       "      <th>1</th>\n",
       "      <td>5949</td>\n",
       "      <td>1729</td>\n",
       "      <td>4</td>\n",
       "    </tr>\n",
       "    <tr>\n",
       "      <th>2</th>\n",
       "      <td>5046</td>\n",
       "      <td>308</td>\n",
       "      <td>5</td>\n",
       "    </tr>\n",
       "    <tr>\n",
       "      <th>3</th>\n",
       "      <td>3735</td>\n",
       "      <td>909</td>\n",
       "      <td>4</td>\n",
       "    </tr>\n",
       "    <tr>\n",
       "      <th>4</th>\n",
       "      <td>5960</td>\n",
       "      <td>2918</td>\n",
       "      <td>4</td>\n",
       "    </tr>\n",
       "  </tbody>\n",
       "</table>\n",
       "</div>"
      ],
      "text/plain": [
       "   user_id  movie_id  rating\n",
       "0     1198       434       5\n",
       "1     5949      1729       4\n",
       "2     5046       308       5\n",
       "3     3735       909       4\n",
       "4     5960      2918       4"
      ]
     },
     "execution_count": 2,
     "metadata": {},
     "output_type": "execute_result"
    }
   ],
   "source": [
    "data = pd.read_csv('./datasets/merged.csv')\n",
    "train = pd.read_csv('./datasets/train.csv')\n",
    "test = pd.read_csv('./datasets/test.csv')\n",
    "\n",
    "train.head()"
   ]
  },
  {
   "cell_type": "code",
   "execution_count": 3,
   "id": "688cbc85",
   "metadata": {},
   "outputs": [],
   "source": [
    "reader = Reader(rating_scale=(1, 5))\n",
    "trainset, testset = Dataset.load_from_df(train, reader), Dataset.load_from_df(test, reader)\n",
    "trainset, testset = trainset.build_full_trainset(), testset.build_full_trainset().build_testset()"
   ]
  },
  {
   "cell_type": "markdown",
   "id": "f2527582-227f-49b9-ac1b-52ad789a56d3",
   "metadata": {},
   "source": [
    "## Item-based KNN collaborative filtering model \n",
    "\n",
    "input user_id & desired number of similar users, and will recommend movies rated by similar users  "
   ]
  },
  {
   "cell_type": "markdown",
   "id": "375b2ed3",
   "metadata": {},
   "source": [
    "### Why KNN?"
   ]
  },
  {
   "cell_type": "markdown",
   "id": "301b6383",
   "metadata": {},
   "source": [
    "> Simplicity and Interpretability\n",
    "> Collaborative Filtering\n",
    "- Algorithm recommends movies based on similarities between users (user-based collaborative filtering) or between movies (item-based collaborative filtering). \n",
    "    - Item-based filtering, KNN recommends movies similar to the ones a user has liked in the past by comparing the movie’s features.\n",
    "> Good for Small to Medium Datasets\n",
    "- KNN performs well on small to medium datasets without requiring extensive training. \n",
    "    - For larger datasets, optimizations or alternative models like matrix factorization or deep learning might be necessary.\n",
    "\n",
    "> Adaptability to Feature Similarity\n",
    "- KNN can be adapted to various similarity metrics, such as Euclidean distance, cosine similarity, or Pearson correlation, depending on how you define movie similarity. \n",
    "    - Cosine similarity might work well when comparing users’ rating patterns or the attributes of movies.\n",
    "> Cold Start Problem\n",
    "- KNN is computationally expensive when dealing with very large datasets and may not capture complex relationships between movies or users as effectively as other models (e.g., matrix factorization or deep learning)."
   ]
  },
  {
   "cell_type": "markdown",
   "id": "53408d92",
   "metadata": {},
   "source": [
    "### Distancing & Error Metric"
   ]
  },
  {
   "cell_type": "markdown",
   "id": "3a7a104d",
   "metadata": {},
   "source": [
    "<b> Similarity measures </b>\n",
    "\n",
    "Cosine and Pearson similarity measures are commonly used in KNN-based collaborative filtering because they help quantify the degree of similarity between two vectors (users or items) based on their rating patterns. \n",
    "\n",
    "> Cosine Similarity : Measures the cosine of the angle between two non-zero vectors (such as user or item rating vectors) in an n-dimensional space\n",
    "\n",
    "- Independent of Magnitude: Cosine similarity focuses on the direction rather than the magnitude of the vectors. if the pattern of ratings is similar, they will be considered similar.\n",
    "\n",
    "- Good for Sparse Data: It only looks at the ratings for items both users have rated, ignoring missing values.\n",
    "\n",
    "- Captures Similar Preferences: Cosine similarity captures how similarly users behave in terms of their preferences.\n",
    "\n",
    "> Pearson Correlation : Measures the linear correlation between two variables. Evaluates how well the ratings of two users (or items) can be described as a linear relationship.\n",
    "\n",
    "- Removes Rating Bias: Pearson correlation centers the ratings by subtracting the user’s average rating. Captures how users deviate from their own average behavior, allowing it to ignore differences in absolute rating levels.\n",
    "\n",
    "- Captures Linear Relationships: Pearson correlation is useful when you’re interested in linear relationships between users or items. (Relative Preference)\n",
    "\n",
    "- Normalizes Ratings: Normalizes ratings by subtracting the mean, Pearson correlation is effective when users have different rating scales. It focuses on the relative difference in ratings rather than absolute scores.\n"
   ]
  },
  {
   "cell_type": "markdown",
   "id": "d00e190e",
   "metadata": {},
   "source": [
    "<B> Error metrics </b>\n",
    "- MSE : Evaluates how closely the predicted ratings match the true ratings\n",
    "\n",
    "- RMSE : Makes it more interpretable as it’s in the same units \n",
    "\n",
    "- MAE : Measures the average magnitude of errors between predicted and true ratings, without considering the direction"
   ]
  },
  {
   "cell_type": "markdown",
   "id": "55a71dbf",
   "metadata": {},
   "source": [
    "### Hyperparameter tuning"
   ]
  },
  {
   "cell_type": "code",
   "execution_count": 4,
   "id": "cebcfd72",
   "metadata": {},
   "outputs": [
    {
     "name": "stdout",
     "output_type": "stream",
     "text": [
      "For k value : 38 --> KNN item-based collaborative filtering model\n",
      "RMSE: 0.8986\n",
      "MAE:  0.6987\n",
      "RMSE: 0.9980\n",
      "MAE:  0.7792\n",
      "For k value : 39 --> KNN item-based collaborative filtering model\n",
      "RMSE: 0.9000\n",
      "MAE:  0.6998\n",
      "RMSE: 0.9979\n",
      "MAE:  0.7791\n",
      "For k value : 40 --> KNN item-based collaborative filtering model\n",
      "RMSE: 0.9015\n",
      "MAE:  0.7010\n",
      "RMSE: 0.9978\n",
      "MAE:  0.7791\n",
      "For k value : 41 --> KNN item-based collaborative filtering model\n",
      "RMSE: 0.9028\n",
      "MAE:  0.7020\n",
      "RMSE: 0.9979\n",
      "MAE:  0.7793\n"
     ]
    }
   ],
   "source": [
    "train_rmses, train_maes, test_rmses, test_maes = [], [], [], []\n",
    "ks = list(range(38, 42, 1))\n",
    "\n",
    "for k in ks:\n",
    "\n",
    "    print(\"For k value : {} --> KNN item-based collaborative filtering model\".format(k))\n",
    "\n",
    "    sim_options = {\n",
    "        'name': 'cosine',\n",
    "        'user_based': False,  # Set to False to use item-based collaborative filtering\n",
    "    }\n",
    "\n",
    "    knn_model = KNNBasic(k=k, sim_options=sim_options, verbose = False)\n",
    "\n",
    "    knn_model.fit(trainset)\n",
    "\n",
    "    # Get predictions & accuracy for the training set\n",
    "    train_predictions = knn_model.test(trainset.build_testset())\n",
    "    train_rmse = accuracy.rmse(train_predictions)\n",
    "    train_mae = accuracy.mae(train_predictions)\n",
    "    train_rmses.append(train_rmse)\n",
    "    train_maes.append(train_mae)\n",
    "\n",
    "\n",
    "    # Get predictions & accuracy for the test set\n",
    "    predictions = knn_model.test(testset)\n",
    "\n",
    "    test_rmses.append(accuracy.rmse(predictions))\n",
    "    test_maes.append(accuracy.mae(predictions))\n"
   ]
  },
  {
   "cell_type": "code",
   "execution_count": 5,
   "id": "a925f77d",
   "metadata": {},
   "outputs": [
    {
     "name": "stdout",
     "output_type": "stream",
     "text": [
      "Ks :  [38, 39, 40, 41]\n",
      "Train RMSE :  [0.8986386377535697, 0.9000292687032027, 0.9014510006222295, 0.9027820105135707]\n",
      "Test RMSE :  [0.9979906180770853, 0.9978503812223473, 0.9978326617962954, 0.9978549635986381]\n",
      "Train MAE :  [0.6986760400874571, 0.6997998251731598, 0.7009546382961473, 0.7020353814597728]\n",
      "Test MAE :  [0.7791969515526336, 0.7790736855907505, 0.7791399284605834, 0.7792536826210009]\n"
     ]
    }
   ],
   "source": [
    "\"\"\"\n",
    "Ks :  [5, 10, 15, 20, 25, 30, 35, 40, 45, 50, 55, 60, 65, 70, 75, 80, 85, 90, 95]\n",
    "Train RMSE :  [0.7793636868439465, 0.8227726884361647, 0.8460848873582878, 0.8623359331166043, 0.8745910282979678, 0.8843737542514639, 0.8927737578256102, 0.899887388266644, 0.9061536107125806, 0.9116928308439499, 0.916684944605763, 0.9211579892038986, 0.9253347863638701, 0.929151365932699, 0.9327231288356129, 0.9360488616153929, 0.9390868669399419, 0.9419645730348497, 0.9446622809124469]\n",
    "Train MAE :  [0.5924613296707559, 0.6355125161003281, 0.6556883500336964, 0.6692554913193154, 0.6793641915687684, 0.6874359526890961, 0.6944267473389668, 0.7003875921146165, 0.7057047515606564, 0.7104279002187686, 0.7148025717397848, 0.7187393011897457, 0.7224877888803295, 0.7259258406479884, 0.7291500970635431, 0.7321855318284509, 0.7350213700772928, 0.7376852465079435, 0.7402055133519454]\n",
    "Test RMSE :  [1.09113468305196, 1.0367183743019732, 1.0177870555002873, 1.0090300131424663, 1.0047541674112075, 1.0020744247534925, 1.0006542860640322, 1.000071198947029, 0.9998105711557628, 0.9999995060457173, 1.000169318002006, 1.0004425712084575, 1.0008029875716187, 1.001388483876409, 1.0019836440310423, 1.0024414261504313, 1.0031280507987097, 1.003770584224303, 1.0043444603775868]\n",
    "Test MAE :  [0.8438602110904961, 0.8055631163801058, 0.7919512970942335, 0.7860054060199522, 0.7832101637284969, 0.7815951812560412, 0.7808312830701344, 0.7807666191278518, 0.7809335347305092, 0.7814481397265474, 0.7819929537691004, 0.7825829464338115, 0.783273563599371, 0.7841266071262301, 0.7850367587194621, 0.7858645706406273, 0.7868422125379873, 0.7877082593358835, 0.7885813017249352]\n",
    "\n",
    "Ks :  [35, 36, 37, 38, 39, 40, 41, 42, 43, 44, 45, 46]\n",
    "Train RMSE :  [0.8942717475257902, 0.8957935969527088, 0.8972519055678716, 0.8986386377535697, 0.9000292687032027, 0.9014510006222295, 0.9027820105135707, 0.9040358289912915, 0.9052782359254624, 0.9064980744768718, 0.9076762093700568, 0.9088384925040133]\n",
    "Test RMSE :  [0.9981712707454355, 0.9980943438717678, 0.9980174959136755, 0.9979906180770853, 0.9978503812223473, 0.9978326617962954, 0.9978549635986381, 0.9978028930284678, 0.9977796968525564, 0.997846133540571, 0.9979255577414622, 0.9979389558119995]\n",
    "Train MAE :  [0.6950125930861831, 0.6962708848503845, 0.6975042467103026, 0.6986760400874571, 0.6997998251731598, 0.7009546382961473, 0.7020353814597728, 0.7030737614127306, 0.7041309587090449, 0.7051646598612699, 0.7061621993220617, 0.7071530187538249]\n",
    "Test MAE :  [0.779068431414486, 0.7790541857052193, 0.7791363787209876, 0.7791969515526336, 0.7790736855907505, 0.7791399284605834, 0.7792536826210009, 0.7793029912219621, 0.7793505493865072, 0.7794512364340948, 0.7795369815118522, 0.7796226958429326]\n",
    "\n",
    "\"\"\"\n",
    "\n",
    "# Print RMSE and MAE scores of train and test set\n",
    "print(\"Ks : \", ks)\n",
    "print(\"Train RMSE : \", train_rmses)\n",
    "print(\"Test RMSE : \", test_rmses)\n",
    "print(\"Train MAE : \", train_maes)\n",
    "print(\"Test MAE : \", test_maes)"
   ]
  },
  {
   "cell_type": "code",
   "execution_count": 6,
   "id": "07076139",
   "metadata": {},
   "outputs": [
    {
     "data": {
      "text/plain": [
       "<AxesSubplot:title={'center':'MAE of KNN clf model on k'}>"
      ]
     },
     "execution_count": 6,
     "metadata": {},
     "output_type": "execute_result"
    },
    {
     "data": {
      "image/png": "[encoded data removed]",
      "text/plain": [
       "<Figure size 432x288 with 1 Axes>"
      ]
     },
     "metadata": {
      "needs_background": "light"
     },
     "output_type": "display_data"
    },
    {
     "data": {
      "image/png": "[encoded data removed]",
      "text/plain": [
       "<Figure size 432x288 with 1 Axes>"
      ]
     },
     "metadata": {
      "needs_background": "light"
     },
     "output_type": "display_data"
    }
   ],
   "source": [
    "rmses = pd.DataFrame({\n",
    "    #\"train_rmses\": train_rmses, \n",
    "    \"test_rmses\": test_rmses, \n",
    "}, index = ks\n",
    ")\n",
    "\n",
    "maes = pd.DataFrame({\n",
    "    #\"train_maes\": train_maes,\n",
    "    \"test_maes\": test_maes,\n",
    "}, index = ks\n",
    ")\n",
    "\n",
    "rmses.plot(title= \"RMSE of KNN clf model on k\")\n",
    "maes.plot(title= \"MAE of KNN clf model on k\")"
   ]
  },
  {
   "cell_type": "markdown",
   "id": "b116b7e5",
   "metadata": {},
   "source": [
    "### Final model development"
   ]
  },
  {
   "cell_type": "markdown",
   "id": "f2e869de",
   "metadata": {},
   "source": [
    "Optimal k value is 40. Considering train_rmse, test_rmse, test_mae"
   ]
  },
  {
   "cell_type": "code",
   "execution_count": 7,
   "id": "6d31d8dd",
   "metadata": {},
   "outputs": [
    {
     "name": "stdout",
     "output_type": "stream",
     "text": [
      "RMSE: 0.9015\n",
      "MAE:  0.7010\n",
      "RMSE: 0.9978\n",
      "MAE:  0.7791\n"
     ]
    },
    {
     "data": {
      "text/plain": [
       "0.7791399284605834"
      ]
     },
     "execution_count": 7,
     "metadata": {},
     "output_type": "execute_result"
    }
   ],
   "source": [
    "k_value = 40\n",
    "\n",
    "knn_clf = KNNBasic(k=k_value, sim_options={\n",
    "    'name': 'cosine',\n",
    "    'user_based': False,\n",
    "}, verbose = False)\n",
    "\n",
    "knn_clf.fit(trainset)\n",
    "\n",
    "train_predictions = knn_clf.test(trainset.build_testset())\n",
    "accuracy.rmse(train_predictions)\n",
    "accuracy.mae(train_predictions)\n",
    "\n",
    "predictions = knn_clf.test(testset)\n",
    "accuracy.rmse(predictions)\n",
    "accuracy.mae(predictions)"
   ]
  },
  {
   "cell_type": "code",
   "execution_count": 8,
   "id": "bea95533",
   "metadata": {},
   "outputs": [
    {
     "name": "stdout",
     "output_type": "stream",
     "text": [
      "Top movie recommendations for user 1: [(3209, 5), (657, 5), (127, 5), (3323, 5), (3382, 5)]\n"
     ]
    }
   ],
   "source": [
    "# Recommend K movies for a given user with user_id.\n",
    "def get_movie_recommendations(user_id, k=5):\n",
    "    all_movie_ids = data['movie_id'].unique()\n",
    "    \n",
    "    user_rated_movies = data[data['user_id'] == user_id]['movie_id'].tolist()\n",
    "    \n",
    "    movie_predictions = []\n",
    "    for movie_id in all_movie_ids:\n",
    "        if movie_id not in user_rated_movies:\n",
    "            pred = knn_clf.predict(user_id, movie_id)\n",
    "            movie_predictions.append((movie_id, pred.est))\n",
    "    \n",
    "    movie_predictions.sort(key=lambda x: x[1], reverse=True)\n",
    "    top_k_recommendations = movie_predictions[:k]\n",
    "    \n",
    "    return top_k_recommendations\n",
    "\n",
    "recommendations = get_movie_recommendations(1)\n",
    "print(f\"Top movie recommendations for user 1: {recommendations}\")"
   ]
  },
  {
   "cell_type": "markdown",
   "id": "ae0b484a",
   "metadata": {},
   "source": [
    "### Save and Export final model"
   ]
  },
  {
   "cell_type": "code",
   "execution_count": 9,
   "id": "994ba357",
   "metadata": {},
   "outputs": [],
   "source": [
    "with open('./models/knn_clf.pkl', 'wb') as file:\n",
    "    pickle.dump(knn_clf, file)"
   ]
  },
  {
   "cell_type": "markdown",
   "id": "8e2d414d",
   "metadata": {},
   "source": [
    "## Documentation & Reference "
   ]
  },
  {
   "cell_type": "markdown",
   "id": "5f7b16d8",
   "metadata": {},
   "source": [
    "- Surpise KNNBasic model documentation : https://surprise.readthedocs.io/en/stable/knn_inspired.html"
   ]
  }
 ],
 "metadata": {
  "kernelspec": {
   "display_name": "Python 3 (ipykernel)",
   "language": "python",
   "name": "python3"
  },
  "language_info": {
   "codemirror_mode": {
    "name": "ipython",
    "version": 3
   },
   "file_extension": ".py",
   "mimetype": "text/x-python",
   "name": "python",
   "nbconvert_exporter": "python",
   "pygments_lexer": "ipython3",
   "version": "3.8.8"
  }
 },
 "nbformat": 4,
 "nbformat_minor": 5
}
