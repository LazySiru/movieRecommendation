{
 "cells": [
  {
   "cell_type": "code",
   "execution_count": 24,
   "id": "a0bb0e8f-f75d-42a2-b7ba-8fcd7fc241ec",
   "metadata": {},
   "outputs": [],
   "source": [
    "import numpy as np\n",
    "import pandas as pd\n",
    "\n",
    "# Install necessary libraries\n",
    "from surprise import KNNBasic\n",
    "from surprise import Dataset\n",
    "from surprise import Reader\n",
    "from surprise import accuracy"
   ]
  },
  {
   "cell_type": "markdown",
   "id": "41b5d9ab",
   "metadata": {},
   "source": [
    "## Import datasets"
   ]
  },
  {
   "cell_type": "code",
   "execution_count": 35,
   "id": "44e73bfd",
   "metadata": {},
   "outputs": [
    {
     "data": {
      "text/html": [
       "<div>\n",
       "<style scoped>\n",
       "    .dataframe tbody tr th:only-of-type {\n",
       "        vertical-align: middle;\n",
       "    }\n",
       "\n",
       "    .dataframe tbody tr th {\n",
       "        vertical-align: top;\n",
       "    }\n",
       "\n",
       "    .dataframe thead th {\n",
       "        text-align: right;\n",
       "    }\n",
       "</style>\n",
       "<table border=\"1\" class=\"dataframe\">\n",
       "  <thead>\n",
       "    <tr style=\"text-align: right;\">\n",
       "      <th></th>\n",
       "      <th>user_id</th>\n",
       "      <th>movie_id</th>\n",
       "      <th>rating</th>\n",
       "    </tr>\n",
       "  </thead>\n",
       "  <tbody>\n",
       "    <tr>\n",
       "      <th>0</th>\n",
       "      <td>1198</td>\n",
       "      <td>434</td>\n",
       "      <td>5</td>\n",
       "    </tr>\n",
       "    <tr>\n",
       "      <th>1</th>\n",
       "      <td>5949</td>\n",
       "      <td>1729</td>\n",
       "      <td>4</td>\n",
       "    </tr>\n",
       "    <tr>\n",
       "      <th>2</th>\n",
       "      <td>5046</td>\n",
       "      <td>308</td>\n",
       "      <td>5</td>\n",
       "    </tr>\n",
       "    <tr>\n",
       "      <th>3</th>\n",
       "      <td>3735</td>\n",
       "      <td>909</td>\n",
       "      <td>4</td>\n",
       "    </tr>\n",
       "    <tr>\n",
       "      <th>4</th>\n",
       "      <td>5960</td>\n",
       "      <td>2918</td>\n",
       "      <td>4</td>\n",
       "    </tr>\n",
       "  </tbody>\n",
       "</table>\n",
       "</div>"
      ],
      "text/plain": [
       "   user_id  movie_id  rating\n",
       "0     1198       434       5\n",
       "1     5949      1729       4\n",
       "2     5046       308       5\n",
       "3     3735       909       4\n",
       "4     5960      2918       4"
      ]
     },
     "execution_count": 35,
     "metadata": {},
     "output_type": "execute_result"
    }
   ],
   "source": [
    "data = pd.read_csv('./datasets/merged.csv')\n",
    "train = pd.read_csv('./datasets/train.csv')\n",
    "test = pd.read_csv('./datasets/test.csv')\n",
    "\n",
    "train.head()"
   ]
  },
  {
   "cell_type": "code",
   "execution_count": 36,
   "id": "688cbc85",
   "metadata": {},
   "outputs": [],
   "source": [
    "# Define the reader object and load the data into Surprise's dataset format\n",
    "reader = Reader(rating_scale=(1, 5))\n",
    "trainset, testset = Dataset.load_from_df(train, reader), Dataset.load_from_df(test, reader)\n",
    "trainset, testset = trainset.build_full_trainset(), testset.build_full_trainset().build_testset()"
   ]
  },
  {
   "cell_type": "markdown",
   "id": "f2527582-227f-49b9-ac1b-52ad789a56d3",
   "metadata": {},
   "source": [
    "# Item-based KNN collaborative filtering model \n",
    "- input user_id & desired number of similar users, and will recommend movies rated by similar users  "
   ]
  },
  {
   "cell_type": "markdown",
   "id": "375b2ed3",
   "metadata": {},
   "source": [
    "#### Why KNN?"
   ]
  },
  {
   "cell_type": "markdown",
   "id": "301b6383",
   "metadata": {},
   "source": [
    "1. Simplicity and Interpretability\n",
    "\n",
    "2. Collaborative Filtering\n",
    "\n",
    "KNN works well in collaborative filtering, a common approach in recommendation systems. This is where the algorithm recommends movies based on similarities between users (user-based collaborative filtering) or between movies (item-based collaborative filtering). For example, in item-based filtering, KNN recommends movies similar to the ones a user has liked in the past by comparing the movie’s features.\n",
    "\n",
    "3. Good for Small to Medium Datasets\n",
    "\n",
    "KNN performs relatively well on small to medium datasets without requiring extensive training. Since it operates by calculating distances between data points, it works best when the dataset isn’t too large or when computing power is sufficient. For larger datasets, optimizations or alternative models like matrix factorization or deep learning might be necessary.\n",
    "\n",
    "4. Adaptability to Feature Similarity\n",
    "\n",
    "KNN can be adapted to various similarity metrics, such as Euclidean distance, cosine similarity, or Pearson correlation, depending on how you define movie similarity. For instance, cosine similarity might work well when comparing users’ rating patterns or the attributes of movies.\n",
    "\n",
    "5. Cold Start Problem\n",
    "\n",
    "However, KNN is computationally expensive when dealing with very large datasets and may not capture complex relationships between movies or users as effectively as other models (e.g., matrix factorization or deep learning)."
   ]
  },
  {
   "cell_type": "markdown",
   "id": "97564f3d",
   "metadata": {},
   "source": [
    "Surpise KNNBasic model documentation : https://surprise.readthedocs.io/en/stable/knn_inspired.html"
   ]
  },
  {
   "cell_type": "markdown",
   "id": "53408d92",
   "metadata": {},
   "source": [
    "### Distancing & Error metric"
   ]
  },
  {
   "cell_type": "markdown",
   "id": "3365b815",
   "metadata": {},
   "source": [
    "> Similarity Measures\n",
    "\n",
    "Cosine and Pearson similarity measures are commonly used in KNN-based collaborative filtering because they help quantify the degree of similarity between two vectors (users or items) based on their rating patterns. \n"
   ]
  },
  {
   "cell_type": "markdown",
   "id": "3a7a104d",
   "metadata": {},
   "source": [
    "<b> Similarity measures </b>\n",
    "\n",
    "> Cosine Similarity\n",
    "\n",
    "Cosine similarity measures the cosine of the angle between two non-zero vectors (such as user or item rating vectors) in an n-dimensional space\n",
    "\n",
    "- Independent of Magnitude: \n",
    "\n",
    "        Cosine similarity focuses on the direction rather than the magnitude of the vectors. users may rate movies very differently in absolute terms, but if the pattern of their ratings (e.g., which movies they rate high or low) is similar, they will be considered similar.\n",
    "\n",
    "- Good for Sparse Data: \n",
    "\n",
    "        Cosine similarity works well in cases where the user-item matrix is sparse (contains many missing values). Since it only looks at the ratings for items both users have rated, it ignores missing values.\n",
    "\n",
    "- Captures Similar Preferences: \n",
    "\n",
    "        Cosine similarity captures how similarly users behave in terms of their preferences (even if their ratings scale is different), which is especially useful when recommending items based on similar preferences.\n",
    "\n",
    "> Pearson Correlation\n",
    "\n",
    "Pearson correlation measures the linear correlation between two variables. It evaluates how well the ratings of two users (or items) can be described as a linear relationship.\n",
    "\n",
    "- Removes Rating Bias: \n",
    "\n",
    "        Pearson correlation centers the ratings by subtracting the user’s average rating. This is important because some users tend to give generally higher ratings than others. Pearson correlation can capture how users deviate from their own average behavior, allowing it to ignore differences in absolute rating levels.\n",
    "- Captures Linear Relationships: \n",
    "\n",
    "        Pearson correlation is useful when you’re interested in linear relationships between users or items. For example, if two users consistently rate movies relative to their preferences (e.g., one user may rate 4, 5, 3, and another may rate 2, 3, 1), Pearson will capture that they have similar relative preferences.\n",
    "- Normalizes Ratings: \n",
    "\n",
    "        Since it normalizes the ratings by subtracting the mean, Pearson correlation is effective when users have different rating scales. It focuses on the relative difference in ratings rather than absolute scores.\n"
   ]
  },
  {
   "cell_type": "markdown",
   "id": "d00e190e",
   "metadata": {},
   "source": [
    "> Error metrics\n",
    "- MSE evaluates how closely the predicted ratings match the true ratings\n",
    "- MSE is the square root of MSE, which makes it more interpretable because it’s in the same units as the ratings \n",
    "- MAE measures the average magnitude of errors between predicted and true ratings, without considering the direction of the errors"
   ]
  },
  {
   "cell_type": "markdown",
   "id": "55a71dbf",
   "metadata": {},
   "source": [
    "### Hyperparameter tuning"
   ]
  },
  {
   "cell_type": "code",
   "execution_count": 27,
   "id": "cebcfd72",
   "metadata": {},
   "outputs": [
    {
     "name": "stdout",
     "output_type": "stream",
     "text": [
      "For k value : 35 --> KNN item-based collaborative filtering model\n",
      "RMSE: 0.8943\n",
      "MAE:  0.6950\n",
      "RMSE: 0.9982\n",
      "MAE:  0.7791\n",
      "For k value : 36 --> KNN item-based collaborative filtering model\n",
      "RMSE: 0.8958\n",
      "MAE:  0.6963\n",
      "RMSE: 0.9981\n",
      "MAE:  0.7791\n",
      "For k value : 37 --> KNN item-based collaborative filtering model\n",
      "RMSE: 0.8973\n",
      "MAE:  0.6975\n",
      "RMSE: 0.9980\n",
      "MAE:  0.7791\n",
      "For k value : 38 --> KNN item-based collaborative filtering model\n",
      "RMSE: 0.8986\n",
      "MAE:  0.6987\n",
      "RMSE: 0.9980\n",
      "MAE:  0.7792\n",
      "For k value : 39 --> KNN item-based collaborative filtering model\n",
      "RMSE: 0.9000\n",
      "MAE:  0.6998\n",
      "RMSE: 0.9979\n",
      "MAE:  0.7791\n",
      "For k value : 40 --> KNN item-based collaborative filtering model\n",
      "RMSE: 0.9015\n",
      "MAE:  0.7010\n",
      "RMSE: 0.9978\n",
      "MAE:  0.7791\n",
      "For k value : 41 --> KNN item-based collaborative filtering model\n",
      "RMSE: 0.9028\n",
      "MAE:  0.7020\n",
      "RMSE: 0.9979\n",
      "MAE:  0.7793\n",
      "For k value : 42 --> KNN item-based collaborative filtering model\n",
      "RMSE: 0.9040\n",
      "MAE:  0.7031\n",
      "RMSE: 0.9978\n",
      "MAE:  0.7793\n",
      "For k value : 43 --> KNN item-based collaborative filtering model\n",
      "RMSE: 0.9053\n",
      "MAE:  0.7041\n",
      "RMSE: 0.9978\n",
      "MAE:  0.7794\n",
      "For k value : 44 --> KNN item-based collaborative filtering model\n",
      "RMSE: 0.9065\n",
      "MAE:  0.7052\n",
      "RMSE: 0.9978\n",
      "MAE:  0.7795\n",
      "For k value : 45 --> KNN item-based collaborative filtering model\n",
      "RMSE: 0.9077\n",
      "MAE:  0.7062\n",
      "RMSE: 0.9979\n",
      "MAE:  0.7795\n",
      "For k value : 46 --> KNN item-based collaborative filtering model\n",
      "RMSE: 0.9088\n",
      "MAE:  0.7072\n",
      "RMSE: 0.9979\n",
      "MAE:  0.7796\n"
     ]
    }
   ],
   "source": [
    "train_rmses, train_maes, test_rmses, test_maes = [], [], [], []\n",
    "ks = list(range(35, 47, 1))\n",
    "\n",
    "for k in ks:\n",
    "\n",
    "    print(\"For k value : {} --> KNN item-based collaborative filtering model\".format(k))\n",
    "\n",
    "    # Define the KNNBasic algorithm parameters\n",
    "    sim_options = {\n",
    "        'name': 'cosine',\n",
    "        'user_based': False,  # Set to False to use item-based collaborative filtering\n",
    "    }\n",
    "\n",
    "    # Create the KNN model\n",
    "    knn_model = KNNBasic(k=k, sim_options=sim_options, verbose = False)\n",
    "\n",
    "    # Train the model on the training set\n",
    "    knn_model.fit(trainset)\n",
    "\n",
    "    # Get predictions & accuracy for the training set\n",
    "    train_predictions = knn_model.test(trainset.build_testset())\n",
    "    train_rmse = accuracy.rmse(train_predictions)\n",
    "    train_mae = accuracy.mae(train_predictions)\n",
    "    train_rmses.append(train_rmse)\n",
    "    train_maes.append(train_mae)\n",
    "\n",
    "\n",
    "    # Get predictions & accuracy for the test set\n",
    "    predictions = knn_model.test(testset)\n",
    "\n",
    "    test_rmses.append(accuracy.rmse(predictions))\n",
    "    test_maes.append(accuracy.mae(predictions))\n"
   ]
  },
  {
   "cell_type": "code",
   "execution_count": 28,
   "id": "a925f77d",
   "metadata": {},
   "outputs": [
    {
     "name": "stdout",
     "output_type": "stream",
     "text": [
      "Ks :  [35, 36, 37, 38, 39, 40, 41, 42, 43, 44, 45, 46]\n",
      "Train RMSE :  [0.8942717475257902, 0.8957935969527088, 0.8972519055678716, 0.8986386377535697, 0.9000292687032027, 0.9014510006222295, 0.9027820105135707, 0.9040358289912915, 0.9052782359254624, 0.9064980744768718, 0.9076762093700568, 0.9088384925040133]\n",
      "Test RMSE :  [0.9981712707454355, 0.9980943438717678, 0.9980174959136755, 0.9979906180770853, 0.9978503812223473, 0.9978326617962954, 0.9978549635986381, 0.9978028930284678, 0.9977796968525564, 0.997846133540571, 0.9979255577414622, 0.9979389558119995]\n",
      "Train MAE :  [0.6950125930861831, 0.6962708848503845, 0.6975042467103026, 0.6986760400874571, 0.6997998251731598, 0.7009546382961473, 0.7020353814597728, 0.7030737614127306, 0.7041309587090449, 0.7051646598612699, 0.7061621993220617, 0.7071530187538249]\n",
      "Test MAE :  [0.779068431414486, 0.7790541857052193, 0.7791363787209876, 0.7791969515526336, 0.7790736855907505, 0.7791399284605834, 0.7792536826210009, 0.7793029912219621, 0.7793505493865072, 0.7794512364340948, 0.7795369815118522, 0.7796226958429326]\n"
     ]
    }
   ],
   "source": [
    "\"\"\"\n",
    "Ks :  [5, 10, 15, 20, 25, 30, 35, 40, 45, 50, 55, 60, 65, 70, 75, 80, 85, 90, 95]\n",
    "Train RMSE :  [0.7793636868439465, 0.8227726884361647, 0.8460848873582878, 0.8623359331166043, 0.8745910282979678, 0.8843737542514639, 0.8927737578256102, 0.899887388266644, 0.9061536107125806, 0.9116928308439499, 0.916684944605763, 0.9211579892038986, 0.9253347863638701, 0.929151365932699, 0.9327231288356129, 0.9360488616153929, 0.9390868669399419, 0.9419645730348497, 0.9446622809124469]\n",
    "Train MAE :  [0.5924613296707559, 0.6355125161003281, 0.6556883500336964, 0.6692554913193154, 0.6793641915687684, 0.6874359526890961, 0.6944267473389668, 0.7003875921146165, 0.7057047515606564, 0.7104279002187686, 0.7148025717397848, 0.7187393011897457, 0.7224877888803295, 0.7259258406479884, 0.7291500970635431, 0.7321855318284509, 0.7350213700772928, 0.7376852465079435, 0.7402055133519454]\n",
    "Test RMSE :  [1.09113468305196, 1.0367183743019732, 1.0177870555002873, 1.0090300131424663, 1.0047541674112075, 1.0020744247534925, 1.0006542860640322, 1.000071198947029, 0.9998105711557628, 0.9999995060457173, 1.000169318002006, 1.0004425712084575, 1.0008029875716187, 1.001388483876409, 1.0019836440310423, 1.0024414261504313, 1.0031280507987097, 1.003770584224303, 1.0043444603775868]\n",
    "Test MAE :  [0.8438602110904961, 0.8055631163801058, 0.7919512970942335, 0.7860054060199522, 0.7832101637284969, 0.7815951812560412, 0.7808312830701344, 0.7807666191278518, 0.7809335347305092, 0.7814481397265474, 0.7819929537691004, 0.7825829464338115, 0.783273563599371, 0.7841266071262301, 0.7850367587194621, 0.7858645706406273, 0.7868422125379873, 0.7877082593358835, 0.7885813017249352]\n",
    "\n",
    "Ks :  [40, 41, 42, 43, 44, 45, 46, 47, 48, 49, 50]\n",
    "Train RMSE :  [0.899887388266644, 0.9012299091802305, 0.9025175146292307, 0.9037707314426078, 0.9049871407590719, 0.9061536107125806, 0.9073037846390348, 0.9084673843570331, 0.9095453413592125, 0.9106136789224871, 0.9116928308439499]\n",
    "Test RMSE :  [1.000071198947029, 1.0000294269982832, 0.9999851293503367, 0.9998931428318999, 0.9998134504273414, 0.9998105711557628, 0.9998184303713664, 0.9998957603509276, 0.9999306274399361, 0.9999786358806374, 0.9999995060457173]\n",
    "Train MAE :  [0.7003875921146165, 0.7015355806266379, 0.702615748837752, 0.7036876872756077, 0.7047185665465391, 0.7057047515606564, 0.706689640317092, 0.707660873108066, 0.7085736405248557, 0.7095051024748853, 0.7104279002187686]\n",
    "Test MAE :  [0.7807666191278518, 0.7808375812588236, 0.7808904633155902, 0.7809065644817833, 0.7808865233889343, 0.7809335347305092, 0.7810128168648952, 0.7811842578271277, 0.7812429541984895, 0.7813235744465197, 0.7814481397265474]\n",
    "\n",
    "Ks :  [35, 36, 37, 38, 39, 40, 41, 42, 43, 44, 45, 46]\n",
    "Train RMSE :  [0.8942717475257902, 0.8957935969527088, 0.8972519055678716, 0.8986386377535697, 0.9000292687032027, 0.9014510006222295, 0.9027820105135707, 0.9040358289912915, 0.9052782359254624, 0.9064980744768718, 0.9076762093700568, 0.9088384925040133]\n",
    "Test RMSE :  [0.9981712707454355, 0.9980943438717678, 0.9980174959136755, 0.9979906180770853, 0.9978503812223473, 0.9978326617962954, 0.9978549635986381, 0.9978028930284678, 0.9977796968525564, 0.997846133540571, 0.9979255577414622, 0.9979389558119995]\n",
    "Train MAE :  [0.6950125930861831, 0.6962708848503845, 0.6975042467103026, 0.6986760400874571, 0.6997998251731598, 0.7009546382961473, 0.7020353814597728, 0.7030737614127306, 0.7041309587090449, 0.7051646598612699, 0.7061621993220617, 0.7071530187538249]\n",
    "Test MAE :  [0.779068431414486, 0.7790541857052193, 0.7791363787209876, 0.7791969515526336, 0.7790736855907505, 0.7791399284605834, 0.7792536826210009, 0.7793029912219621, 0.7793505493865072, 0.7794512364340948, 0.7795369815118522, 0.7796226958429326]\n",
    "\n",
    "\"\"\"\n",
    "\n",
    "# Print RMSE and MAE scores of train and test set\n",
    "print(\"Ks : \", ks)\n",
    "print(\"Train RMSE : \", train_rmses)\n",
    "print(\"Test RMSE : \", test_rmses)\n",
    "print(\"Train MAE : \", train_maes)\n",
    "print(\"Test MAE : \", test_maes)"
   ]
  },
  {
   "cell_type": "code",
   "execution_count": 29,
   "id": "07076139",
   "metadata": {},
   "outputs": [
    {
     "data": {
      "text/plain": [
       "<AxesSubplot:title={'center':'MAE of KNN clf model on k'}>"
      ]
     },
     "execution_count": 29,
     "metadata": {},
     "output_type": "execute_result"
    },
    {
     "data": {
      "image/png": "[encoded data removed]",
      "text/plain": [
       "<Figure size 432x288 with 1 Axes>"
      ]
     },
     "metadata": {
      "needs_background": "light"
     },
     "output_type": "display_data"
    },
    {
     "data": {
      "image/png": "[encoded data removed]",
      "text/plain": [
       "<Figure size 432x288 with 1 Axes>"
      ]
     },
     "metadata": {
      "needs_background": "light"
     },
     "output_type": "display_data"
    }
   ],
   "source": [
    "rmses = pd.DataFrame({\n",
    "    #\"train_rmses\": train_rmses, \n",
    "    \"test_rmses\": test_rmses, \n",
    "}, index = ks\n",
    ")\n",
    "\n",
    "maes = pd.DataFrame({\n",
    "    #\"train_maes\": train_maes,\n",
    "    \"test_maes\": test_maes,\n",
    "}, index = ks\n",
    ")\n",
    "\n",
    "rmses.plot(title= \"RMSE of KNN clf model on k\")\n",
    "maes.plot(title= \"MAE of KNN clf model on k\")"
   ]
  },
  {
   "cell_type": "markdown",
   "id": "b116b7e5",
   "metadata": {},
   "source": [
    "## Final model development"
   ]
  },
  {
   "cell_type": "markdown",
   "id": "f2e869de",
   "metadata": {},
   "source": [
    "Optimal k value is 40. Considering train_rmse, test_rmse, test_mae"
   ]
  },
  {
   "cell_type": "code",
   "execution_count": 37,
   "id": "6d31d8dd",
   "metadata": {},
   "outputs": [
    {
     "name": "stdout",
     "output_type": "stream",
     "text": [
      "RMSE: 0.9015\n",
      "MAE:  0.7010\n",
      "RMSE: 0.9978\n",
      "MAE:  0.7791\n"
     ]
    },
    {
     "data": {
      "text/plain": [
       "0.7791399284605834"
      ]
     },
     "execution_count": 37,
     "metadata": {},
     "output_type": "execute_result"
    }
   ],
   "source": [
    "k_value = 40\n",
    "\n",
    "# Create the KNN model\n",
    "knn_clf = KNNBasic(k=k_value, sim_options=sim_options, verbose = False)\n",
    "\n",
    "# Train the model on the training set\n",
    "knn_clf.fit(trainset)\n",
    "\n",
    "# Get predictions & accuracy for the training set\n",
    "train_predictions = knn_clf.test(trainset.build_testset())\n",
    "accuracy.rmse(train_predictions)\n",
    "accuracy.mae(train_predictions)\n",
    "\n",
    "# Get predictions & accuracy for the test set\n",
    "predictions = knn_clf.test(testset)\n",
    "accuracy.rmse(predictions)\n",
    "accuracy.mae(predictions)"
   ]
  },
  {
   "cell_type": "code",
   "execution_count": 39,
   "id": "bea95533",
   "metadata": {},
   "outputs": [
    {
     "name": "stdout",
     "output_type": "stream",
     "text": [
      "Top movie recommendations for user 1: [(3209, 5), (657, 5), (127, 5), (3323, 5), (3382, 5)]\n"
     ]
    }
   ],
   "source": [
    "# Function to recommend movies for a given user\n",
    "def get_movie_recommendations(user_id, k=5):\n",
    "    # Get all movie IDs\n",
    "    all_movie_ids = data['movie_id'].unique()\n",
    "    \n",
    "    # Get movie IDs that the user has already rated\n",
    "    user_rated_movies = data[data['user_id'] == user_id]['movie_id'].tolist()\n",
    "    \n",
    "    # Predict ratings for all movies that the user hasn't rated\n",
    "    movie_predictions = []\n",
    "    for movie_id in all_movie_ids:\n",
    "        if movie_id not in user_rated_movies:\n",
    "            pred = knn_clf.predict(user_id, movie_id)\n",
    "            movie_predictions.append((movie_id, pred.est))\n",
    "    \n",
    "    # Sort by predicted rating and return top k recommendations\n",
    "    movie_predictions.sort(key=lambda x: x[1], reverse=True)\n",
    "    top_k_recommendations = movie_predictions[:k]\n",
    "    \n",
    "    return top_k_recommendations\n",
    "\n",
    "# Example: Get movie recommendations for user with ID 1\n",
    "recommendations = get_movie_recommendations(1)\n",
    "print(f\"Top movie recommendations for user 1: {recommendations}\")"
   ]
  },
  {
   "cell_type": "code",
   "execution_count": 38,
   "id": "994ba357",
   "metadata": {},
   "outputs": [],
   "source": [
    "import pickle\n",
    "\n",
    "# Save the model to a file\n",
    "with open('./models/knn_clf.pkl', 'wb') as file:\n",
    "    pickle.dump(knn_clf, file)\n"
   ]
  },
  {
   "cell_type": "markdown",
   "id": "58f4e974-b935-4c56-8588-7ee8f783e29f",
   "metadata": {},
   "source": [
    "# Scratchpad"
   ]
  },
  {
   "cell_type": "markdown",
   "id": "4a1d9f5d",
   "metadata": {},
   "source": [
    "### Normalization by the average of individual user's rating\n",
    "\n",
    "Idea : Normalize by extracting mean value per user based on the non-zero ratings of each user to non-zero ratings in the user-item matrix.\n",
    "\n",
    "Modified matrix will have value ranging from -4 to 4 at theoratical maximum and minimum.\n",
    "NaN values from the original user_item matrix has no preference on each movie. In our new scale of data, 0 is still the value represents no preference. As both non-viewed movies and the movies received exact mean scores of non-zero ratings of the user will have 0 score."
   ]
  },
  {
   "cell_type": "code",
   "execution_count": 18,
   "id": "4cde6b61",
   "metadata": {},
   "outputs": [
    {
     "data": {
      "text/plain": [
       "user_id\n",
       "1       4.157895\n",
       "2       3.700000\n",
       "3       3.923077\n",
       "4       4.166667\n",
       "5       3.135714\n",
       "          ...   \n",
       "6036    3.326625\n",
       "6037    3.679487\n",
       "6038    3.812500\n",
       "6039    3.897959\n",
       "6040    3.575875\n",
       "Length: 6040, dtype: float64"
      ]
     },
     "execution_count": 18,
     "metadata": {},
     "output_type": "execute_result"
    }
   ],
   "source": [
    "# create user-item matrix \n",
    "user_to_movie = train.pivot(index = 'user_id', columns='movie_id', values='rating').fillna(0)\n",
    "user_item_matrix = train.pivot(index = 'user_id', columns = 'movie_id', values = 'rating').fillna(0)\n",
    "\n",
    "# Users' average rating on non-zero rating. We deal this rating as no preference. Neither good nor bad as well as non rated movies.\n",
    "user_rating_avg = user_item_matrix.apply(lambda row: row[row != 0].mean(), axis=1)\n",
    "\n",
    "# Function to apply subtraction based on a provided value list\n",
    "def subtract_non_zero_by_row(row, sub_value):\n",
    "    # Iterate through each element in the row and subtract the corresponding value only from non-zero elements\n",
    "    return [val - sub_value if val != 0 else val for val in row]\n",
    "\n",
    "# Apply the function row-by-row using the subtraction values list\n",
    "modified_df = user_item_matrix.apply(lambda row: subtract_non_zero_by_row(row, user_rating_avg[row.name]), axis=1, result_type='expand')"
   ]
  },
  {
   "cell_type": "code",
   "execution_count": 20,
   "id": "f0817ed0-9804-4bad-9f6b-a84fdc41b77c",
   "metadata": {},
   "outputs": [
    {
     "data": {
      "text/plain": [
       "<AxesSubplot:>"
      ]
     },
     "execution_count": 20,
     "metadata": {},
     "output_type": "execute_result"
    },
    {
     "data": {
      "image/png": "[encoded data removed]",
      "text/plain": [
       "<Figure size 432x288 with 1 Axes>"
      ]
     },
     "metadata": {
      "needs_background": "light"
     },
     "output_type": "display_data"
    }
   ],
   "source": [
    "# train KNN model\n",
    "from sklearn.neighbors import NearestNeighbors\n",
    "\n",
    "knn_cf = NearestNeighbors(metric='cosine', algorithm='brute')\n",
    "knn_cf.fit(modified_df)\n",
    "\n",
    "# Returns average rating per each movie based on the nearest k nearest neighbors found based on the preference on movies. Default is 5.\n",
    "def clf(user_id, k = 50):\n",
    "    user_idx = users[users['user_id'] == user_id].index\n",
    "    user_vect = modified_df.iloc[user_idx, :]\n",
    "\n",
    "    distances_cf, idx_cf = knn_cf.kneighbors(\n",
    "        user_vect,\n",
    "        n_neighbors = k\n",
    "    )\n",
    "\n",
    "    predicted_nn = modified_df.iloc[idx_cf[0]].apply(lambda row: row + user_rating_avg[row.name] , axis=1)\n",
    "\n",
    "    return predicted_nn.apply(np.mean, axis=0)\n",
    "\n",
    "prediction = clf(1)\n",
    "prediction.hist()\n",
    "\n",
    "def get_top_k_movies_rated(user_id, num_recommendations = 5):\n",
    "    return merged[merged['user_id'] == user_id].sort_values(\n",
    "        ['rating', 'timestamp'], \n",
    "        ascending = False\n",
    "    ).iloc[:num_recommendations]['title'].values\n",
    "\n",
    "\n",
    "def get_top_k_movie_recommendations(user_id, k, num_recommendations = 5):\n",
    "    # indices of top n movies.\n",
    "    movie_indices = clf(user_id, k).sort_values(ascending = False).iloc[:num_recommendations].index\n",
    "    return user_item_matrix.iloc[:, movie_indices].columns\n",
    "\n",
    "def print_knn_result(user_id, num_recommendations = 5):\n",
    "    print(f'Top {num_recommendations} movies rated by user {user_id}:')\n",
    "    for movie_name in get_top_k_movies_rated(user_id):\n",
    "        print(f'\\t{movie_name}')        \n",
    "\n",
    "    print(f'Recommended movies by similar users (collaborative filtering): ')\n",
    "    for recs in get_top_k_movie_recommendations(user_id):\n",
    "        print(f'\\t{recs}')\n",
    "\n",
    "print_knn_result(1)"
   ]
  },
  {
   "cell_type": "code",
   "execution_count": 86,
   "id": "7c10ce7a-e818-4508-b0b0-3a67b44216cb",
   "metadata": {},
   "outputs": [],
   "source": [
    "import numpy as np\n",
    "from pprint import pprint\n",
    "\n",
    "def get_similar_users(user, n = 5):\n",
    "    knn_input = np.asarray([user_to_movie.values[user-1]])\n",
    "        # get user's row from user-item matrix\n",
    "    distances, indices = knn.kneighbors(knn_input, n_neighbors = n+1)\n",
    "\n",
    "    print(\" \")\n",
    "    print(\"Top\", n, \"users who are very much similar to the User \", user, \"are: \")\n",
    "    for i in range(1,len(distances[0])):\n",
    "        print(i,\". User:\", indices[0][i]+1, \"separated by distance of\",distances[0][i])\n",
    "        \n",
    "    return indices.flatten()[1:] + 1, distances.flatten()[1:]\n",
    "\n",
    "def recommend_n_movies(user_id, n_similar_users, n_movie_recs):\n",
    "    print(f'Movies seen by User {user_id}:')\n",
    "    pprint(list(merged[merged['user_id'] == user_id]['title']))\n",
    "\n",
    "    # get n_similar_users and their cosine similarity distances\n",
    "    similar_users, distance_list = get_similar_users(user_id, n_similar_users)\n",
    "\n",
    "    # define weights to ratings by each similar user based on distance\n",
    "        # -> eliminates chance of decision manipulation by users relatively far from input user\n",
    "    weightage_list = distance_list / np.sum(distance_list)\n",
    "    \n",
    "    # get ratings of all movies from similar users\n",
    "    mov_ratings_sim_users = user_to_movie.loc[similar_users]\n",
    "    movies_id_list = user_to_movie.columns\n",
    "    \n",
    "    # transform to make it compatible for matrix operations\n",
    "    weightage_list = weightage_list[:, np.newaxis] + np.zeros(len(movies_id_list))\n",
    "    \n",
    "    # apply the weights to user ratings\n",
    "    new_rating_matrix = weightage_list * mov_ratings_sim_users\n",
    "    \n",
    "    # get the mean ratings\n",
    "    mean_rating_list = new_rating_matrix.sum(axis = 0)\n",
    "\n",
    "    # get n movie indices with the highest mean\n",
    "        # FIX: remove movies already seen by user\n",
    "    highest_score_idx = np.argsort(mean_rating_list)[::-1][:n_movie_recs]\n",
    "    rec_movie_ids = new_rating_matrix.iloc[:, highest_score_idx].columns\n",
    "    \n",
    "    print(\" \")\n",
    "    print(f\"Top {n_movie_recs} movie recommendations to user {user_id}:\")\n",
    "    rec_movies = []\n",
    "    for rec_movie_id in rec_movie_ids:\n",
    "        movie_title = movies[movies['movie_id'] == rec_movie_id]['title'].values[0]\n",
    "        rec_movies.append(movie_title)\n",
    "        print(f\"\\t{movie_title}\")\n",
    "\n",
    "    return rec_movies"
   ]
  },
  {
   "cell_type": "code",
   "execution_count": null,
   "id": "204255a1-156f-4cb8-89ef-ecd02eb67e9d",
   "metadata": {},
   "outputs": [],
   "source": [
    "# Fix wrong input by user\n",
    "from fuzzywuzzy import fuzz\n",
    "\n",
    "def get_title_from_id(id):\n",
    "    # convert idx to title\n",
    "    return movies[movies['movie_id'] == id]['title'].values[0]\n",
    "\n",
    "def get_id_from_title(title):\n",
    "    # convert title to idx\n",
    "    return movies[movies['title'] == title]['movie_id'].values[0]\n",
    "    \n",
    "def matching_score(a, b):\n",
    "    # calculate the Levenshtein distance to find closest title\n",
    "        # if exactly same score == 100\n",
    "    return fuzz.ratio(a, b) \n",
    "\n",
    "def find_closest_title(title):\n",
    "    leven_scores = list(enumerate(movies['title'].apply(matching_score, b = title)))\n",
    "    sorted_lev_scores = sorted(leven_scores, key = lambda x: x[1], reverse = True)\n",
    "\n",
    "    closest_idx = sorted_lev_scores[0][0]\n",
    "    closest_movie = movies.loc[closest_idx]\n",
    "    distance_score = sorted_lev_scores[0][1]\n",
    "\n",
    "    closest_movie_id = closest_movie['movie_id']\n",
    "    closest_movie_title = closest_movie['title']\n",
    "    \n",
    "    return (closest_movie_id, closest_movie_title, distance_score)\n",
    "\n",
    "def rec_movies_by_name(movie_name, n_movie_recs = 10):\n",
    "    closest_id, closest_movie, distance_score = find_closest_title(movie_name)\n",
    "    if distance_score != 100:\n",
    "        movie_name = closest_movie\n",
    "        print(f\"Did you mean {movie_name}?\")\n",
    "    \n",
    "    movie_id = get_id_from_title(movie_name)\n",
    "\n",
    "    knn_input = np.asarray([movie_to_user.values[movie_id]])\n",
    "\n",
    "    movie_ids_list = movie_to_user.index\n",
    "    n = min(len(movie_ids_list), n_movie_recs)\n",
    "        # if n_movie_recs goes over number of movies, revert to all movies\n",
    "    distances, indices = knn_movie_model.kneighbors(knn_input, n_neighbors = n + 1) \n",
    "\n",
    "    print(f\"Top {n} movies which are very similar to movie {movie_name} are: \\n\")\n",
    "    for i in range(1, len(distances[0])):\n",
    "        movie_id = movie_ids_list[indices[0][i]]\n",
    "        movie_title = get_title_from_id(movie_id)\n",
    "        print(movie_title)\n",
    "\n",
    "movie_title = 'willy woka choco'\n",
    "rec_movies_by_name(movie_title, 20)"
   ]
  },
  {
   "cell_type": "code",
   "execution_count": null,
   "id": "695353a5-c2d6-43a3-a385-b24280688faf",
   "metadata": {},
   "outputs": [],
   "source": [
    "# !! ARCHIVED !! For initial content-based rec model that takes movie name instead of user id as input\n",
    "# Fuzzy string matching to fix wrong movie input by user\n",
    "from pprint import pprint\n",
    "from fuzzywuzzy import fuzz\n",
    "\n",
    "def get_movie_from_idx(idx):\n",
    "    # get movie details from idx\n",
    "    title = content_rec.loc[idx, 'title']\n",
    "    year = content_rec.loc[idx, 'year']\n",
    "\n",
    "    return title, year\n",
    "    \n",
    "def get_idx_from_title(title):\n",
    "    # convert title to idx\n",
    "    return content_rec[content_rec['title'] == title].index.values[0]\n",
    "\n",
    "# Fix wrong input by user\n",
    "def matching_score(a, b):\n",
    "    # calculate the Levenshtein distance to find closest title\n",
    "        # if exactly same score == 100\n",
    "    return fuzz.ratio(a, b) \n",
    "    \n",
    "def find_closest_title(title):\n",
    "    leven_scores = list(enumerate(content_rec['title'].apply(matching_score, b = title)))\n",
    "    sorted_lev_scores = sorted(leven_scores, key = lambda x: x[1], reverse = True)\n",
    "\n",
    "    closest_idx = sorted_lev_scores[0][0]\n",
    "    closest_movie = content_rec.loc[closest_idx]\n",
    "    distance_score = sorted_lev_scores[0][1]\n",
    "\n",
    "    closest_movie_id = closest_movie['movie_id']\n",
    "    closest_movie_title = closest_movie['title']\n",
    "        \n",
    "    return (closest_movie_id, closest_movie_title, distance_score)"
   ]
  },
  {
   "cell_type": "code",
   "execution_count": null,
   "id": "05fb3b31",
   "metadata": {},
   "outputs": [],
   "source": [
    "\"\"\"\n",
    "from scipy.sparse import csr_matrix\n",
    "\n",
    "# since we're using cosine similarity, we can fill with 0 \n",
    "# cosine similarity does not take magnitude to account\n",
    "refined = merged.groupby(['user_id', 'movie_id'], as_index = False).agg({'rating': 'mean'})\n",
    "\n",
    "# create user-item matrix \n",
    "user_to_movie = refined.pivot(index = 'user_id', columns='movie_id', values='rating').fillna(0)\n",
    "# convert to csr matrix for efficiency (sparse matrix optimization)\n",
    "user_to_movie_sparse = csr_matrix(user_to_movie.values)\n",
    "\n",
    "user_item_matrix = merged.pivot(index = 'user_id', columns = 'title', values = 'rating').fillna(0)\n",
    "user_item_csr = csr_matrix(user_item_matrix.values)\n",
    "user_item_matrix\n",
    "\"\"\""
   ]
  },
  {
   "cell_type": "code",
   "execution_count": null,
   "id": "a821a9aa",
   "metadata": {},
   "outputs": [],
   "source": [
    "\n"
   ]
  },
  {
   "cell_type": "code",
   "execution_count": null,
   "id": "e6d74bbb",
   "metadata": {},
   "outputs": [],
   "source": []
  },
  {
   "cell_type": "code",
   "execution_count": null,
   "id": "9b25c9d4",
   "metadata": {},
   "outputs": [],
   "source": []
  }
 ],
 "metadata": {
  "kernelspec": {
   "display_name": "Python 3 (ipykernel)",
   "language": "python",
   "name": "python3"
  },
  "language_info": {
   "codemirror_mode": {
    "name": "ipython",
    "version": 3
   },
   "file_extension": ".py",
   "mimetype": "text/x-python",
   "name": "python",
   "nbconvert_exporter": "python",
   "pygments_lexer": "ipython3",
   "version": "3.8.8"
  }
 },
 "nbformat": 4,
 "nbformat_minor": 5
}
