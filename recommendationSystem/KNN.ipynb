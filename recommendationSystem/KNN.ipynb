{
 "cells": [
  {
   "cell_type": "code",
   "execution_count": 1,
   "id": "a0bb0e8f-f75d-42a2-b7ba-8fcd7fc241ec",
   "metadata": {},
   "outputs": [
    {
     "name": "stderr",
     "output_type": "stream",
     "text": [
      "/Users/kidongkim/opt/anaconda3/lib/python3.8/site-packages/scipy/__init__.py:146: UserWarning: A NumPy version >=1.16.5 and <1.23.0 is required for this version of SciPy (detected version 1.24.4\n",
      "  warnings.warn(f\"A NumPy version >={np_minversion} and <{np_maxversion}\"\n"
     ]
    }
   ],
   "source": [
    "import numpy as np\n",
    "import pandas as pd\n",
    "import matplotlib.pyplot as plt\n",
    "import seaborn as sns"
   ]
  },
  {
   "cell_type": "markdown",
   "id": "2afdf5c7-6b83-48fa-8590-254b01e1b5a8",
   "metadata": {},
   "source": [
    "### Data formats\n",
    "\"ratings.dat\" file format - UserID::MovieID::Rating::Timestamp\n",
    "- UserIDs range between 1 and 6040 \n",
    "- MovieIDs range between 1 and 3952\n",
    "- Ratings are made on a 5-star scale (whole-star ratings only)\n",
    "- Timestamp is represented in seconds since the epoch as returned by time(2)\n",
    "- Each user has at least 20 ratings\n",
    "\n",
    "\n",
    "\"movies.dat\" format - MovieID::Title::Genres\n",
    "- Genres are pipe-separated and are selected from the following genres: [Action, Adventure, Animation, Children's, Comedy, Crime, Documentary, Drama, Fantasy, Film-Noir, Horror, Musical, Mystery, Romance, Sci-Fi, Thriller, War, Western]\n",
    "- Titles are identical to titles provided by the IMDB (including\n",
    "year of release)\n",
    "- Some MovieIDs do not correspond to a movie due to accidental duplicate\n",
    "entries and/or test entries\n",
    "- Movies are mostly entered by hand, so errors and inconsistencies may exist\n",
    "\n",
    "\n",
    "\"users.dat\" file format - UserID::Gender::Age::Occupation::Zip-code\n",
    "- Gender is denoted by a \"M\" for male and \"F\" for female\n",
    "- Age is chosen from the following ranges: {1:  \"Under 18\", 18:  \"18-24\", 25:  \"25-34\", 35:  \"35-44\", 45:  \"45-49\", 50:  \"50-55\", 56:  \"56+\"}\n",
    "\n",
    "- Occupation is chosen from the following choices: {0:  \"other\" or \"not specified\", 1:  \"academic/educator\", 2:  \"artist\", 3:  \"clerical/admin\", 4:  \"college/grad student\", 5:  \"customer service\", 6:  \"doctor/health care\", 7:  \"executive/managerial\", 8:  \"farmer\", 9:  \"homemaker\", 10:  \"K-12 student\", 11:  \"lawyer\", 12:  \"programmer\", 13:  \"retired\", 14:  \"sales/marketing\", 15:  \"scientist\", 16:  \"self-employed\", 17:  \"technician/engineer\", 18:  \"tradesman/craftsman\", 19:  \"unemployed\", 20:  \"writer\"}"
   ]
  },
  {
   "cell_type": "code",
   "execution_count": 2,
   "id": "aacb90df-2971-405c-bb56-fdc91a6e1ab5",
   "metadata": {},
   "outputs": [],
   "source": [
    "ratings = pd.read_csv('./cleaned_datasets/ratings.dat', \n",
    "                 delimiter='::', \n",
    "                 encoding='latin1', \n",
    "                 engine = 'python', \n",
    "                 header = None,\n",
    "                 names = ['user_id', 'movie_id', 'rating', 'timestamp']\n",
    ")\n",
    "movies = pd.read_csv('./cleaned_datasets/movies.dat', \n",
    "                 delimiter='::', \n",
    "                 encoding = 'latin1',\n",
    "                 header = None,\n",
    "                 engine = 'python',\n",
    "                 names = ['movie_id', 'title', 'genres']\n",
    ")\n",
    "users = pd.read_csv('./cleaned_datasets/users.dat', \n",
    "                 delimiter='::', \n",
    "                 encoding='latin1', \n",
    "                 engine = 'python', \n",
    "                 header = None,\n",
    "                 names = ['user_id', 'gender', 'age', 'occupation', 'zip_code']\n",
    ")"
   ]
  },
  {
   "cell_type": "code",
   "execution_count": 3,
   "id": "f1fbdb0e-203a-4cc7-94ce-a559b51715f7",
   "metadata": {},
   "outputs": [
    {
     "data": {
      "text/html": [
       "<div>\n",
       "<style scoped>\n",
       "    .dataframe tbody tr th:only-of-type {\n",
       "        vertical-align: middle;\n",
       "    }\n",
       "\n",
       "    .dataframe tbody tr th {\n",
       "        vertical-align: top;\n",
       "    }\n",
       "\n",
       "    .dataframe thead th {\n",
       "        text-align: right;\n",
       "    }\n",
       "</style>\n",
       "<table border=\"1\" class=\"dataframe\">\n",
       "  <thead>\n",
       "    <tr style=\"text-align: right;\">\n",
       "      <th></th>\n",
       "      <th>user_id</th>\n",
       "      <th>movie_id</th>\n",
       "      <th>rating</th>\n",
       "      <th>timestamp</th>\n",
       "    </tr>\n",
       "  </thead>\n",
       "  <tbody>\n",
       "    <tr>\n",
       "      <th>825438</th>\n",
       "      <td>4958</td>\n",
       "      <td>1407</td>\n",
       "      <td>5</td>\n",
       "      <td>2003-02-28 09:47:23</td>\n",
       "    </tr>\n",
       "    <tr>\n",
       "      <th>984025</th>\n",
       "      <td>5948</td>\n",
       "      <td>1180</td>\n",
       "      <td>5</td>\n",
       "      <td>2003-02-28 05:11:19</td>\n",
       "    </tr>\n",
       "    <tr>\n",
       "      <th>984632</th>\n",
       "      <td>5950</td>\n",
       "      <td>3196</td>\n",
       "      <td>5</td>\n",
       "      <td>2003-02-27 09:54:22</td>\n",
       "    </tr>\n",
       "    <tr>\n",
       "      <th>984849</th>\n",
       "      <td>5950</td>\n",
       "      <td>111</td>\n",
       "      <td>5</td>\n",
       "      <td>2003-02-27 09:50:41</td>\n",
       "    </tr>\n",
       "    <tr>\n",
       "      <th>984825</th>\n",
       "      <td>5950</td>\n",
       "      <td>2329</td>\n",
       "      <td>5</td>\n",
       "      <td>2003-02-27 09:45:48</td>\n",
       "    </tr>\n",
       "  </tbody>\n",
       "</table>\n",
       "</div>"
      ],
      "text/plain": [
       "        user_id  movie_id  rating           timestamp\n",
       "825438     4958      1407       5 2003-02-28 09:47:23\n",
       "984025     5948      1180       5 2003-02-28 05:11:19\n",
       "984632     5950      3196       5 2003-02-27 09:54:22\n",
       "984849     5950       111       5 2003-02-27 09:50:41\n",
       "984825     5950      2329       5 2003-02-27 09:45:48"
      ]
     },
     "execution_count": 3,
     "metadata": {},
     "output_type": "execute_result"
    }
   ],
   "source": [
    "from datetime import datetime\n",
    "\n",
    "# TODO: later change to hive.sql\n",
    "ratings['timestamp'] = ratings['timestamp'].apply(lambda timestamp: datetime.fromtimestamp(timestamp))\n",
    "\n",
    "ratings = ratings.sort_values(['rating', 'timestamp'], ascending = [False, False])\n",
    "ratings.head()"
   ]
  },
  {
   "cell_type": "code",
   "execution_count": 4,
   "id": "24229430-77ac-43de-b57c-0a8a7b4e222f",
   "metadata": {},
   "outputs": [
    {
     "data": {
      "text/html": [
       "<div>\n",
       "<style scoped>\n",
       "    .dataframe tbody tr th:only-of-type {\n",
       "        vertical-align: middle;\n",
       "    }\n",
       "\n",
       "    .dataframe tbody tr th {\n",
       "        vertical-align: top;\n",
       "    }\n",
       "\n",
       "    .dataframe thead th {\n",
       "        text-align: right;\n",
       "    }\n",
       "</style>\n",
       "<table border=\"1\" class=\"dataframe\">\n",
       "  <thead>\n",
       "    <tr style=\"text-align: right;\">\n",
       "      <th></th>\n",
       "      <th>movie_id</th>\n",
       "      <th>title</th>\n",
       "      <th>genres</th>\n",
       "    </tr>\n",
       "  </thead>\n",
       "  <tbody>\n",
       "    <tr>\n",
       "      <th>0</th>\n",
       "      <td>1</td>\n",
       "      <td>Toy Story (1995)</td>\n",
       "      <td>Animation|Children's|Comedy</td>\n",
       "    </tr>\n",
       "    <tr>\n",
       "      <th>1</th>\n",
       "      <td>2</td>\n",
       "      <td>Jumanji (1995)</td>\n",
       "      <td>Adventure|Children's|Fantasy</td>\n",
       "    </tr>\n",
       "    <tr>\n",
       "      <th>2</th>\n",
       "      <td>3</td>\n",
       "      <td>Grumpier Old Men (1995)</td>\n",
       "      <td>Comedy|Romance</td>\n",
       "    </tr>\n",
       "    <tr>\n",
       "      <th>3</th>\n",
       "      <td>4</td>\n",
       "      <td>Waiting to Exhale (1995)</td>\n",
       "      <td>Comedy|Drama</td>\n",
       "    </tr>\n",
       "    <tr>\n",
       "      <th>4</th>\n",
       "      <td>5</td>\n",
       "      <td>Father of the Bride Part II (1995)</td>\n",
       "      <td>Comedy</td>\n",
       "    </tr>\n",
       "  </tbody>\n",
       "</table>\n",
       "</div>"
      ],
      "text/plain": [
       "   movie_id                               title                        genres\n",
       "0         1                    Toy Story (1995)   Animation|Children's|Comedy\n",
       "1         2                      Jumanji (1995)  Adventure|Children's|Fantasy\n",
       "2         3             Grumpier Old Men (1995)                Comedy|Romance\n",
       "3         4            Waiting to Exhale (1995)                  Comedy|Drama\n",
       "4         5  Father of the Bride Part II (1995)                        Comedy"
      ]
     },
     "execution_count": 4,
     "metadata": {},
     "output_type": "execute_result"
    }
   ],
   "source": [
    "movies.head()"
   ]
  },
  {
   "cell_type": "code",
   "execution_count": 5,
   "id": "9a6c4c64-d674-4a46-863d-e278da18d1b0",
   "metadata": {},
   "outputs": [
    {
     "data": {
      "text/html": [
       "<div>\n",
       "<style scoped>\n",
       "    .dataframe tbody tr th:only-of-type {\n",
       "        vertical-align: middle;\n",
       "    }\n",
       "\n",
       "    .dataframe tbody tr th {\n",
       "        vertical-align: top;\n",
       "    }\n",
       "\n",
       "    .dataframe thead th {\n",
       "        text-align: right;\n",
       "    }\n",
       "</style>\n",
       "<table border=\"1\" class=\"dataframe\">\n",
       "  <thead>\n",
       "    <tr style=\"text-align: right;\">\n",
       "      <th></th>\n",
       "      <th>user_id</th>\n",
       "      <th>gender</th>\n",
       "      <th>age</th>\n",
       "      <th>occupation</th>\n",
       "      <th>zip_code</th>\n",
       "    </tr>\n",
       "  </thead>\n",
       "  <tbody>\n",
       "    <tr>\n",
       "      <th>0</th>\n",
       "      <td>1</td>\n",
       "      <td>F</td>\n",
       "      <td>1</td>\n",
       "      <td>10</td>\n",
       "      <td>48067</td>\n",
       "    </tr>\n",
       "    <tr>\n",
       "      <th>1</th>\n",
       "      <td>2</td>\n",
       "      <td>M</td>\n",
       "      <td>56</td>\n",
       "      <td>16</td>\n",
       "      <td>70072</td>\n",
       "    </tr>\n",
       "    <tr>\n",
       "      <th>2</th>\n",
       "      <td>3</td>\n",
       "      <td>M</td>\n",
       "      <td>25</td>\n",
       "      <td>15</td>\n",
       "      <td>55117</td>\n",
       "    </tr>\n",
       "    <tr>\n",
       "      <th>3</th>\n",
       "      <td>4</td>\n",
       "      <td>M</td>\n",
       "      <td>45</td>\n",
       "      <td>7</td>\n",
       "      <td>02460</td>\n",
       "    </tr>\n",
       "    <tr>\n",
       "      <th>4</th>\n",
       "      <td>5</td>\n",
       "      <td>M</td>\n",
       "      <td>25</td>\n",
       "      <td>20</td>\n",
       "      <td>55455</td>\n",
       "    </tr>\n",
       "  </tbody>\n",
       "</table>\n",
       "</div>"
      ],
      "text/plain": [
       "   user_id gender  age  occupation zip_code\n",
       "0        1      F    1          10    48067\n",
       "1        2      M   56          16    70072\n",
       "2        3      M   25          15    55117\n",
       "3        4      M   45           7    02460\n",
       "4        5      M   25          20    55455"
      ]
     },
     "execution_count": 5,
     "metadata": {},
     "output_type": "execute_result"
    }
   ],
   "source": [
    "users.head()"
   ]
  },
  {
   "cell_type": "markdown",
   "id": "f2527582-227f-49b9-ac1b-52ad789a56d3",
   "metadata": {},
   "source": [
    "# Model Building (collaborative filtering; user-item matrix; KNN algorithm)\n",
    "- input user_id & desired number of similar users, and will recommend movies rated by similar users  "
   ]
  },
  {
   "cell_type": "code",
   "execution_count": 6,
   "id": "631b7691-8ae8-4c63-aa58-d8a14100a6f9",
   "metadata": {},
   "outputs": [
    {
     "name": "stdout",
     "output_type": "stream",
     "text": [
      "        user_id  movie_id  rating\n",
      "171933        1         1       5\n",
      "911414        1        48       5\n",
      "21420         1       150       5\n",
      "49104         1       260       4\n",
      "34221         1       527       5\n",
      "Unique number of users in the dataset: 6040\n",
      "Unique number of movies in the dataset: 3706\n"
     ]
    }
   ],
   "source": [
    "# merge datasets\n",
    "merged = pd.merge(ratings, users, how = 'inner', on = 'user_id')\n",
    "merged = pd.merge(merged, movies, how = 'inner', on = 'movie_id')\n",
    "merged.head()\n",
    "\n",
    "ratings_cleaned = merged[['user_id', 'movie_id', 'rating']].sort_values(by=['user_id', 'movie_id', 'rating'])\n",
    "print(ratings_cleaned.head())\n",
    "\n",
    "print(f\"Unique number of users in the dataset: {ratings_cleaned['user_id'].nunique()}\")\n",
    "print(f\"Unique number of movies in the dataset: {ratings_cleaned['movie_id'].nunique()}\")\n",
    "    # why is number of movies smaller?? what happened?\n",
    "    # are some movies not rated at all?"
   ]
  },
  {
   "cell_type": "markdown",
   "id": "b5bf2bf0",
   "metadata": {},
   "source": [
    "#### Some movies in the movie dataset does not have any ratings.\n",
    "These movies will not be used as input data."
   ]
  },
  {
   "cell_type": "code",
   "execution_count": 7,
   "id": "a56df39d",
   "metadata": {},
   "outputs": [
    {
     "data": {
      "text/html": [
       "<div>\n",
       "<style scoped>\n",
       "    .dataframe tbody tr th:only-of-type {\n",
       "        vertical-align: middle;\n",
       "    }\n",
       "\n",
       "    .dataframe tbody tr th {\n",
       "        vertical-align: top;\n",
       "    }\n",
       "\n",
       "    .dataframe thead th {\n",
       "        text-align: right;\n",
       "    }\n",
       "</style>\n",
       "<table border=\"1\" class=\"dataframe\">\n",
       "  <thead>\n",
       "    <tr style=\"text-align: right;\">\n",
       "      <th></th>\n",
       "      <th>user_id</th>\n",
       "      <th>movie_id</th>\n",
       "      <th>rating</th>\n",
       "      <th>timestamp</th>\n",
       "    </tr>\n",
       "  </thead>\n",
       "  <tbody>\n",
       "  </tbody>\n",
       "</table>\n",
       "</div>"
      ],
      "text/plain": [
       "Empty DataFrame\n",
       "Columns: [user_id, movie_id, rating, timestamp]\n",
       "Index: []"
      ]
     },
     "execution_count": 7,
     "metadata": {},
     "output_type": "execute_result"
    }
   ],
   "source": [
    "# hence there are some movies missing in merged dataset\n",
    "ratings[ratings['movie_id'] == 51]"
   ]
  },
  {
   "cell_type": "code",
   "execution_count": 8,
   "id": "50d35fb9-eb52-4cff-9957-187e32b95f87",
   "metadata": {},
   "outputs": [
    {
     "data": {
      "text/html": [
       "<div>\n",
       "<style scoped>\n",
       "    .dataframe tbody tr th:only-of-type {\n",
       "        vertical-align: middle;\n",
       "    }\n",
       "\n",
       "    .dataframe tbody tr th {\n",
       "        vertical-align: top;\n",
       "    }\n",
       "\n",
       "    .dataframe thead th {\n",
       "        text-align: right;\n",
       "    }\n",
       "</style>\n",
       "<table border=\"1\" class=\"dataframe\">\n",
       "  <thead>\n",
       "    <tr style=\"text-align: right;\">\n",
       "      <th></th>\n",
       "      <th>movie_id</th>\n",
       "      <th>title</th>\n",
       "      <th>genres</th>\n",
       "    </tr>\n",
       "  </thead>\n",
       "  <tbody>\n",
       "    <tr>\n",
       "      <th>50</th>\n",
       "      <td>51</td>\n",
       "      <td>Guardian Angel (1994)</td>\n",
       "      <td>Action|Drama|Thriller</td>\n",
       "    </tr>\n",
       "    <tr>\n",
       "      <th>107</th>\n",
       "      <td>109</td>\n",
       "      <td>Headless Body in Topless Bar (1995)</td>\n",
       "      <td>Comedy</td>\n",
       "    </tr>\n",
       "    <tr>\n",
       "      <th>113</th>\n",
       "      <td>115</td>\n",
       "      <td>Happiness Is in the Field (1995)</td>\n",
       "      <td>Comedy</td>\n",
       "    </tr>\n",
       "    <tr>\n",
       "      <th>141</th>\n",
       "      <td>143</td>\n",
       "      <td>Gospa (1995)</td>\n",
       "      <td>Drama</td>\n",
       "    </tr>\n",
       "    <tr>\n",
       "      <th>281</th>\n",
       "      <td>284</td>\n",
       "      <td>New York Cop (1996)</td>\n",
       "      <td>Action|Crime</td>\n",
       "    </tr>\n",
       "    <tr>\n",
       "      <th>...</th>\n",
       "      <td>...</td>\n",
       "      <td>...</td>\n",
       "      <td>...</td>\n",
       "    </tr>\n",
       "    <tr>\n",
       "      <th>3581</th>\n",
       "      <td>3650</td>\n",
       "      <td>Anguish (Angustia) (1986)</td>\n",
       "      <td>Horror</td>\n",
       "    </tr>\n",
       "    <tr>\n",
       "      <th>3681</th>\n",
       "      <td>3750</td>\n",
       "      <td>Boricua's Bond (2000)</td>\n",
       "      <td>Drama</td>\n",
       "    </tr>\n",
       "    <tr>\n",
       "      <th>3759</th>\n",
       "      <td>3829</td>\n",
       "      <td>Mad About Mambo (2000)</td>\n",
       "      <td>Comedy|Romance</td>\n",
       "    </tr>\n",
       "    <tr>\n",
       "      <th>3786</th>\n",
       "      <td>3856</td>\n",
       "      <td>Autumn Heart (1999)</td>\n",
       "      <td>Drama</td>\n",
       "    </tr>\n",
       "    <tr>\n",
       "      <th>3837</th>\n",
       "      <td>3907</td>\n",
       "      <td>Prince of Central Park, The (1999)</td>\n",
       "      <td>Drama</td>\n",
       "    </tr>\n",
       "  </tbody>\n",
       "</table>\n",
       "<p>177 rows × 3 columns</p>\n",
       "</div>"
      ],
      "text/plain": [
       "      movie_id                                title                 genres\n",
       "50          51                Guardian Angel (1994)  Action|Drama|Thriller\n",
       "107        109  Headless Body in Topless Bar (1995)                 Comedy\n",
       "113        115     Happiness Is in the Field (1995)                 Comedy\n",
       "141        143                         Gospa (1995)                  Drama\n",
       "281        284                  New York Cop (1996)           Action|Crime\n",
       "...        ...                                  ...                    ...\n",
       "3581      3650            Anguish (Angustia) (1986)                 Horror\n",
       "3681      3750                Boricua's Bond (2000)                  Drama\n",
       "3759      3829               Mad About Mambo (2000)         Comedy|Romance\n",
       "3786      3856                  Autumn Heart (1999)                  Drama\n",
       "3837      3907   Prince of Central Park, The (1999)                  Drama\n",
       "\n",
       "[177 rows x 3 columns]"
      ]
     },
     "execution_count": 8,
     "metadata": {},
     "output_type": "execute_result"
    }
   ],
   "source": [
    "missing_movies = movies[~movies['movie_id'].isin(ratings_cleaned['movie_id'].unique())]\n",
    "missing_movies"
   ]
  },
  {
   "cell_type": "markdown",
   "id": "c30becd1",
   "metadata": {},
   "source": [
    "### Train test split"
   ]
  },
  {
   "cell_type": "code",
   "execution_count": 9,
   "id": "85d52f05",
   "metadata": {},
   "outputs": [
    {
     "name": "stdout",
     "output_type": "stream",
     "text": [
      "Unique number of users in the dataset: 6040\n",
      "Unique number of movies in the dataset: 3706\n"
     ]
    },
    {
     "data": {
      "text/html": [
       "<div>\n",
       "<style scoped>\n",
       "    .dataframe tbody tr th:only-of-type {\n",
       "        vertical-align: middle;\n",
       "    }\n",
       "\n",
       "    .dataframe tbody tr th {\n",
       "        vertical-align: top;\n",
       "    }\n",
       "\n",
       "    .dataframe thead th {\n",
       "        text-align: right;\n",
       "    }\n",
       "</style>\n",
       "<table border=\"1\" class=\"dataframe\">\n",
       "  <thead>\n",
       "    <tr style=\"text-align: right;\">\n",
       "      <th></th>\n",
       "      <th>user_id</th>\n",
       "      <th>movie_id</th>\n",
       "      <th>rating</th>\n",
       "    </tr>\n",
       "  </thead>\n",
       "  <tbody>\n",
       "    <tr>\n",
       "      <th>874228</th>\n",
       "      <td>4387</td>\n",
       "      <td>762</td>\n",
       "      <td>4</td>\n",
       "    </tr>\n",
       "    <tr>\n",
       "      <th>537386</th>\n",
       "      <td>3180</td>\n",
       "      <td>3040</td>\n",
       "      <td>3</td>\n",
       "    </tr>\n",
       "    <tr>\n",
       "      <th>562499</th>\n",
       "      <td>5433</td>\n",
       "      <td>292</td>\n",
       "      <td>2</td>\n",
       "    </tr>\n",
       "    <tr>\n",
       "      <th>460898</th>\n",
       "      <td>3592</td>\n",
       "      <td>305</td>\n",
       "      <td>3</td>\n",
       "    </tr>\n",
       "    <tr>\n",
       "      <th>507775</th>\n",
       "      <td>3144</td>\n",
       "      <td>1090</td>\n",
       "      <td>4</td>\n",
       "    </tr>\n",
       "    <tr>\n",
       "      <th>...</th>\n",
       "      <td>...</td>\n",
       "      <td>...</td>\n",
       "      <td>...</td>\n",
       "    </tr>\n",
       "    <tr>\n",
       "      <th>381337</th>\n",
       "      <td>1586</td>\n",
       "      <td>3507</td>\n",
       "      <td>5</td>\n",
       "    </tr>\n",
       "    <tr>\n",
       "      <th>927941</th>\n",
       "      <td>2129</td>\n",
       "      <td>2790</td>\n",
       "      <td>3</td>\n",
       "    </tr>\n",
       "    <tr>\n",
       "      <th>302949</th>\n",
       "      <td>854</td>\n",
       "      <td>1704</td>\n",
       "      <td>4</td>\n",
       "    </tr>\n",
       "    <tr>\n",
       "      <th>91883</th>\n",
       "      <td>4033</td>\n",
       "      <td>1199</td>\n",
       "      <td>5</td>\n",
       "    </tr>\n",
       "    <tr>\n",
       "      <th>589207</th>\n",
       "      <td>786</td>\n",
       "      <td>1690</td>\n",
       "      <td>4</td>\n",
       "    </tr>\n",
       "  </tbody>\n",
       "</table>\n",
       "<p>1000108 rows × 3 columns</p>\n",
       "</div>"
      ],
      "text/plain": [
       "        user_id  movie_id  rating\n",
       "874228     4387       762       4\n",
       "537386     3180      3040       3\n",
       "562499     5433       292       2\n",
       "460898     3592       305       3\n",
       "507775     3144      1090       4\n",
       "...         ...       ...     ...\n",
       "381337     1586      3507       5\n",
       "927941     2129      2790       3\n",
       "302949      854      1704       4\n",
       "91883      4033      1199       5\n",
       "589207      786      1690       4\n",
       "\n",
       "[1000108 rows x 3 columns]"
      ]
     },
     "execution_count": 9,
     "metadata": {},
     "output_type": "execute_result"
    }
   ],
   "source": [
    "from sklearn.model_selection import train_test_split\n",
    "\n",
    "# Split the data into training and testing sets\n",
    "train, test = train_test_split(ratings_cleaned, test_size=0.0001, random_state=42)\n",
    "\n",
    "print(f\"Unique number of users in the dataset: {train['user_id'].nunique()}\")\n",
    "print(f\"Unique number of movies in the dataset: {train['movie_id'].nunique()}\")\n",
    "\n",
    "train"
   ]
  },
  {
   "cell_type": "markdown",
   "id": "15ef5793",
   "metadata": {},
   "source": [
    "### Create UIM matrix"
   ]
  },
  {
   "cell_type": "code",
   "execution_count": 10,
   "id": "fa2b2f4b",
   "metadata": {},
   "outputs": [
    {
     "data": {
      "text/html": [
       "<div>\n",
       "<style scoped>\n",
       "    .dataframe tbody tr th:only-of-type {\n",
       "        vertical-align: middle;\n",
       "    }\n",
       "\n",
       "    .dataframe tbody tr th {\n",
       "        vertical-align: top;\n",
       "    }\n",
       "\n",
       "    .dataframe thead th {\n",
       "        text-align: right;\n",
       "    }\n",
       "</style>\n",
       "<table border=\"1\" class=\"dataframe\">\n",
       "  <thead>\n",
       "    <tr style=\"text-align: right;\">\n",
       "      <th></th>\n",
       "      <th>user_id</th>\n",
       "      <th>movie_id</th>\n",
       "      <th>rating</th>\n",
       "    </tr>\n",
       "  </thead>\n",
       "  <tbody>\n",
       "    <tr>\n",
       "      <th>280460</th>\n",
       "      <td>5412</td>\n",
       "      <td>2431</td>\n",
       "      <td>5</td>\n",
       "    </tr>\n",
       "    <tr>\n",
       "      <th>430017</th>\n",
       "      <td>5440</td>\n",
       "      <td>111</td>\n",
       "      <td>5</td>\n",
       "    </tr>\n",
       "    <tr>\n",
       "      <th>642307</th>\n",
       "      <td>368</td>\n",
       "      <td>2976</td>\n",
       "      <td>3</td>\n",
       "    </tr>\n",
       "    <tr>\n",
       "      <th>201236</th>\n",
       "      <td>425</td>\n",
       "      <td>2139</td>\n",
       "      <td>4</td>\n",
       "    </tr>\n",
       "    <tr>\n",
       "      <th>566230</th>\n",
       "      <td>4942</td>\n",
       "      <td>2532</td>\n",
       "      <td>3</td>\n",
       "    </tr>\n",
       "    <tr>\n",
       "      <th>...</th>\n",
       "      <td>...</td>\n",
       "      <td>...</td>\n",
       "      <td>...</td>\n",
       "    </tr>\n",
       "    <tr>\n",
       "      <th>922674</th>\n",
       "      <td>3389</td>\n",
       "      <td>1792</td>\n",
       "      <td>2</td>\n",
       "    </tr>\n",
       "    <tr>\n",
       "      <th>275154</th>\n",
       "      <td>5795</td>\n",
       "      <td>750</td>\n",
       "      <td>5</td>\n",
       "    </tr>\n",
       "    <tr>\n",
       "      <th>896883</th>\n",
       "      <td>2445</td>\n",
       "      <td>1866</td>\n",
       "      <td>5</td>\n",
       "    </tr>\n",
       "    <tr>\n",
       "      <th>470583</th>\n",
       "      <td>5213</td>\n",
       "      <td>2028</td>\n",
       "      <td>4</td>\n",
       "    </tr>\n",
       "    <tr>\n",
       "      <th>369616</th>\n",
       "      <td>2986</td>\n",
       "      <td>1952</td>\n",
       "      <td>4</td>\n",
       "    </tr>\n",
       "  </tbody>\n",
       "</table>\n",
       "<p>101 rows × 3 columns</p>\n",
       "</div>"
      ],
      "text/plain": [
       "        user_id  movie_id  rating\n",
       "280460     5412      2431       5\n",
       "430017     5440       111       5\n",
       "642307      368      2976       3\n",
       "201236      425      2139       4\n",
       "566230     4942      2532       3\n",
       "...         ...       ...     ...\n",
       "922674     3389      1792       2\n",
       "275154     5795       750       5\n",
       "896883     2445      1866       5\n",
       "470583     5213      2028       4\n",
       "369616     2986      1952       4\n",
       "\n",
       "[101 rows x 3 columns]"
      ]
     },
     "execution_count": 10,
     "metadata": {},
     "output_type": "execute_result"
    }
   ],
   "source": [
    "test"
   ]
  },
  {
   "cell_type": "code",
   "execution_count": 11,
   "id": "2da2ccbd",
   "metadata": {},
   "outputs": [
    {
     "data": {
      "text/html": [
       "<div>\n",
       "<style scoped>\n",
       "    .dataframe tbody tr th:only-of-type {\n",
       "        vertical-align: middle;\n",
       "    }\n",
       "\n",
       "    .dataframe tbody tr th {\n",
       "        vertical-align: top;\n",
       "    }\n",
       "\n",
       "    .dataframe thead th {\n",
       "        text-align: right;\n",
       "    }\n",
       "</style>\n",
       "<table border=\"1\" class=\"dataframe\">\n",
       "  <thead>\n",
       "    <tr style=\"text-align: right;\">\n",
       "      <th>movie_id</th>\n",
       "      <th>1</th>\n",
       "      <th>2</th>\n",
       "      <th>3</th>\n",
       "      <th>4</th>\n",
       "      <th>5</th>\n",
       "      <th>6</th>\n",
       "      <th>7</th>\n",
       "      <th>8</th>\n",
       "      <th>9</th>\n",
       "      <th>10</th>\n",
       "      <th>...</th>\n",
       "      <th>3943</th>\n",
       "      <th>3944</th>\n",
       "      <th>3945</th>\n",
       "      <th>3946</th>\n",
       "      <th>3947</th>\n",
       "      <th>3948</th>\n",
       "      <th>3949</th>\n",
       "      <th>3950</th>\n",
       "      <th>3951</th>\n",
       "      <th>3952</th>\n",
       "    </tr>\n",
       "    <tr>\n",
       "      <th>user_id</th>\n",
       "      <th></th>\n",
       "      <th></th>\n",
       "      <th></th>\n",
       "      <th></th>\n",
       "      <th></th>\n",
       "      <th></th>\n",
       "      <th></th>\n",
       "      <th></th>\n",
       "      <th></th>\n",
       "      <th></th>\n",
       "      <th></th>\n",
       "      <th></th>\n",
       "      <th></th>\n",
       "      <th></th>\n",
       "      <th></th>\n",
       "      <th></th>\n",
       "      <th></th>\n",
       "      <th></th>\n",
       "      <th></th>\n",
       "      <th></th>\n",
       "      <th></th>\n",
       "    </tr>\n",
       "  </thead>\n",
       "  <tbody>\n",
       "    <tr>\n",
       "      <th>1</th>\n",
       "      <td>5.0</td>\n",
       "      <td>0.0</td>\n",
       "      <td>0.0</td>\n",
       "      <td>0.0</td>\n",
       "      <td>0.0</td>\n",
       "      <td>0.0</td>\n",
       "      <td>0.0</td>\n",
       "      <td>0.0</td>\n",
       "      <td>0.0</td>\n",
       "      <td>0.0</td>\n",
       "      <td>...</td>\n",
       "      <td>0.0</td>\n",
       "      <td>0.0</td>\n",
       "      <td>0.0</td>\n",
       "      <td>0.0</td>\n",
       "      <td>0.0</td>\n",
       "      <td>0.0</td>\n",
       "      <td>0.0</td>\n",
       "      <td>0.0</td>\n",
       "      <td>0.0</td>\n",
       "      <td>0.0</td>\n",
       "    </tr>\n",
       "    <tr>\n",
       "      <th>2</th>\n",
       "      <td>0.0</td>\n",
       "      <td>0.0</td>\n",
       "      <td>0.0</td>\n",
       "      <td>0.0</td>\n",
       "      <td>0.0</td>\n",
       "      <td>0.0</td>\n",
       "      <td>0.0</td>\n",
       "      <td>0.0</td>\n",
       "      <td>0.0</td>\n",
       "      <td>0.0</td>\n",
       "      <td>...</td>\n",
       "      <td>0.0</td>\n",
       "      <td>0.0</td>\n",
       "      <td>0.0</td>\n",
       "      <td>0.0</td>\n",
       "      <td>0.0</td>\n",
       "      <td>0.0</td>\n",
       "      <td>0.0</td>\n",
       "      <td>0.0</td>\n",
       "      <td>0.0</td>\n",
       "      <td>0.0</td>\n",
       "    </tr>\n",
       "    <tr>\n",
       "      <th>3</th>\n",
       "      <td>0.0</td>\n",
       "      <td>0.0</td>\n",
       "      <td>0.0</td>\n",
       "      <td>0.0</td>\n",
       "      <td>0.0</td>\n",
       "      <td>0.0</td>\n",
       "      <td>0.0</td>\n",
       "      <td>0.0</td>\n",
       "      <td>0.0</td>\n",
       "      <td>0.0</td>\n",
       "      <td>...</td>\n",
       "      <td>0.0</td>\n",
       "      <td>0.0</td>\n",
       "      <td>0.0</td>\n",
       "      <td>0.0</td>\n",
       "      <td>0.0</td>\n",
       "      <td>0.0</td>\n",
       "      <td>0.0</td>\n",
       "      <td>0.0</td>\n",
       "      <td>0.0</td>\n",
       "      <td>0.0</td>\n",
       "    </tr>\n",
       "    <tr>\n",
       "      <th>4</th>\n",
       "      <td>0.0</td>\n",
       "      <td>0.0</td>\n",
       "      <td>0.0</td>\n",
       "      <td>0.0</td>\n",
       "      <td>0.0</td>\n",
       "      <td>0.0</td>\n",
       "      <td>0.0</td>\n",
       "      <td>0.0</td>\n",
       "      <td>0.0</td>\n",
       "      <td>0.0</td>\n",
       "      <td>...</td>\n",
       "      <td>0.0</td>\n",
       "      <td>0.0</td>\n",
       "      <td>0.0</td>\n",
       "      <td>0.0</td>\n",
       "      <td>0.0</td>\n",
       "      <td>0.0</td>\n",
       "      <td>0.0</td>\n",
       "      <td>0.0</td>\n",
       "      <td>0.0</td>\n",
       "      <td>0.0</td>\n",
       "    </tr>\n",
       "    <tr>\n",
       "      <th>5</th>\n",
       "      <td>0.0</td>\n",
       "      <td>0.0</td>\n",
       "      <td>0.0</td>\n",
       "      <td>0.0</td>\n",
       "      <td>0.0</td>\n",
       "      <td>2.0</td>\n",
       "      <td>0.0</td>\n",
       "      <td>0.0</td>\n",
       "      <td>0.0</td>\n",
       "      <td>0.0</td>\n",
       "      <td>...</td>\n",
       "      <td>0.0</td>\n",
       "      <td>0.0</td>\n",
       "      <td>0.0</td>\n",
       "      <td>0.0</td>\n",
       "      <td>0.0</td>\n",
       "      <td>0.0</td>\n",
       "      <td>0.0</td>\n",
       "      <td>0.0</td>\n",
       "      <td>0.0</td>\n",
       "      <td>0.0</td>\n",
       "    </tr>\n",
       "    <tr>\n",
       "      <th>...</th>\n",
       "      <td>...</td>\n",
       "      <td>...</td>\n",
       "      <td>...</td>\n",
       "      <td>...</td>\n",
       "      <td>...</td>\n",
       "      <td>...</td>\n",
       "      <td>...</td>\n",
       "      <td>...</td>\n",
       "      <td>...</td>\n",
       "      <td>...</td>\n",
       "      <td>...</td>\n",
       "      <td>...</td>\n",
       "      <td>...</td>\n",
       "      <td>...</td>\n",
       "      <td>...</td>\n",
       "      <td>...</td>\n",
       "      <td>...</td>\n",
       "      <td>...</td>\n",
       "      <td>...</td>\n",
       "      <td>...</td>\n",
       "      <td>...</td>\n",
       "    </tr>\n",
       "    <tr>\n",
       "      <th>6036</th>\n",
       "      <td>0.0</td>\n",
       "      <td>0.0</td>\n",
       "      <td>0.0</td>\n",
       "      <td>2.0</td>\n",
       "      <td>0.0</td>\n",
       "      <td>3.0</td>\n",
       "      <td>0.0</td>\n",
       "      <td>0.0</td>\n",
       "      <td>0.0</td>\n",
       "      <td>0.0</td>\n",
       "      <td>...</td>\n",
       "      <td>0.0</td>\n",
       "      <td>0.0</td>\n",
       "      <td>0.0</td>\n",
       "      <td>0.0</td>\n",
       "      <td>0.0</td>\n",
       "      <td>0.0</td>\n",
       "      <td>0.0</td>\n",
       "      <td>0.0</td>\n",
       "      <td>0.0</td>\n",
       "      <td>0.0</td>\n",
       "    </tr>\n",
       "    <tr>\n",
       "      <th>6037</th>\n",
       "      <td>0.0</td>\n",
       "      <td>0.0</td>\n",
       "      <td>0.0</td>\n",
       "      <td>0.0</td>\n",
       "      <td>0.0</td>\n",
       "      <td>0.0</td>\n",
       "      <td>0.0</td>\n",
       "      <td>0.0</td>\n",
       "      <td>0.0</td>\n",
       "      <td>0.0</td>\n",
       "      <td>...</td>\n",
       "      <td>0.0</td>\n",
       "      <td>0.0</td>\n",
       "      <td>0.0</td>\n",
       "      <td>0.0</td>\n",
       "      <td>0.0</td>\n",
       "      <td>0.0</td>\n",
       "      <td>0.0</td>\n",
       "      <td>0.0</td>\n",
       "      <td>0.0</td>\n",
       "      <td>0.0</td>\n",
       "    </tr>\n",
       "    <tr>\n",
       "      <th>6038</th>\n",
       "      <td>0.0</td>\n",
       "      <td>0.0</td>\n",
       "      <td>0.0</td>\n",
       "      <td>0.0</td>\n",
       "      <td>0.0</td>\n",
       "      <td>0.0</td>\n",
       "      <td>0.0</td>\n",
       "      <td>0.0</td>\n",
       "      <td>0.0</td>\n",
       "      <td>0.0</td>\n",
       "      <td>...</td>\n",
       "      <td>0.0</td>\n",
       "      <td>0.0</td>\n",
       "      <td>0.0</td>\n",
       "      <td>0.0</td>\n",
       "      <td>0.0</td>\n",
       "      <td>0.0</td>\n",
       "      <td>0.0</td>\n",
       "      <td>0.0</td>\n",
       "      <td>0.0</td>\n",
       "      <td>0.0</td>\n",
       "    </tr>\n",
       "    <tr>\n",
       "      <th>6039</th>\n",
       "      <td>0.0</td>\n",
       "      <td>0.0</td>\n",
       "      <td>0.0</td>\n",
       "      <td>0.0</td>\n",
       "      <td>0.0</td>\n",
       "      <td>0.0</td>\n",
       "      <td>0.0</td>\n",
       "      <td>0.0</td>\n",
       "      <td>0.0</td>\n",
       "      <td>0.0</td>\n",
       "      <td>...</td>\n",
       "      <td>0.0</td>\n",
       "      <td>0.0</td>\n",
       "      <td>0.0</td>\n",
       "      <td>0.0</td>\n",
       "      <td>0.0</td>\n",
       "      <td>0.0</td>\n",
       "      <td>0.0</td>\n",
       "      <td>0.0</td>\n",
       "      <td>0.0</td>\n",
       "      <td>0.0</td>\n",
       "    </tr>\n",
       "    <tr>\n",
       "      <th>6040</th>\n",
       "      <td>3.0</td>\n",
       "      <td>0.0</td>\n",
       "      <td>0.0</td>\n",
       "      <td>0.0</td>\n",
       "      <td>0.0</td>\n",
       "      <td>0.0</td>\n",
       "      <td>0.0</td>\n",
       "      <td>0.0</td>\n",
       "      <td>0.0</td>\n",
       "      <td>0.0</td>\n",
       "      <td>...</td>\n",
       "      <td>0.0</td>\n",
       "      <td>0.0</td>\n",
       "      <td>0.0</td>\n",
       "      <td>0.0</td>\n",
       "      <td>0.0</td>\n",
       "      <td>0.0</td>\n",
       "      <td>0.0</td>\n",
       "      <td>0.0</td>\n",
       "      <td>0.0</td>\n",
       "      <td>0.0</td>\n",
       "    </tr>\n",
       "  </tbody>\n",
       "</table>\n",
       "<p>6040 rows × 3706 columns</p>\n",
       "</div>"
      ],
      "text/plain": [
       "movie_id  1     2     3     4     5     6     7     8     9     10    ...  \\\n",
       "user_id                                                               ...   \n",
       "1          5.0   0.0   0.0   0.0   0.0   0.0   0.0   0.0   0.0   0.0  ...   \n",
       "2          0.0   0.0   0.0   0.0   0.0   0.0   0.0   0.0   0.0   0.0  ...   \n",
       "3          0.0   0.0   0.0   0.0   0.0   0.0   0.0   0.0   0.0   0.0  ...   \n",
       "4          0.0   0.0   0.0   0.0   0.0   0.0   0.0   0.0   0.0   0.0  ...   \n",
       "5          0.0   0.0   0.0   0.0   0.0   2.0   0.0   0.0   0.0   0.0  ...   \n",
       "...        ...   ...   ...   ...   ...   ...   ...   ...   ...   ...  ...   \n",
       "6036       0.0   0.0   0.0   2.0   0.0   3.0   0.0   0.0   0.0   0.0  ...   \n",
       "6037       0.0   0.0   0.0   0.0   0.0   0.0   0.0   0.0   0.0   0.0  ...   \n",
       "6038       0.0   0.0   0.0   0.0   0.0   0.0   0.0   0.0   0.0   0.0  ...   \n",
       "6039       0.0   0.0   0.0   0.0   0.0   0.0   0.0   0.0   0.0   0.0  ...   \n",
       "6040       3.0   0.0   0.0   0.0   0.0   0.0   0.0   0.0   0.0   0.0  ...   \n",
       "\n",
       "movie_id  3943  3944  3945  3946  3947  3948  3949  3950  3951  3952  \n",
       "user_id                                                               \n",
       "1          0.0   0.0   0.0   0.0   0.0   0.0   0.0   0.0   0.0   0.0  \n",
       "2          0.0   0.0   0.0   0.0   0.0   0.0   0.0   0.0   0.0   0.0  \n",
       "3          0.0   0.0   0.0   0.0   0.0   0.0   0.0   0.0   0.0   0.0  \n",
       "4          0.0   0.0   0.0   0.0   0.0   0.0   0.0   0.0   0.0   0.0  \n",
       "5          0.0   0.0   0.0   0.0   0.0   0.0   0.0   0.0   0.0   0.0  \n",
       "...        ...   ...   ...   ...   ...   ...   ...   ...   ...   ...  \n",
       "6036       0.0   0.0   0.0   0.0   0.0   0.0   0.0   0.0   0.0   0.0  \n",
       "6037       0.0   0.0   0.0   0.0   0.0   0.0   0.0   0.0   0.0   0.0  \n",
       "6038       0.0   0.0   0.0   0.0   0.0   0.0   0.0   0.0   0.0   0.0  \n",
       "6039       0.0   0.0   0.0   0.0   0.0   0.0   0.0   0.0   0.0   0.0  \n",
       "6040       0.0   0.0   0.0   0.0   0.0   0.0   0.0   0.0   0.0   0.0  \n",
       "\n",
       "[6040 rows x 3706 columns]"
      ]
     },
     "execution_count": 11,
     "metadata": {},
     "output_type": "execute_result"
    }
   ],
   "source": [
    "# create user-item matrix \n",
    "user_to_movie = train.pivot(index = 'user_id', columns='movie_id', values='rating').fillna(0)\n",
    "\n",
    "user_item_matrix = train.pivot(index = 'user_id', columns = 'movie_id', values = 'rating').fillna(0)\n",
    "user_item_matrix"
   ]
  },
  {
   "cell_type": "markdown",
   "id": "4a1d9f5d",
   "metadata": {},
   "source": [
    "### Normalization by the average of individual user's rating\n",
    "\n",
    "Idea : Normalize by extracting mean value per user based on the non-zero ratings of each user to non-zero ratings in the user-item matrix.\n",
    "\n",
    "Modified matrix will have value ranging from -4 to 4 at theoratical maximum and minimum.\n",
    "NaN values from the original user_item matrix has no preference on each movie. In our new scale of data, 0 is still the value represents no preference. As both non-viewed movies and the movies received exact mean scores of non-zero ratings of the user will have 0 score."
   ]
  },
  {
   "cell_type": "code",
   "execution_count": 12,
   "id": "4cde6b61",
   "metadata": {},
   "outputs": [
    {
     "data": {
      "text/plain": [
       "user_id\n",
       "1       4.188679\n",
       "2       3.713178\n",
       "3       3.901961\n",
       "4       4.190476\n",
       "5       3.146465\n",
       "          ...   \n",
       "6036    3.302928\n",
       "6037    3.717822\n",
       "6038    3.800000\n",
       "6039    3.878049\n",
       "6040    3.577713\n",
       "Length: 6040, dtype: float64"
      ]
     },
     "execution_count": 12,
     "metadata": {},
     "output_type": "execute_result"
    }
   ],
   "source": [
    "# Users' average rating on non-zero rating. We deal this rating as no preference. Neither good nor bad as well as non rated movies.\n",
    "user_rating_avg = user_item_matrix.apply(lambda row: row[row != 0].mean(), axis=1)\n",
    "user_rating_avg"
   ]
  },
  {
   "cell_type": "code",
   "execution_count": 13,
   "id": "70327def",
   "metadata": {},
   "outputs": [
    {
     "name": "stdout",
     "output_type": "stream",
     "text": [
      "(6040, 3706)\n"
     ]
    },
    {
     "data": {
      "text/html": [
       "<div>\n",
       "<style scoped>\n",
       "    .dataframe tbody tr th:only-of-type {\n",
       "        vertical-align: middle;\n",
       "    }\n",
       "\n",
       "    .dataframe tbody tr th {\n",
       "        vertical-align: top;\n",
       "    }\n",
       "\n",
       "    .dataframe thead th {\n",
       "        text-align: right;\n",
       "    }\n",
       "</style>\n",
       "<table border=\"1\" class=\"dataframe\">\n",
       "  <thead>\n",
       "    <tr style=\"text-align: right;\">\n",
       "      <th></th>\n",
       "      <th>0</th>\n",
       "      <th>1</th>\n",
       "      <th>2</th>\n",
       "      <th>3</th>\n",
       "      <th>4</th>\n",
       "      <th>5</th>\n",
       "      <th>6</th>\n",
       "      <th>7</th>\n",
       "      <th>8</th>\n",
       "      <th>9</th>\n",
       "    </tr>\n",
       "    <tr>\n",
       "      <th>user_id</th>\n",
       "      <th></th>\n",
       "      <th></th>\n",
       "      <th></th>\n",
       "      <th></th>\n",
       "      <th></th>\n",
       "      <th></th>\n",
       "      <th></th>\n",
       "      <th></th>\n",
       "      <th></th>\n",
       "      <th></th>\n",
       "    </tr>\n",
       "  </thead>\n",
       "  <tbody>\n",
       "    <tr>\n",
       "      <th>1</th>\n",
       "      <td>0.811321</td>\n",
       "      <td>0.000000</td>\n",
       "      <td>0.0</td>\n",
       "      <td>0.000000</td>\n",
       "      <td>0.0</td>\n",
       "      <td>0.000000</td>\n",
       "      <td>0.000000</td>\n",
       "      <td>0.0</td>\n",
       "      <td>0.0</td>\n",
       "      <td>0.0</td>\n",
       "    </tr>\n",
       "    <tr>\n",
       "      <th>2</th>\n",
       "      <td>0.000000</td>\n",
       "      <td>0.000000</td>\n",
       "      <td>0.0</td>\n",
       "      <td>0.000000</td>\n",
       "      <td>0.0</td>\n",
       "      <td>0.000000</td>\n",
       "      <td>0.000000</td>\n",
       "      <td>0.0</td>\n",
       "      <td>0.0</td>\n",
       "      <td>0.0</td>\n",
       "    </tr>\n",
       "    <tr>\n",
       "      <th>3</th>\n",
       "      <td>0.000000</td>\n",
       "      <td>0.000000</td>\n",
       "      <td>0.0</td>\n",
       "      <td>0.000000</td>\n",
       "      <td>0.0</td>\n",
       "      <td>0.000000</td>\n",
       "      <td>0.000000</td>\n",
       "      <td>0.0</td>\n",
       "      <td>0.0</td>\n",
       "      <td>0.0</td>\n",
       "    </tr>\n",
       "    <tr>\n",
       "      <th>4</th>\n",
       "      <td>0.000000</td>\n",
       "      <td>0.000000</td>\n",
       "      <td>0.0</td>\n",
       "      <td>0.000000</td>\n",
       "      <td>0.0</td>\n",
       "      <td>0.000000</td>\n",
       "      <td>0.000000</td>\n",
       "      <td>0.0</td>\n",
       "      <td>0.0</td>\n",
       "      <td>0.0</td>\n",
       "    </tr>\n",
       "    <tr>\n",
       "      <th>5</th>\n",
       "      <td>0.000000</td>\n",
       "      <td>0.000000</td>\n",
       "      <td>0.0</td>\n",
       "      <td>0.000000</td>\n",
       "      <td>0.0</td>\n",
       "      <td>-1.146465</td>\n",
       "      <td>0.000000</td>\n",
       "      <td>0.0</td>\n",
       "      <td>0.0</td>\n",
       "      <td>0.0</td>\n",
       "    </tr>\n",
       "    <tr>\n",
       "      <th>6</th>\n",
       "      <td>0.098592</td>\n",
       "      <td>0.000000</td>\n",
       "      <td>0.0</td>\n",
       "      <td>0.000000</td>\n",
       "      <td>0.0</td>\n",
       "      <td>0.000000</td>\n",
       "      <td>0.000000</td>\n",
       "      <td>0.0</td>\n",
       "      <td>0.0</td>\n",
       "      <td>0.0</td>\n",
       "    </tr>\n",
       "    <tr>\n",
       "      <th>7</th>\n",
       "      <td>0.000000</td>\n",
       "      <td>0.000000</td>\n",
       "      <td>0.0</td>\n",
       "      <td>0.000000</td>\n",
       "      <td>0.0</td>\n",
       "      <td>-0.322581</td>\n",
       "      <td>0.000000</td>\n",
       "      <td>0.0</td>\n",
       "      <td>0.0</td>\n",
       "      <td>0.0</td>\n",
       "    </tr>\n",
       "    <tr>\n",
       "      <th>8</th>\n",
       "      <td>0.115108</td>\n",
       "      <td>0.000000</td>\n",
       "      <td>0.0</td>\n",
       "      <td>-0.884892</td>\n",
       "      <td>0.0</td>\n",
       "      <td>0.000000</td>\n",
       "      <td>0.000000</td>\n",
       "      <td>0.0</td>\n",
       "      <td>0.0</td>\n",
       "      <td>0.0</td>\n",
       "    </tr>\n",
       "    <tr>\n",
       "      <th>9</th>\n",
       "      <td>1.264151</td>\n",
       "      <td>0.000000</td>\n",
       "      <td>0.0</td>\n",
       "      <td>0.000000</td>\n",
       "      <td>0.0</td>\n",
       "      <td>0.000000</td>\n",
       "      <td>0.000000</td>\n",
       "      <td>0.0</td>\n",
       "      <td>0.0</td>\n",
       "      <td>0.0</td>\n",
       "    </tr>\n",
       "    <tr>\n",
       "      <th>10</th>\n",
       "      <td>0.885287</td>\n",
       "      <td>0.885287</td>\n",
       "      <td>0.0</td>\n",
       "      <td>0.000000</td>\n",
       "      <td>0.0</td>\n",
       "      <td>0.000000</td>\n",
       "      <td>-0.114713</td>\n",
       "      <td>0.0</td>\n",
       "      <td>0.0</td>\n",
       "      <td>0.0</td>\n",
       "    </tr>\n",
       "  </tbody>\n",
       "</table>\n",
       "</div>"
      ],
      "text/plain": [
       "                0         1    2         3    4         5         6    7    8  \\\n",
       "user_id                                                                         \n",
       "1        0.811321  0.000000  0.0  0.000000  0.0  0.000000  0.000000  0.0  0.0   \n",
       "2        0.000000  0.000000  0.0  0.000000  0.0  0.000000  0.000000  0.0  0.0   \n",
       "3        0.000000  0.000000  0.0  0.000000  0.0  0.000000  0.000000  0.0  0.0   \n",
       "4        0.000000  0.000000  0.0  0.000000  0.0  0.000000  0.000000  0.0  0.0   \n",
       "5        0.000000  0.000000  0.0  0.000000  0.0 -1.146465  0.000000  0.0  0.0   \n",
       "6        0.098592  0.000000  0.0  0.000000  0.0  0.000000  0.000000  0.0  0.0   \n",
       "7        0.000000  0.000000  0.0  0.000000  0.0 -0.322581  0.000000  0.0  0.0   \n",
       "8        0.115108  0.000000  0.0 -0.884892  0.0  0.000000  0.000000  0.0  0.0   \n",
       "9        1.264151  0.000000  0.0  0.000000  0.0  0.000000  0.000000  0.0  0.0   \n",
       "10       0.885287  0.885287  0.0  0.000000  0.0  0.000000 -0.114713  0.0  0.0   \n",
       "\n",
       "           9  \n",
       "user_id       \n",
       "1        0.0  \n",
       "2        0.0  \n",
       "3        0.0  \n",
       "4        0.0  \n",
       "5        0.0  \n",
       "6        0.0  \n",
       "7        0.0  \n",
       "8        0.0  \n",
       "9        0.0  \n",
       "10       0.0  "
      ]
     },
     "execution_count": 13,
     "metadata": {},
     "output_type": "execute_result"
    }
   ],
   "source": [
    "# Function to apply subtraction based on a provided value list\n",
    "def subtract_non_zero_by_row(row, sub_value):\n",
    "    # Iterate through each element in the row and subtract the corresponding value only from non-zero elements\n",
    "    return [val - sub_value if val != 0 else val for val in row]\n",
    "\n",
    "# Apply the function row-by-row using the subtraction values list\n",
    "modified_df = user_item_matrix.apply(lambda row: subtract_non_zero_by_row(row, user_rating_avg[row.name]), axis=1, result_type='expand')\n",
    "\n",
    "print(modified_df.shape)\n",
    "\n",
    "modified_df.iloc[:10, :10]"
   ]
  },
  {
   "cell_type": "code",
   "execution_count": 14,
   "id": "f0817ed0-9804-4bad-9f6b-a84fdc41b77c",
   "metadata": {},
   "outputs": [
    {
     "data": {
      "text/plain": [
       "<AxesSubplot:>"
      ]
     },
     "execution_count": 14,
     "metadata": {},
     "output_type": "execute_result"
    },
    {
     "data": {
      "image/png": "[encoded data removed]",
      "text/plain": [
       "<Figure size 432x288 with 1 Axes>"
      ]
     },
     "metadata": {
      "needs_background": "light"
     },
     "output_type": "display_data"
    }
   ],
   "source": [
    "# train KNN model\n",
    "from sklearn.neighbors import NearestNeighbors\n",
    "\n",
    "knn_cf = NearestNeighbors(metric='cosine', algorithm='brute')\n",
    "knn_cf.fit(modified_df)\n",
    "\n",
    "# Returns average rating per each movie based on the nearest k nearest neighbors found based on the preference on movies. Default is 5.\n",
    "def clf(user_id, k = 50):\n",
    "    user_idx = users[users['user_id'] == user_id].index\n",
    "    user_vect = modified_df.iloc[user_idx, :]\n",
    "\n",
    "    distances_cf, idx_cf = knn_cf.kneighbors(\n",
    "        user_vect,\n",
    "        n_neighbors = k\n",
    "    )\n",
    "\n",
    "    predicted_nn = modified_df.iloc[idx_cf[0]].apply(lambda row: row + user_rating_avg[row.name] , axis=1)\n",
    "\n",
    "    return predicted_nn.apply(np.mean, axis=0)\n",
    "\n",
    "prediction = clf(1)\n",
    "prediction.hist()"
   ]
  },
  {
   "cell_type": "code",
   "execution_count": 15,
   "id": "53eabdd2",
   "metadata": {},
   "outputs": [
    {
     "name": "stdout",
     "output_type": "stream",
     "text": [
      "Top 5 movies rated by user 1:\n",
      "\tPocahontas (1995)\n",
      "\tBug's Life, A (1998)\n",
      "\tToy Story (1995)\n",
      "\tBeauty and the Beast (1991)\n",
      "\tSchindler's List (1993)\n",
      "Recommended movies by similar users (collaborative filtering): \n",
      "\t2028\n",
      "\t1\n",
      "\t527\n",
      "\t1193\n",
      "\t1961\n"
     ]
    }
   ],
   "source": [
    "def get_top_k_movies_rated(user_id, num_recommendations = 5):\n",
    "    return merged[merged['user_id'] == user_id].sort_values(\n",
    "        ['rating', 'timestamp'], \n",
    "        ascending = False\n",
    "    ).iloc[:num_recommendations]['title'].values\n",
    "\n",
    "\n",
    "def get_top_k_movie_recommendations(user_id, k, num_recommendations = 5):\n",
    "    # indices of top n movies.\n",
    "    movie_indices = clf(user_id, k).sort_values(ascending = False).iloc[:num_recommendations].index\n",
    "    return user_item_matrix.iloc[:, movie_indices].columns\n",
    "\n",
    "def print_knn_result(user_id, num_recommendations = 5):\n",
    "    print(f'Top {num_recommendations} movies rated by user {user_id}:')\n",
    "    for movie_name in get_top_k_movies_rated(user_id):\n",
    "        print(f'\\t{movie_name}')        \n",
    "\n",
    "    print(f'Recommended movies by similar users (collaborative filtering): ')\n",
    "    for recs in get_top_k_movie_recommendations(user_id):\n",
    "        print(f'\\t{recs}')\n",
    "\n",
    "print_knn_result(1)"
   ]
  },
  {
   "cell_type": "markdown",
   "id": "05d4ab34",
   "metadata": {},
   "source": [
    "### Model evaluation"
   ]
  },
  {
   "cell_type": "code",
   "execution_count": 21,
   "id": "29aa1dfa",
   "metadata": {},
   "outputs": [
    {
     "data": {
      "text/plain": [
       "Int64Index([3701], dtype='int64')"
      ]
     },
     "execution_count": 21,
     "metadata": {},
     "output_type": "execute_result"
    }
   ],
   "source": [
    "\"\"\"\n",
    "Takes in movies datagrame and merged ratings dataframe and returns a dataframe of movies with ratings only.\n",
    "Returned dataframe only has 'movie_id', 'title' columns\n",
    "\"\"\"\n",
    "def movies_idx_df(movies, merged_ratings_df):\n",
    "    # Exclude none rated movies and reset index.\n",
    "    rated = movies[movies['movie_id'].isin(merged_ratings_df['movie_id'].unique())]\n",
    "    return rated.reset_index(drop=True)[['movie_id', 'title']]\n",
    "\n",
    "def get_movie_idx(movie_id):\n",
    "    return movie_idx[movie_idx['movie_id'] == movie_id].index\n",
    "\n",
    "movie_idx = movies_idx_df(movies, merged)\n",
    "\n",
    "get_movie_idx(3948)"
   ]
  },
  {
   "cell_type": "code",
   "execution_count": 40,
   "id": "a44890ff",
   "metadata": {},
   "outputs": [
    {
     "name": "stderr",
     "output_type": "stream",
     "text": [
      "<ipython-input-40-880024b06851>:5: SettingWithCopyWarning: \n",
      "A value is trying to be set on a copy of a slice from a DataFrame.\n",
      "Try using .loc[row_indexer,col_indexer] = value instead\n",
      "\n",
      "See the caveats in the documentation: https://pandas.pydata.org/pandas-docs/stable/user_guide/indexing.html#returning-a-view-versus-a-copy\n",
      "  df['prediction'] = df.apply(lambda row: float(clf(row['user_id'], k)[get_movie_idx(row['movie_id'])]), axis=1)\n"
     ]
    },
    {
     "data": {
      "text/plain": [
       "1.050307435471635"
      ]
     },
     "execution_count": 40,
     "metadata": {},
     "output_type": "execute_result"
    }
   ],
   "source": [
    "def caldulate_rmse(df, actual_colname, pred_colname):\n",
    "    return  np.sqrt(((df[actual_colname] - df[pred_colname]) ** 2).mean())\n",
    "\n",
    "def make_knn_prediction(df, k = 10):\n",
    "    df['prediction'] = df.apply(lambda row: float(clf(row['user_id'], k)[get_movie_idx(row['movie_id'])]), axis=1)\n",
    "    rmse = np.sqrt(((df['rating'] - df['prediction']) ** 2).mean())\n",
    "    return df, rmse\n",
    "\n",
    "prediction, rmse = make_knn_prediction(test, 20)\n",
    "rmse"
   ]
  },
  {
   "cell_type": "code",
   "execution_count": 36,
   "id": "e0a5e480",
   "metadata": {},
   "outputs": [
    {
     "data": {
      "text/html": [
       "<div>\n",
       "<style scoped>\n",
       "    .dataframe tbody tr th:only-of-type {\n",
       "        vertical-align: middle;\n",
       "    }\n",
       "\n",
       "    .dataframe tbody tr th {\n",
       "        vertical-align: top;\n",
       "    }\n",
       "\n",
       "    .dataframe thead th {\n",
       "        text-align: right;\n",
       "    }\n",
       "</style>\n",
       "<table border=\"1\" class=\"dataframe\">\n",
       "  <thead>\n",
       "    <tr style=\"text-align: right;\">\n",
       "      <th></th>\n",
       "      <th>user_id</th>\n",
       "      <th>movie_id</th>\n",
       "      <th>rating</th>\n",
       "    </tr>\n",
       "  </thead>\n",
       "  <tbody>\n",
       "    <tr>\n",
       "      <th>252246</th>\n",
       "      <td>964</td>\n",
       "      <td>356</td>\n",
       "      <td>4</td>\n",
       "    </tr>\n",
       "    <tr>\n",
       "      <th>19072</th>\n",
       "      <td>4240</td>\n",
       "      <td>1293</td>\n",
       "      <td>3</td>\n",
       "    </tr>\n",
       "    <tr>\n",
       "      <th>723036</th>\n",
       "      <td>5831</td>\n",
       "      <td>3712</td>\n",
       "      <td>3</td>\n",
       "    </tr>\n",
       "    <tr>\n",
       "      <th>815792</th>\n",
       "      <td>1794</td>\n",
       "      <td>58</td>\n",
       "      <td>3</td>\n",
       "    </tr>\n",
       "    <tr>\n",
       "      <th>904108</th>\n",
       "      <td>4449</td>\n",
       "      <td>3503</td>\n",
       "      <td>5</td>\n",
       "    </tr>\n",
       "    <tr>\n",
       "      <th>...</th>\n",
       "      <td>...</td>\n",
       "      <td>...</td>\n",
       "      <td>...</td>\n",
       "    </tr>\n",
       "    <tr>\n",
       "      <th>642086</th>\n",
       "      <td>4910</td>\n",
       "      <td>2826</td>\n",
       "      <td>4</td>\n",
       "    </tr>\n",
       "    <tr>\n",
       "      <th>373258</th>\n",
       "      <td>4649</td>\n",
       "      <td>2730</td>\n",
       "      <td>3</td>\n",
       "    </tr>\n",
       "    <tr>\n",
       "      <th>575467</th>\n",
       "      <td>3320</td>\n",
       "      <td>2144</td>\n",
       "      <td>4</td>\n",
       "    </tr>\n",
       "    <tr>\n",
       "      <th>337536</th>\n",
       "      <td>1015</td>\n",
       "      <td>932</td>\n",
       "      <td>4</td>\n",
       "    </tr>\n",
       "    <tr>\n",
       "      <th>560498</th>\n",
       "      <td>881</td>\n",
       "      <td>435</td>\n",
       "      <td>3</td>\n",
       "    </tr>\n",
       "  </tbody>\n",
       "</table>\n",
       "<p>101 rows × 3 columns</p>\n",
       "</div>"
      ],
      "text/plain": [
       "        user_id  movie_id  rating\n",
       "252246      964       356       4\n",
       "19072      4240      1293       3\n",
       "723036     5831      3712       3\n",
       "815792     1794        58       3\n",
       "904108     4449      3503       5\n",
       "...         ...       ...     ...\n",
       "642086     4910      2826       4\n",
       "373258     4649      2730       3\n",
       "575467     3320      2144       4\n",
       "337536     1015       932       4\n",
       "560498      881       435       3\n",
       "\n",
       "[101 rows x 3 columns]"
      ]
     },
     "execution_count": 36,
     "metadata": {},
     "output_type": "execute_result"
    }
   ],
   "source": [
    "_, train_testset = train_test_split(train, test_size=0.0001, random_state=42)\n",
    "train_testset"
   ]
  },
  {
   "cell_type": "code",
   "execution_count": 37,
   "id": "c9adb4f1",
   "metadata": {},
   "outputs": [
    {
     "data": {
      "text/html": [
       "<div>\n",
       "<style scoped>\n",
       "    .dataframe tbody tr th:only-of-type {\n",
       "        vertical-align: middle;\n",
       "    }\n",
       "\n",
       "    .dataframe tbody tr th {\n",
       "        vertical-align: top;\n",
       "    }\n",
       "\n",
       "    .dataframe thead th {\n",
       "        text-align: right;\n",
       "    }\n",
       "</style>\n",
       "<table border=\"1\" class=\"dataframe\">\n",
       "  <thead>\n",
       "    <tr style=\"text-align: right;\">\n",
       "      <th></th>\n",
       "      <th>user_id</th>\n",
       "      <th>movie_id</th>\n",
       "      <th>rating</th>\n",
       "      <th>prediction</th>\n",
       "    </tr>\n",
       "  </thead>\n",
       "  <tbody>\n",
       "    <tr>\n",
       "      <th>280460</th>\n",
       "      <td>5412</td>\n",
       "      <td>2431</td>\n",
       "      <td>5</td>\n",
       "      <td>3.384259</td>\n",
       "    </tr>\n",
       "    <tr>\n",
       "      <th>430017</th>\n",
       "      <td>5440</td>\n",
       "      <td>111</td>\n",
       "      <td>5</td>\n",
       "      <td>3.802955</td>\n",
       "    </tr>\n",
       "    <tr>\n",
       "      <th>642307</th>\n",
       "      <td>368</td>\n",
       "      <td>2976</td>\n",
       "      <td>3</td>\n",
       "      <td>3.277049</td>\n",
       "    </tr>\n",
       "    <tr>\n",
       "      <th>201236</th>\n",
       "      <td>425</td>\n",
       "      <td>2139</td>\n",
       "      <td>4</td>\n",
       "      <td>3.873182</td>\n",
       "    </tr>\n",
       "    <tr>\n",
       "      <th>566230</th>\n",
       "      <td>4942</td>\n",
       "      <td>2532</td>\n",
       "      <td>3</td>\n",
       "      <td>3.446427</td>\n",
       "    </tr>\n",
       "    <tr>\n",
       "      <th>...</th>\n",
       "      <td>...</td>\n",
       "      <td>...</td>\n",
       "      <td>...</td>\n",
       "      <td>...</td>\n",
       "    </tr>\n",
       "    <tr>\n",
       "      <th>922674</th>\n",
       "      <td>3389</td>\n",
       "      <td>1792</td>\n",
       "      <td>2</td>\n",
       "      <td>2.645483</td>\n",
       "    </tr>\n",
       "    <tr>\n",
       "      <th>275154</th>\n",
       "      <td>5795</td>\n",
       "      <td>750</td>\n",
       "      <td>5</td>\n",
       "      <td>3.927865</td>\n",
       "    </tr>\n",
       "    <tr>\n",
       "      <th>896883</th>\n",
       "      <td>2445</td>\n",
       "      <td>1866</td>\n",
       "      <td>5</td>\n",
       "      <td>3.184579</td>\n",
       "    </tr>\n",
       "    <tr>\n",
       "      <th>470583</th>\n",
       "      <td>5213</td>\n",
       "      <td>2028</td>\n",
       "      <td>4</td>\n",
       "      <td>3.955117</td>\n",
       "    </tr>\n",
       "    <tr>\n",
       "      <th>369616</th>\n",
       "      <td>2986</td>\n",
       "      <td>1952</td>\n",
       "      <td>4</td>\n",
       "      <td>3.877287</td>\n",
       "    </tr>\n",
       "  </tbody>\n",
       "</table>\n",
       "<p>101 rows × 4 columns</p>\n",
       "</div>"
      ],
      "text/plain": [
       "        user_id  movie_id  rating  prediction\n",
       "280460     5412      2431       5    3.384259\n",
       "430017     5440       111       5    3.802955\n",
       "642307      368      2976       3    3.277049\n",
       "201236      425      2139       4    3.873182\n",
       "566230     4942      2532       3    3.446427\n",
       "...         ...       ...     ...         ...\n",
       "922674     3389      1792       2    2.645483\n",
       "275154     5795       750       5    3.927865\n",
       "896883     2445      1866       5    3.184579\n",
       "470583     5213      2028       4    3.955117\n",
       "369616     2986      1952       4    3.877287\n",
       "\n",
       "[101 rows x 4 columns]"
      ]
     },
     "execution_count": 37,
     "metadata": {},
     "output_type": "execute_result"
    }
   ],
   "source": [
    "test"
   ]
  },
  {
   "cell_type": "code",
   "execution_count": 48,
   "id": "31571da5",
   "metadata": {},
   "outputs": [
    {
     "name": "stderr",
     "output_type": "stream",
     "text": [
      "<ipython-input-40-880024b06851>:5: SettingWithCopyWarning: \n",
      "A value is trying to be set on a copy of a slice from a DataFrame.\n",
      "Try using .loc[row_indexer,col_indexer] = value instead\n",
      "\n",
      "See the caveats in the documentation: https://pandas.pydata.org/pandas-docs/stable/user_guide/indexing.html#returning-a-view-versus-a-copy\n",
      "  df['prediction'] = df.apply(lambda row: float(clf(row['user_id'], k)[get_movie_idx(row['movie_id'])]), axis=1)\n"
     ]
    },
    {
     "name": "stdout",
     "output_type": "stream",
     "text": [
      "[0.8938061480606981]\n"
     ]
    },
    {
     "name": "stderr",
     "output_type": "stream",
     "text": [
      "<ipython-input-40-880024b06851>:5: SettingWithCopyWarning: \n",
      "A value is trying to be set on a copy of a slice from a DataFrame.\n",
      "Try using .loc[row_indexer,col_indexer] = value instead\n",
      "\n",
      "See the caveats in the documentation: https://pandas.pydata.org/pandas-docs/stable/user_guide/indexing.html#returning-a-view-versus-a-copy\n",
      "  df['prediction'] = df.apply(lambda row: float(clf(row['user_id'], k)[get_movie_idx(row['movie_id'])]), axis=1)\n"
     ]
    },
    {
     "name": "stdout",
     "output_type": "stream",
     "text": [
      "[1.049520907112889]\n"
     ]
    },
    {
     "name": "stderr",
     "output_type": "stream",
     "text": [
      "<ipython-input-40-880024b06851>:5: SettingWithCopyWarning: \n",
      "A value is trying to be set on a copy of a slice from a DataFrame.\n",
      "Try using .loc[row_indexer,col_indexer] = value instead\n",
      "\n",
      "See the caveats in the documentation: https://pandas.pydata.org/pandas-docs/stable/user_guide/indexing.html#returning-a-view-versus-a-copy\n",
      "  df['prediction'] = df.apply(lambda row: float(clf(row['user_id'], k)[get_movie_idx(row['movie_id'])]), axis=1)\n"
     ]
    },
    {
     "name": "stdout",
     "output_type": "stream",
     "text": [
      "[0.8938061480606981, 0.8964952810787709]\n"
     ]
    },
    {
     "name": "stderr",
     "output_type": "stream",
     "text": [
      "<ipython-input-40-880024b06851>:5: SettingWithCopyWarning: \n",
      "A value is trying to be set on a copy of a slice from a DataFrame.\n",
      "Try using .loc[row_indexer,col_indexer] = value instead\n",
      "\n",
      "See the caveats in the documentation: https://pandas.pydata.org/pandas-docs/stable/user_guide/indexing.html#returning-a-view-versus-a-copy\n",
      "  df['prediction'] = df.apply(lambda row: float(clf(row['user_id'], k)[get_movie_idx(row['movie_id'])]), axis=1)\n"
     ]
    },
    {
     "name": "stdout",
     "output_type": "stream",
     "text": [
      "[1.049520907112889, 1.0480139618616995]\n"
     ]
    },
    {
     "name": "stderr",
     "output_type": "stream",
     "text": [
      "<ipython-input-40-880024b06851>:5: SettingWithCopyWarning: \n",
      "A value is trying to be set on a copy of a slice from a DataFrame.\n",
      "Try using .loc[row_indexer,col_indexer] = value instead\n",
      "\n",
      "See the caveats in the documentation: https://pandas.pydata.org/pandas-docs/stable/user_guide/indexing.html#returning-a-view-versus-a-copy\n",
      "  df['prediction'] = df.apply(lambda row: float(clf(row['user_id'], k)[get_movie_idx(row['movie_id'])]), axis=1)\n"
     ]
    },
    {
     "name": "stdout",
     "output_type": "stream",
     "text": [
      "[0.8938061480606981, 0.8964952810787709, 0.8985881305319127]\n"
     ]
    },
    {
     "name": "stderr",
     "output_type": "stream",
     "text": [
      "<ipython-input-40-880024b06851>:5: SettingWithCopyWarning: \n",
      "A value is trying to be set on a copy of a slice from a DataFrame.\n",
      "Try using .loc[row_indexer,col_indexer] = value instead\n",
      "\n",
      "See the caveats in the documentation: https://pandas.pydata.org/pandas-docs/stable/user_guide/indexing.html#returning-a-view-versus-a-copy\n",
      "  df['prediction'] = df.apply(lambda row: float(clf(row['user_id'], k)[get_movie_idx(row['movie_id'])]), axis=1)\n"
     ]
    },
    {
     "name": "stdout",
     "output_type": "stream",
     "text": [
      "[1.049520907112889, 1.0480139618616995, 1.0482237326706192]\n"
     ]
    },
    {
     "name": "stderr",
     "output_type": "stream",
     "text": [
      "<ipython-input-40-880024b06851>:5: SettingWithCopyWarning: \n",
      "A value is trying to be set on a copy of a slice from a DataFrame.\n",
      "Try using .loc[row_indexer,col_indexer] = value instead\n",
      "\n",
      "See the caveats in the documentation: https://pandas.pydata.org/pandas-docs/stable/user_guide/indexing.html#returning-a-view-versus-a-copy\n",
      "  df['prediction'] = df.apply(lambda row: float(clf(row['user_id'], k)[get_movie_idx(row['movie_id'])]), axis=1)\n"
     ]
    },
    {
     "name": "stdout",
     "output_type": "stream",
     "text": [
      "[0.8938061480606981, 0.8964952810787709, 0.8985881305319127, 0.9008720386147278]\n"
     ]
    },
    {
     "name": "stderr",
     "output_type": "stream",
     "text": [
      "<ipython-input-40-880024b06851>:5: SettingWithCopyWarning: \n",
      "A value is trying to be set on a copy of a slice from a DataFrame.\n",
      "Try using .loc[row_indexer,col_indexer] = value instead\n",
      "\n",
      "See the caveats in the documentation: https://pandas.pydata.org/pandas-docs/stable/user_guide/indexing.html#returning-a-view-versus-a-copy\n",
      "  df['prediction'] = df.apply(lambda row: float(clf(row['user_id'], k)[get_movie_idx(row['movie_id'])]), axis=1)\n"
     ]
    },
    {
     "name": "stdout",
     "output_type": "stream",
     "text": [
      "[1.049520907112889, 1.0480139618616995, 1.0482237326706192, 1.0492979165506173]\n"
     ]
    },
    {
     "name": "stderr",
     "output_type": "stream",
     "text": [
      "<ipython-input-40-880024b06851>:5: SettingWithCopyWarning: \n",
      "A value is trying to be set on a copy of a slice from a DataFrame.\n",
      "Try using .loc[row_indexer,col_indexer] = value instead\n",
      "\n",
      "See the caveats in the documentation: https://pandas.pydata.org/pandas-docs/stable/user_guide/indexing.html#returning-a-view-versus-a-copy\n",
      "  df['prediction'] = df.apply(lambda row: float(clf(row['user_id'], k)[get_movie_idx(row['movie_id'])]), axis=1)\n"
     ]
    },
    {
     "name": "stdout",
     "output_type": "stream",
     "text": [
      "[0.8938061480606981, 0.8964952810787709, 0.8985881305319127, 0.9008720386147278, 0.900573620184072]\n"
     ]
    },
    {
     "name": "stderr",
     "output_type": "stream",
     "text": [
      "<ipython-input-40-880024b06851>:5: SettingWithCopyWarning: \n",
      "A value is trying to be set on a copy of a slice from a DataFrame.\n",
      "Try using .loc[row_indexer,col_indexer] = value instead\n",
      "\n",
      "See the caveats in the documentation: https://pandas.pydata.org/pandas-docs/stable/user_guide/indexing.html#returning-a-view-versus-a-copy\n",
      "  df['prediction'] = df.apply(lambda row: float(clf(row['user_id'], k)[get_movie_idx(row['movie_id'])]), axis=1)\n"
     ]
    },
    {
     "name": "stdout",
     "output_type": "stream",
     "text": [
      "[1.049520907112889, 1.0480139618616995, 1.0482237326706192, 1.0492979165506173, 1.051030477581273]\n"
     ]
    },
    {
     "name": "stderr",
     "output_type": "stream",
     "text": [
      "<ipython-input-40-880024b06851>:5: SettingWithCopyWarning: \n",
      "A value is trying to be set on a copy of a slice from a DataFrame.\n",
      "Try using .loc[row_indexer,col_indexer] = value instead\n",
      "\n",
      "See the caveats in the documentation: https://pandas.pydata.org/pandas-docs/stable/user_guide/indexing.html#returning-a-view-versus-a-copy\n",
      "  df['prediction'] = df.apply(lambda row: float(clf(row['user_id'], k)[get_movie_idx(row['movie_id'])]), axis=1)\n"
     ]
    },
    {
     "name": "stdout",
     "output_type": "stream",
     "text": [
      "[0.8938061480606981, 0.8964952810787709, 0.8985881305319127, 0.9008720386147278, 0.900573620184072, 0.9019128890116292]\n"
     ]
    },
    {
     "name": "stderr",
     "output_type": "stream",
     "text": [
      "<ipython-input-40-880024b06851>:5: SettingWithCopyWarning: \n",
      "A value is trying to be set on a copy of a slice from a DataFrame.\n",
      "Try using .loc[row_indexer,col_indexer] = value instead\n",
      "\n",
      "See the caveats in the documentation: https://pandas.pydata.org/pandas-docs/stable/user_guide/indexing.html#returning-a-view-versus-a-copy\n",
      "  df['prediction'] = df.apply(lambda row: float(clf(row['user_id'], k)[get_movie_idx(row['movie_id'])]), axis=1)\n"
     ]
    },
    {
     "name": "stdout",
     "output_type": "stream",
     "text": [
      "[1.049520907112889, 1.0480139618616995, 1.0482237326706192, 1.0492979165506173, 1.051030477581273, 1.0474423641251813]\n"
     ]
    },
    {
     "name": "stderr",
     "output_type": "stream",
     "text": [
      "<ipython-input-40-880024b06851>:5: SettingWithCopyWarning: \n",
      "A value is trying to be set on a copy of a slice from a DataFrame.\n",
      "Try using .loc[row_indexer,col_indexer] = value instead\n",
      "\n",
      "See the caveats in the documentation: https://pandas.pydata.org/pandas-docs/stable/user_guide/indexing.html#returning-a-view-versus-a-copy\n",
      "  df['prediction'] = df.apply(lambda row: float(clf(row['user_id'], k)[get_movie_idx(row['movie_id'])]), axis=1)\n"
     ]
    },
    {
     "name": "stdout",
     "output_type": "stream",
     "text": [
      "[0.8938061480606981, 0.8964952810787709, 0.8985881305319127, 0.9008720386147278, 0.900573620184072, 0.9019128890116292, 0.9049180372725236]\n"
     ]
    },
    {
     "name": "stderr",
     "output_type": "stream",
     "text": [
      "<ipython-input-40-880024b06851>:5: SettingWithCopyWarning: \n",
      "A value is trying to be set on a copy of a slice from a DataFrame.\n",
      "Try using .loc[row_indexer,col_indexer] = value instead\n",
      "\n",
      "See the caveats in the documentation: https://pandas.pydata.org/pandas-docs/stable/user_guide/indexing.html#returning-a-view-versus-a-copy\n",
      "  df['prediction'] = df.apply(lambda row: float(clf(row['user_id'], k)[get_movie_idx(row['movie_id'])]), axis=1)\n"
     ]
    },
    {
     "name": "stdout",
     "output_type": "stream",
     "text": [
      "[1.049520907112889, 1.0480139618616995, 1.0482237326706192, 1.0492979165506173, 1.051030477581273, 1.0474423641251813, 1.047571746536073]\n"
     ]
    },
    {
     "name": "stderr",
     "output_type": "stream",
     "text": [
      "<ipython-input-40-880024b06851>:5: SettingWithCopyWarning: \n",
      "A value is trying to be set on a copy of a slice from a DataFrame.\n",
      "Try using .loc[row_indexer,col_indexer] = value instead\n",
      "\n",
      "See the caveats in the documentation: https://pandas.pydata.org/pandas-docs/stable/user_guide/indexing.html#returning-a-view-versus-a-copy\n",
      "  df['prediction'] = df.apply(lambda row: float(clf(row['user_id'], k)[get_movie_idx(row['movie_id'])]), axis=1)\n"
     ]
    },
    {
     "name": "stdout",
     "output_type": "stream",
     "text": [
      "[0.8938061480606981, 0.8964952810787709, 0.8985881305319127, 0.9008720386147278, 0.900573620184072, 0.9019128890116292, 0.9049180372725236, 0.9058845476207756]\n"
     ]
    },
    {
     "name": "stderr",
     "output_type": "stream",
     "text": [
      "<ipython-input-40-880024b06851>:5: SettingWithCopyWarning: \n",
      "A value is trying to be set on a copy of a slice from a DataFrame.\n",
      "Try using .loc[row_indexer,col_indexer] = value instead\n",
      "\n",
      "See the caveats in the documentation: https://pandas.pydata.org/pandas-docs/stable/user_guide/indexing.html#returning-a-view-versus-a-copy\n",
      "  df['prediction'] = df.apply(lambda row: float(clf(row['user_id'], k)[get_movie_idx(row['movie_id'])]), axis=1)\n"
     ]
    },
    {
     "name": "stdout",
     "output_type": "stream",
     "text": [
      "[1.049520907112889, 1.0480139618616995, 1.0482237326706192, 1.0492979165506173, 1.051030477581273, 1.0474423641251813, 1.047571746536073, 1.047424565545716]\n"
     ]
    },
    {
     "name": "stderr",
     "output_type": "stream",
     "text": [
      "<ipython-input-40-880024b06851>:5: SettingWithCopyWarning: \n",
      "A value is trying to be set on a copy of a slice from a DataFrame.\n",
      "Try using .loc[row_indexer,col_indexer] = value instead\n",
      "\n",
      "See the caveats in the documentation: https://pandas.pydata.org/pandas-docs/stable/user_guide/indexing.html#returning-a-view-versus-a-copy\n",
      "  df['prediction'] = df.apply(lambda row: float(clf(row['user_id'], k)[get_movie_idx(row['movie_id'])]), axis=1)\n"
     ]
    },
    {
     "name": "stdout",
     "output_type": "stream",
     "text": [
      "[0.8938061480606981, 0.8964952810787709, 0.8985881305319127, 0.9008720386147278, 0.900573620184072, 0.9019128890116292, 0.9049180372725236, 0.9058845476207756, 0.9085177196147712]\n"
     ]
    },
    {
     "name": "stderr",
     "output_type": "stream",
     "text": [
      "<ipython-input-40-880024b06851>:5: SettingWithCopyWarning: \n",
      "A value is trying to be set on a copy of a slice from a DataFrame.\n",
      "Try using .loc[row_indexer,col_indexer] = value instead\n",
      "\n",
      "See the caveats in the documentation: https://pandas.pydata.org/pandas-docs/stable/user_guide/indexing.html#returning-a-view-versus-a-copy\n",
      "  df['prediction'] = df.apply(lambda row: float(clf(row['user_id'], k)[get_movie_idx(row['movie_id'])]), axis=1)\n"
     ]
    },
    {
     "name": "stdout",
     "output_type": "stream",
     "text": [
      "[1.049520907112889, 1.0480139618616995, 1.0482237326706192, 1.0492979165506173, 1.051030477581273, 1.0474423641251813, 1.047571746536073, 1.047424565545716, 1.0454376706665467]\n"
     ]
    },
    {
     "name": "stderr",
     "output_type": "stream",
     "text": [
      "<ipython-input-40-880024b06851>:5: SettingWithCopyWarning: \n",
      "A value is trying to be set on a copy of a slice from a DataFrame.\n",
      "Try using .loc[row_indexer,col_indexer] = value instead\n",
      "\n",
      "See the caveats in the documentation: https://pandas.pydata.org/pandas-docs/stable/user_guide/indexing.html#returning-a-view-versus-a-copy\n",
      "  df['prediction'] = df.apply(lambda row: float(clf(row['user_id'], k)[get_movie_idx(row['movie_id'])]), axis=1)\n"
     ]
    },
    {
     "name": "stdout",
     "output_type": "stream",
     "text": [
      "[0.8938061480606981, 0.8964952810787709, 0.8985881305319127, 0.9008720386147278, 0.900573620184072, 0.9019128890116292, 0.9049180372725236, 0.9058845476207756, 0.9085177196147712, 0.9092817878527341]\n"
     ]
    },
    {
     "name": "stderr",
     "output_type": "stream",
     "text": [
      "<ipython-input-40-880024b06851>:5: SettingWithCopyWarning: \n",
      "A value is trying to be set on a copy of a slice from a DataFrame.\n",
      "Try using .loc[row_indexer,col_indexer] = value instead\n",
      "\n",
      "See the caveats in the documentation: https://pandas.pydata.org/pandas-docs/stable/user_guide/indexing.html#returning-a-view-versus-a-copy\n",
      "  df['prediction'] = df.apply(lambda row: float(clf(row['user_id'], k)[get_movie_idx(row['movie_id'])]), axis=1)\n"
     ]
    },
    {
     "name": "stdout",
     "output_type": "stream",
     "text": [
      "[1.049520907112889, 1.0480139618616995, 1.0482237326706192, 1.0492979165506173, 1.051030477581273, 1.0474423641251813, 1.047571746536073, 1.047424565545716, 1.0454376706665467, 1.045592430523967]\n"
     ]
    },
    {
     "name": "stderr",
     "output_type": "stream",
     "text": [
      "<ipython-input-40-880024b06851>:5: SettingWithCopyWarning: \n",
      "A value is trying to be set on a copy of a slice from a DataFrame.\n",
      "Try using .loc[row_indexer,col_indexer] = value instead\n",
      "\n",
      "See the caveats in the documentation: https://pandas.pydata.org/pandas-docs/stable/user_guide/indexing.html#returning-a-view-versus-a-copy\n",
      "  df['prediction'] = df.apply(lambda row: float(clf(row['user_id'], k)[get_movie_idx(row['movie_id'])]), axis=1)\n"
     ]
    },
    {
     "name": "stdout",
     "output_type": "stream",
     "text": [
      "[0.8938061480606981, 0.8964952810787709, 0.8985881305319127, 0.9008720386147278, 0.900573620184072, 0.9019128890116292, 0.9049180372725236, 0.9058845476207756, 0.9085177196147712, 0.9092817878527341, 0.9086965090581336]\n"
     ]
    },
    {
     "name": "stderr",
     "output_type": "stream",
     "text": [
      "<ipython-input-40-880024b06851>:5: SettingWithCopyWarning: \n",
      "A value is trying to be set on a copy of a slice from a DataFrame.\n",
      "Try using .loc[row_indexer,col_indexer] = value instead\n",
      "\n",
      "See the caveats in the documentation: https://pandas.pydata.org/pandas-docs/stable/user_guide/indexing.html#returning-a-view-versus-a-copy\n",
      "  df['prediction'] = df.apply(lambda row: float(clf(row['user_id'], k)[get_movie_idx(row['movie_id'])]), axis=1)\n"
     ]
    },
    {
     "name": "stdout",
     "output_type": "stream",
     "text": [
      "[1.049520907112889, 1.0480139618616995, 1.0482237326706192, 1.0492979165506173, 1.051030477581273, 1.0474423641251813, 1.047571746536073, 1.047424565545716, 1.0454376706665467, 1.045592430523967, 1.0445546066827907]\n"
     ]
    },
    {
     "name": "stderr",
     "output_type": "stream",
     "text": [
      "<ipython-input-40-880024b06851>:5: SettingWithCopyWarning: \n",
      "A value is trying to be set on a copy of a slice from a DataFrame.\n",
      "Try using .loc[row_indexer,col_indexer] = value instead\n",
      "\n",
      "See the caveats in the documentation: https://pandas.pydata.org/pandas-docs/stable/user_guide/indexing.html#returning-a-view-versus-a-copy\n",
      "  df['prediction'] = df.apply(lambda row: float(clf(row['user_id'], k)[get_movie_idx(row['movie_id'])]), axis=1)\n"
     ]
    },
    {
     "name": "stdout",
     "output_type": "stream",
     "text": [
      "[0.8938061480606981, 0.8964952810787709, 0.8985881305319127, 0.9008720386147278, 0.900573620184072, 0.9019128890116292, 0.9049180372725236, 0.9058845476207756, 0.9085177196147712, 0.9092817878527341, 0.9086965090581336, 0.9106165931819766]\n"
     ]
    },
    {
     "name": "stderr",
     "output_type": "stream",
     "text": [
      "<ipython-input-40-880024b06851>:5: SettingWithCopyWarning: \n",
      "A value is trying to be set on a copy of a slice from a DataFrame.\n",
      "Try using .loc[row_indexer,col_indexer] = value instead\n",
      "\n",
      "See the caveats in the documentation: https://pandas.pydata.org/pandas-docs/stable/user_guide/indexing.html#returning-a-view-versus-a-copy\n",
      "  df['prediction'] = df.apply(lambda row: float(clf(row['user_id'], k)[get_movie_idx(row['movie_id'])]), axis=1)\n"
     ]
    },
    {
     "name": "stdout",
     "output_type": "stream",
     "text": [
      "[1.049520907112889, 1.0480139618616995, 1.0482237326706192, 1.0492979165506173, 1.051030477581273, 1.0474423641251813, 1.047571746536073, 1.047424565545716, 1.0454376706665467, 1.045592430523967, 1.0445546066827907, 1.0449052638980527]\n"
     ]
    },
    {
     "name": "stderr",
     "output_type": "stream",
     "text": [
      "<ipython-input-40-880024b06851>:5: SettingWithCopyWarning: \n",
      "A value is trying to be set on a copy of a slice from a DataFrame.\n",
      "Try using .loc[row_indexer,col_indexer] = value instead\n",
      "\n",
      "See the caveats in the documentation: https://pandas.pydata.org/pandas-docs/stable/user_guide/indexing.html#returning-a-view-versus-a-copy\n",
      "  df['prediction'] = df.apply(lambda row: float(clf(row['user_id'], k)[get_movie_idx(row['movie_id'])]), axis=1)\n"
     ]
    },
    {
     "name": "stdout",
     "output_type": "stream",
     "text": [
      "[0.8938061480606981, 0.8964952810787709, 0.8985881305319127, 0.9008720386147278, 0.900573620184072, 0.9019128890116292, 0.9049180372725236, 0.9058845476207756, 0.9085177196147712, 0.9092817878527341, 0.9086965090581336, 0.9106165931819766, 0.9102185505095394]\n"
     ]
    },
    {
     "name": "stderr",
     "output_type": "stream",
     "text": [
      "<ipython-input-40-880024b06851>:5: SettingWithCopyWarning: \n",
      "A value is trying to be set on a copy of a slice from a DataFrame.\n",
      "Try using .loc[row_indexer,col_indexer] = value instead\n",
      "\n",
      "See the caveats in the documentation: https://pandas.pydata.org/pandas-docs/stable/user_guide/indexing.html#returning-a-view-versus-a-copy\n",
      "  df['prediction'] = df.apply(lambda row: float(clf(row['user_id'], k)[get_movie_idx(row['movie_id'])]), axis=1)\n"
     ]
    },
    {
     "name": "stdout",
     "output_type": "stream",
     "text": [
      "[1.049520907112889, 1.0480139618616995, 1.0482237326706192, 1.0492979165506173, 1.051030477581273, 1.0474423641251813, 1.047571746536073, 1.047424565545716, 1.0454376706665467, 1.045592430523967, 1.0445546066827907, 1.0449052638980527, 1.04695017993497]\n"
     ]
    },
    {
     "name": "stderr",
     "output_type": "stream",
     "text": [
      "<ipython-input-40-880024b06851>:5: SettingWithCopyWarning: \n",
      "A value is trying to be set on a copy of a slice from a DataFrame.\n",
      "Try using .loc[row_indexer,col_indexer] = value instead\n",
      "\n",
      "See the caveats in the documentation: https://pandas.pydata.org/pandas-docs/stable/user_guide/indexing.html#returning-a-view-versus-a-copy\n",
      "  df['prediction'] = df.apply(lambda row: float(clf(row['user_id'], k)[get_movie_idx(row['movie_id'])]), axis=1)\n"
     ]
    },
    {
     "name": "stdout",
     "output_type": "stream",
     "text": [
      "[0.8938061480606981, 0.8964952810787709, 0.8985881305319127, 0.9008720386147278, 0.900573620184072, 0.9019128890116292, 0.9049180372725236, 0.9058845476207756, 0.9085177196147712, 0.9092817878527341, 0.9086965090581336, 0.9106165931819766, 0.9102185505095394, 0.9113794062176768]\n"
     ]
    }
   ],
   "source": [
    "train_rmses = []\n",
    "test_rmses = []\n",
    "ks = list(range(50, 150, 5))\n",
    "\n",
    "for k in ks:\n",
    "    _, train_rmse = make_knn_prediction(train_testset, k)\n",
    "    train_rmses.append(train_rmse)\n",
    "    print(train_rmses)\n",
    "    \n",
    "    _, test_rmse = make_knn_prediction(test, k)\n",
    "    test_rmses.append(test_rmse)\n",
    "    print(test_rmses)\n"
   ]
  },
  {
   "cell_type": "code",
   "execution_count": 47,
   "id": "fafbe4c4",
   "metadata": {},
   "outputs": [
    {
     "data": {
      "text/plain": [
       "<AxesSubplot:>"
      ]
     },
     "execution_count": 47,
     "metadata": {},
     "output_type": "execute_result"
    },
    {
     "data": {
      "image/png": "[encoded data removed]",
      "text/plain": [
       "<Figure size 432x288 with 1 Axes>"
      ]
     },
     "metadata": {
      "needs_background": "light"
     },
     "output_type": "display_data"
    }
   ],
   "source": [
    "pd.DataFrame({\"train\": train_rmses, \"test\": test_rmses}, index = ks).plot()"
   ]
  },
  {
   "cell_type": "code",
   "execution_count": 43,
   "id": "c11417e4",
   "metadata": {},
   "outputs": [
    {
     "data": {
      "text/plain": [
       "<AxesSubplot:>"
      ]
     },
     "execution_count": 43,
     "metadata": {},
     "output_type": "execute_result"
    },
    {
     "data": {
      "image/png": "[encoded data removed]",
      "text/plain": [
       "<Figure size 432x288 with 1 Axes>"
      ]
     },
     "metadata": {
      "needs_background": "light"
     },
     "output_type": "display_data"
    }
   ],
   "source": [
    "pd.DataFrame({\"train\": train_rmses, \"test\": test_rmses}, index = ks).plot()"
   ]
  },
  {
   "cell_type": "markdown",
   "id": "1ae83719",
   "metadata": {},
   "source": [
    "### Hyperparameter tuning"
   ]
  },
  {
   "cell_type": "code",
   "execution_count": null,
   "id": "adbf7883-7436-4c6b-b39f-cd812c8db906",
   "metadata": {},
   "outputs": [],
   "source": []
  },
  {
   "cell_type": "code",
   "execution_count": null,
   "id": "89dff95f-0560-4d73-95f8-1a1f28c7ba56",
   "metadata": {},
   "outputs": [],
   "source": []
  },
  {
   "cell_type": "markdown",
   "id": "58f4e974-b935-4c56-8588-7ee8f783e29f",
   "metadata": {},
   "source": [
    "# Scratchpad"
   ]
  },
  {
   "cell_type": "code",
   "execution_count": 86,
   "id": "7c10ce7a-e818-4508-b0b0-3a67b44216cb",
   "metadata": {},
   "outputs": [],
   "source": [
    "import numpy as np\n",
    "from pprint import pprint\n",
    "\n",
    "def get_similar_users(user, n = 5):\n",
    "    knn_input = np.asarray([user_to_movie.values[user-1]])\n",
    "        # get user's row from user-item matrix\n",
    "    distances, indices = knn.kneighbors(knn_input, n_neighbors = n+1)\n",
    "\n",
    "    print(\" \")\n",
    "    print(\"Top\", n, \"users who are very much similar to the User \", user, \"are: \")\n",
    "    for i in range(1,len(distances[0])):\n",
    "        print(i,\". User:\", indices[0][i]+1, \"separated by distance of\",distances[0][i])\n",
    "        \n",
    "    return indices.flatten()[1:] + 1, distances.flatten()[1:]\n",
    "\n",
    "def recommend_n_movies(user_id, n_similar_users, n_movie_recs):\n",
    "    print(f'Movies seen by User {user_id}:')\n",
    "    pprint(list(merged[merged['user_id'] == user_id]['title']))\n",
    "\n",
    "    # get n_similar_users and their cosine similarity distances\n",
    "    similar_users, distance_list = get_similar_users(user_id, n_similar_users)\n",
    "\n",
    "    # define weights to ratings by each similar user based on distance\n",
    "        # -> eliminates chance of decision manipulation by users relatively far from input user\n",
    "    weightage_list = distance_list / np.sum(distance_list)\n",
    "    \n",
    "    # get ratings of all movies from similar users\n",
    "    mov_ratings_sim_users = user_to_movie.loc[similar_users]\n",
    "    movies_id_list = user_to_movie.columns\n",
    "    \n",
    "    # transform to make it compatible for matrix operations\n",
    "    weightage_list = weightage_list[:, np.newaxis] + np.zeros(len(movies_id_list))\n",
    "    \n",
    "    # apply the weights to user ratings\n",
    "    new_rating_matrix = weightage_list * mov_ratings_sim_users\n",
    "    \n",
    "    # get the mean ratings\n",
    "    mean_rating_list = new_rating_matrix.sum(axis = 0)\n",
    "\n",
    "    # get n movie indices with the highest mean\n",
    "        # FIX: remove movies already seen by user\n",
    "    highest_score_idx = np.argsort(mean_rating_list)[::-1][:n_movie_recs]\n",
    "    rec_movie_ids = new_rating_matrix.iloc[:, highest_score_idx].columns\n",
    "    \n",
    "    print(\" \")\n",
    "    print(f\"Top {n_movie_recs} movie recommendations to user {user_id}:\")\n",
    "    rec_movies = []\n",
    "    for rec_movie_id in rec_movie_ids:\n",
    "        movie_title = movies[movies['movie_id'] == rec_movie_id]['title'].values[0]\n",
    "        rec_movies.append(movie_title)\n",
    "        print(f\"\\t{movie_title}\")\n",
    "\n",
    "    return rec_movies"
   ]
  },
  {
   "cell_type": "code",
   "execution_count": 87,
   "id": "204255a1-156f-4cb8-89ef-ecd02eb67e9d",
   "metadata": {},
   "outputs": [
    {
     "name": "stdout",
     "output_type": "stream",
     "text": [
      "Did you mean Willy Wonka and the Chocolate Factory (1971)?\n"
     ]
    },
    {
     "ename": "NameError",
     "evalue": "name 'movie_to_user' is not defined",
     "output_type": "error",
     "traceback": [
      "\u001b[0;31m---------------------------------------------------------------------------\u001b[0m",
      "\u001b[0;31mNameError\u001b[0m                                 Traceback (most recent call last)",
      "\u001b[0;32m<ipython-input-87-db91e56efd80>\u001b[0m in \u001b[0;36m<module>\u001b[0;34m\u001b[0m\n\u001b[1;32m     50\u001b[0m \u001b[0;34m\u001b[0m\u001b[0m\n\u001b[1;32m     51\u001b[0m \u001b[0mmovie_title\u001b[0m \u001b[0;34m=\u001b[0m \u001b[0;34m'willy woka choco'\u001b[0m\u001b[0;34m\u001b[0m\u001b[0;34m\u001b[0m\u001b[0m\n\u001b[0;32m---> 52\u001b[0;31m \u001b[0mrec_movies_by_name\u001b[0m\u001b[0;34m(\u001b[0m\u001b[0mmovie_title\u001b[0m\u001b[0;34m,\u001b[0m \u001b[0;36m20\u001b[0m\u001b[0;34m)\u001b[0m\u001b[0;34m\u001b[0m\u001b[0;34m\u001b[0m\u001b[0m\n\u001b[0m",
      "\u001b[0;32m<ipython-input-87-db91e56efd80>\u001b[0m in \u001b[0;36mrec_movies_by_name\u001b[0;34m(movie_name, n_movie_recs)\u001b[0m\n\u001b[1;32m     36\u001b[0m     \u001b[0mmovie_id\u001b[0m \u001b[0;34m=\u001b[0m \u001b[0mget_id_from_title\u001b[0m\u001b[0;34m(\u001b[0m\u001b[0mmovie_name\u001b[0m\u001b[0;34m)\u001b[0m\u001b[0;34m\u001b[0m\u001b[0;34m\u001b[0m\u001b[0m\n\u001b[1;32m     37\u001b[0m \u001b[0;34m\u001b[0m\u001b[0m\n\u001b[0;32m---> 38\u001b[0;31m     \u001b[0mknn_input\u001b[0m \u001b[0;34m=\u001b[0m \u001b[0mnp\u001b[0m\u001b[0;34m.\u001b[0m\u001b[0masarray\u001b[0m\u001b[0;34m(\u001b[0m\u001b[0;34m[\u001b[0m\u001b[0mmovie_to_user\u001b[0m\u001b[0;34m.\u001b[0m\u001b[0mvalues\u001b[0m\u001b[0;34m[\u001b[0m\u001b[0mmovie_id\u001b[0m\u001b[0;34m]\u001b[0m\u001b[0;34m]\u001b[0m\u001b[0;34m)\u001b[0m\u001b[0;34m\u001b[0m\u001b[0;34m\u001b[0m\u001b[0m\n\u001b[0m\u001b[1;32m     39\u001b[0m \u001b[0;34m\u001b[0m\u001b[0m\n\u001b[1;32m     40\u001b[0m     \u001b[0mmovie_ids_list\u001b[0m \u001b[0;34m=\u001b[0m \u001b[0mmovie_to_user\u001b[0m\u001b[0;34m.\u001b[0m\u001b[0mindex\u001b[0m\u001b[0;34m\u001b[0m\u001b[0;34m\u001b[0m\u001b[0m\n",
      "\u001b[0;31mNameError\u001b[0m: name 'movie_to_user' is not defined"
     ]
    }
   ],
   "source": [
    "# Fix wrong input by user\n",
    "from fuzzywuzzy import fuzz\n",
    "\n",
    "def get_title_from_id(id):\n",
    "    # convert idx to title\n",
    "    return movies[movies['movie_id'] == id]['title'].values[0]\n",
    "\n",
    "def get_id_from_title(title):\n",
    "    # convert title to idx\n",
    "    return movies[movies['title'] == title]['movie_id'].values[0]\n",
    "    \n",
    "def matching_score(a, b):\n",
    "    # calculate the Levenshtein distance to find closest title\n",
    "        # if exactly same score == 100\n",
    "    return fuzz.ratio(a, b) \n",
    "\n",
    "def find_closest_title(title):\n",
    "    leven_scores = list(enumerate(movies['title'].apply(matching_score, b = title)))\n",
    "    sorted_lev_scores = sorted(leven_scores, key = lambda x: x[1], reverse = True)\n",
    "\n",
    "    closest_idx = sorted_lev_scores[0][0]\n",
    "    closest_movie = movies.loc[closest_idx]\n",
    "    distance_score = sorted_lev_scores[0][1]\n",
    "\n",
    "    closest_movie_id = closest_movie['movie_id']\n",
    "    closest_movie_title = closest_movie['title']\n",
    "    \n",
    "    return (closest_movie_id, closest_movie_title, distance_score)\n",
    "\n",
    "def rec_movies_by_name(movie_name, n_movie_recs = 10):\n",
    "    closest_id, closest_movie, distance_score = find_closest_title(movie_name)\n",
    "    if distance_score != 100:\n",
    "        movie_name = closest_movie\n",
    "        print(f\"Did you mean {movie_name}?\")\n",
    "    \n",
    "    movie_id = get_id_from_title(movie_name)\n",
    "\n",
    "    knn_input = np.asarray([movie_to_user.values[movie_id]])\n",
    "\n",
    "    movie_ids_list = movie_to_user.index\n",
    "    n = min(len(movie_ids_list), n_movie_recs)\n",
    "        # if n_movie_recs goes over number of movies, revert to all movies\n",
    "    distances, indices = knn_movie_model.kneighbors(knn_input, n_neighbors = n + 1) \n",
    "\n",
    "    print(f\"Top {n} movies which are very similar to movie {movie_name} are: \\n\")\n",
    "    for i in range(1, len(distances[0])):\n",
    "        movie_id = movie_ids_list[indices[0][i]]\n",
    "        movie_title = get_title_from_id(movie_id)\n",
    "        print(movie_title)\n",
    "\n",
    "movie_title = 'willy woka choco'\n",
    "rec_movies_by_name(movie_title, 20)"
   ]
  },
  {
   "cell_type": "code",
   "execution_count": null,
   "id": "695353a5-c2d6-43a3-a385-b24280688faf",
   "metadata": {},
   "outputs": [],
   "source": [
    "# !! ARCHIVED !! For initial content-based rec model that takes movie name instead of user id as input\n",
    "# Fuzzy string matching to fix wrong movie input by user\n",
    "from pprint import pprint\n",
    "from fuzzywuzzy import fuzz\n",
    "\n",
    "def get_movie_from_idx(idx):\n",
    "    # get movie details from idx\n",
    "    title = content_rec.loc[idx, 'title']\n",
    "    year = content_rec.loc[idx, 'year']\n",
    "\n",
    "    return title, year\n",
    "    \n",
    "def get_idx_from_title(title):\n",
    "    # convert title to idx\n",
    "    return content_rec[content_rec['title'] == title].index.values[0]\n",
    "\n",
    "# Fix wrong input by user\n",
    "def matching_score(a, b):\n",
    "    # calculate the Levenshtein distance to find closest title\n",
    "        # if exactly same score == 100\n",
    "    return fuzz.ratio(a, b) \n",
    "    \n",
    "def find_closest_title(title):\n",
    "    leven_scores = list(enumerate(content_rec['title'].apply(matching_score, b = title)))\n",
    "    sorted_lev_scores = sorted(leven_scores, key = lambda x: x[1], reverse = True)\n",
    "\n",
    "    closest_idx = sorted_lev_scores[0][0]\n",
    "    closest_movie = content_rec.loc[closest_idx]\n",
    "    distance_score = sorted_lev_scores[0][1]\n",
    "\n",
    "    closest_movie_id = closest_movie['movie_id']\n",
    "    closest_movie_title = closest_movie['title']\n",
    "        \n",
    "    return (closest_movie_id, closest_movie_title, distance_score)"
   ]
  },
  {
   "cell_type": "code",
   "execution_count": null,
   "id": "05fb3b31",
   "metadata": {},
   "outputs": [],
   "source": [
    "\"\"\"\n",
    "from scipy.sparse import csr_matrix\n",
    "\n",
    "# since we're using cosine similarity, we can fill with 0 \n",
    "# cosine similarity does not take magnitude to account\n",
    "refined = merged.groupby(['user_id', 'movie_id'], as_index = False).agg({'rating': 'mean'})\n",
    "\n",
    "# create user-item matrix \n",
    "user_to_movie = refined.pivot(index = 'user_id', columns='movie_id', values='rating').fillna(0)\n",
    "# convert to csr matrix for efficiency (sparse matrix optimization)\n",
    "user_to_movie_sparse = csr_matrix(user_to_movie.values)\n",
    "\n",
    "user_item_matrix = merged.pivot(index = 'user_id', columns = 'title', values = 'rating').fillna(0)\n",
    "user_item_csr = csr_matrix(user_item_matrix.values)\n",
    "user_item_matrix\n",
    "\"\"\""
   ]
  },
  {
   "cell_type": "code",
   "execution_count": 56,
   "id": "a821a9aa",
   "metadata": {},
   "outputs": [
    {
     "data": {
      "text/html": [
       "<div>\n",
       "<style scoped>\n",
       "    .dataframe tbody tr th:only-of-type {\n",
       "        vertical-align: middle;\n",
       "    }\n",
       "\n",
       "    .dataframe tbody tr th {\n",
       "        vertical-align: top;\n",
       "    }\n",
       "\n",
       "    .dataframe thead th {\n",
       "        text-align: right;\n",
       "    }\n",
       "</style>\n",
       "<table border=\"1\" class=\"dataframe\">\n",
       "  <thead>\n",
       "    <tr style=\"text-align: right;\">\n",
       "      <th></th>\n",
       "      <th>movie_id</th>\n",
       "      <th>title</th>\n",
       "    </tr>\n",
       "  </thead>\n",
       "  <tbody>\n",
       "    <tr>\n",
       "      <th>0</th>\n",
       "      <td>1</td>\n",
       "      <td>Toy Story (1995)</td>\n",
       "    </tr>\n",
       "    <tr>\n",
       "      <th>1</th>\n",
       "      <td>2</td>\n",
       "      <td>Jumanji (1995)</td>\n",
       "    </tr>\n",
       "    <tr>\n",
       "      <th>2</th>\n",
       "      <td>3</td>\n",
       "      <td>Grumpier Old Men (1995)</td>\n",
       "    </tr>\n",
       "    <tr>\n",
       "      <th>3</th>\n",
       "      <td>4</td>\n",
       "      <td>Waiting to Exhale (1995)</td>\n",
       "    </tr>\n",
       "    <tr>\n",
       "      <th>4</th>\n",
       "      <td>5</td>\n",
       "      <td>Father of the Bride Part II (1995)</td>\n",
       "    </tr>\n",
       "    <tr>\n",
       "      <th>...</th>\n",
       "      <td>...</td>\n",
       "      <td>...</td>\n",
       "    </tr>\n",
       "    <tr>\n",
       "      <th>3701</th>\n",
       "      <td>3948</td>\n",
       "      <td>Meet the Parents (2000)</td>\n",
       "    </tr>\n",
       "    <tr>\n",
       "      <th>3702</th>\n",
       "      <td>3949</td>\n",
       "      <td>Requiem for a Dream (2000)</td>\n",
       "    </tr>\n",
       "    <tr>\n",
       "      <th>3703</th>\n",
       "      <td>3950</td>\n",
       "      <td>Tigerland (2000)</td>\n",
       "    </tr>\n",
       "    <tr>\n",
       "      <th>3704</th>\n",
       "      <td>3951</td>\n",
       "      <td>Two Family House (2000)</td>\n",
       "    </tr>\n",
       "    <tr>\n",
       "      <th>3705</th>\n",
       "      <td>3952</td>\n",
       "      <td>Contender, The (2000)</td>\n",
       "    </tr>\n",
       "  </tbody>\n",
       "</table>\n",
       "<p>3706 rows × 2 columns</p>\n",
       "</div>"
      ],
      "text/plain": [
       "      movie_id                               title\n",
       "0            1                    Toy Story (1995)\n",
       "1            2                      Jumanji (1995)\n",
       "2            3             Grumpier Old Men (1995)\n",
       "3            4            Waiting to Exhale (1995)\n",
       "4            5  Father of the Bride Part II (1995)\n",
       "...        ...                                 ...\n",
       "3701      3948             Meet the Parents (2000)\n",
       "3702      3949          Requiem for a Dream (2000)\n",
       "3703      3950                    Tigerland (2000)\n",
       "3704      3951             Two Family House (2000)\n",
       "3705      3952               Contender, The (2000)\n",
       "\n",
       "[3706 rows x 2 columns]"
      ]
     },
     "execution_count": 56,
     "metadata": {},
     "output_type": "execute_result"
    }
   ],
   "source": [
    "\n"
   ]
  },
  {
   "cell_type": "code",
   "execution_count": 61,
   "id": "e6d74bbb",
   "metadata": {},
   "outputs": [
    {
     "data": {
      "text/plain": [
       "Int64Index([3701], dtype='int64')"
      ]
     },
     "execution_count": 61,
     "metadata": {},
     "output_type": "execute_result"
    }
   ],
   "source": []
  },
  {
   "cell_type": "code",
   "execution_count": null,
   "id": "9b25c9d4",
   "metadata": {},
   "outputs": [],
   "source": []
  }
 ],
 "metadata": {
  "kernelspec": {
   "display_name": "Python 3 (ipykernel)",
   "language": "python",
   "name": "python3"
  },
  "language_info": {
   "codemirror_mode": {
    "name": "ipython",
    "version": 3
   },
   "file_extension": ".py",
   "mimetype": "text/x-python",
   "name": "python",
   "nbconvert_exporter": "python",
   "pygments_lexer": "ipython3",
   "version": "3.8.8"
  }
 },
 "nbformat": 4,
 "nbformat_minor": 5
}
