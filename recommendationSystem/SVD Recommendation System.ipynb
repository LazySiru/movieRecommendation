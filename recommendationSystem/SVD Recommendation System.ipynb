{
 "cells": [
  {
   "cell_type": "markdown",
   "id": "afa1a985-81f7-41e7-8f63-14c3827f8e46",
   "metadata": {},
   "source": [
    "# SVD recommendation model"
   ]
  },
  {
   "cell_type": "markdown",
   "id": "c2c4e2ae-8a68-4634-ba72-f187a033366b",
   "metadata": {},
   "source": [
    "SVD decomposition takes user-item matrix of `m x n` size and splits into three parts:\n",
    "$$U_{m x k} \\times \\sum_{k x k} \\times V_{k x n}^T$$\n",
    "- $U_{m x k} =$ user (row) and latent factors k (col)\n",
    "- $\\sum_{k x k} =$ latent factors k. I.e., the weights\n",
    "    - Latent factor k is the number of factors or features to consider for the model\n",
    "- $V_{k x n}^T =$ transpose matrix of item (row) x latent factors k (col)\n",
    "- Too low of k leads to a simple model (underfitting), too high of k leads to a complex model (overfitting)\n",
    "\n",
    "\n",
    "Error metrics:\n",
    "- MAE: More easier to interpret than RMSE, but less sensitive to outliers\n",
    "- RMSE: computes the square root of the average of the squared differences between the predicted rating and the actual ratings \n",
    "$$ RMSE = \\sqrt{\\frac{1}{N}\\sum_{(u,i) \\in R} (r_{ui} - \\hat{r_{ui}})^2}$$\n",
    "\n",
    "\n",
    "The 3 main hyper parameters to tune for SVD are:\n",
    "1. Latent factor $k$\n",
    "2. Regularization parameter $\\lambda$\n",
    "    - $J = \\text{new cost} = \\sum_{(u, i) \\in R}[(r_{ui} - \\hat{r_{ui}})^2 + \\lambda (\\sum_u || P_u ||^2 + \\sum_i || Q_i ||^2)]$\n",
    "    - $P =$ vector of latent factors for user u\n",
    "    - $Q =$ vector of latent factors for user k\n",
    "Larger value -> more penalization\n",
    "If value too large -> underfit, If value too small -> overfit\n",
    "3. Learning rate $\\alpha$\n",
    "    - If too high, then model may overshoot minimum thus failing to converge\n",
    "    - If too low, then model may take too long to converge / stuck at local minimum\n",
    "    - The gradients are derived from the cost functions\n",
    "        - $P_u \\leftarrow P_u + \\alpha * [(r_{ui} - \\hat{r_{ui}})^2 Q_i - \\lambda P_u]$\n",
    "        - $Q_i \\leftarrow Q_i + \\alpha * [(r_{ui} - \\hat{r_{ui}})^2 P_u - \\lambda Q_i]$"
   ]
  },
  {
   "cell_type": "code",
   "execution_count": 1,
   "id": "6a670b08-1d36-48a6-bce3-b0a4c0254e60",
   "metadata": {},
   "outputs": [
    {
     "name": "stdout",
     "output_type": "stream",
     "text": [
      "Intel MKL WARNING: Support of Intel(R) Streaming SIMD Extensions 4.2 (Intel(R) SSE4.2) enabled only processors has been deprecated. Intel oneAPI Math Kernel Library 2025.0 will require Intel(R) Advanced Vector Extensions (Intel(R) AVX) instructions.\n",
      "Intel MKL WARNING: Support of Intel(R) Streaming SIMD Extensions 4.2 (Intel(R) SSE4.2) enabled only processors has been deprecated. Intel oneAPI Math Kernel Library 2025.0 will require Intel(R) Advanced Vector Extensions (Intel(R) AVX) instructions.\n"
     ]
    }
   ],
   "source": [
    "import numpy as np\n",
    "import pandas as pd\n",
    "import matplotlib.pyplot as plt\n",
    "import seaborn as sns"
   ]
  },
  {
   "cell_type": "markdown",
   "id": "e76f2a0e-fab0-439e-8e1a-c75344bceaa6",
   "metadata": {},
   "source": [
    "## Import datasets"
   ]
  },
  {
   "cell_type": "code",
   "execution_count": 2,
   "id": "0bf9c218-b466-4e15-9918-df527b41daed",
   "metadata": {},
   "outputs": [
    {
     "data": {
      "text/html": [
       "<div>\n",
       "<style scoped>\n",
       "    .dataframe tbody tr th:only-of-type {\n",
       "        vertical-align: middle;\n",
       "    }\n",
       "\n",
       "    .dataframe tbody tr th {\n",
       "        vertical-align: top;\n",
       "    }\n",
       "\n",
       "    .dataframe thead th {\n",
       "        text-align: right;\n",
       "    }\n",
       "</style>\n",
       "<table border=\"1\" class=\"dataframe\">\n",
       "  <thead>\n",
       "    <tr style=\"text-align: right;\">\n",
       "      <th></th>\n",
       "      <th>user_id</th>\n",
       "      <th>movie_id</th>\n",
       "      <th>rating</th>\n",
       "      <th>timestamp</th>\n",
       "      <th>gender</th>\n",
       "      <th>age</th>\n",
       "      <th>occupation</th>\n",
       "      <th>zip_code</th>\n",
       "      <th>title</th>\n",
       "      <th>genres</th>\n",
       "    </tr>\n",
       "  </thead>\n",
       "  <tbody>\n",
       "    <tr>\n",
       "      <th>0</th>\n",
       "      <td>4958</td>\n",
       "      <td>1407</td>\n",
       "      <td>5</td>\n",
       "      <td>2003-02-28 12:47:23</td>\n",
       "      <td>M</td>\n",
       "      <td>18</td>\n",
       "      <td>7</td>\n",
       "      <td>55403</td>\n",
       "      <td>Scream (1996)</td>\n",
       "      <td>Horror|Thriller</td>\n",
       "    </tr>\n",
       "    <tr>\n",
       "      <th>1</th>\n",
       "      <td>5950</td>\n",
       "      <td>1407</td>\n",
       "      <td>2</td>\n",
       "      <td>2000-05-01 07:50:46</td>\n",
       "      <td>M</td>\n",
       "      <td>25</td>\n",
       "      <td>4</td>\n",
       "      <td>19713</td>\n",
       "      <td>Scream (1996)</td>\n",
       "      <td>Horror|Thriller</td>\n",
       "    </tr>\n",
       "    <tr>\n",
       "      <th>2</th>\n",
       "      <td>4607</td>\n",
       "      <td>1407</td>\n",
       "      <td>3</td>\n",
       "      <td>2000-07-21 12:25:04</td>\n",
       "      <td>M</td>\n",
       "      <td>25</td>\n",
       "      <td>0</td>\n",
       "      <td>27403</td>\n",
       "      <td>Scream (1996)</td>\n",
       "      <td>Horror|Thriller</td>\n",
       "    </tr>\n",
       "    <tr>\n",
       "      <th>3</th>\n",
       "      <td>5312</td>\n",
       "      <td>1407</td>\n",
       "      <td>5</td>\n",
       "      <td>2000-06-29 14:31:32</td>\n",
       "      <td>M</td>\n",
       "      <td>25</td>\n",
       "      <td>1</td>\n",
       "      <td>10463</td>\n",
       "      <td>Scream (1996)</td>\n",
       "      <td>Horror|Thriller</td>\n",
       "    </tr>\n",
       "    <tr>\n",
       "      <th>4</th>\n",
       "      <td>3391</td>\n",
       "      <td>1407</td>\n",
       "      <td>4</td>\n",
       "      <td>2000-08-30 11:45:55</td>\n",
       "      <td>M</td>\n",
       "      <td>18</td>\n",
       "      <td>4</td>\n",
       "      <td>48135</td>\n",
       "      <td>Scream (1996)</td>\n",
       "      <td>Horror|Thriller</td>\n",
       "    </tr>\n",
       "  </tbody>\n",
       "</table>\n",
       "</div>"
      ],
      "text/plain": [
       "   user_id  movie_id  rating            timestamp gender  age  occupation  \\\n",
       "0     4958      1407       5  2003-02-28 12:47:23      M   18           7   \n",
       "1     5950      1407       2  2000-05-01 07:50:46      M   25           4   \n",
       "2     4607      1407       3  2000-07-21 12:25:04      M   25           0   \n",
       "3     5312      1407       5  2000-06-29 14:31:32      M   25           1   \n",
       "4     3391      1407       4  2000-08-30 11:45:55      M   18           4   \n",
       "\n",
       "  zip_code          title           genres  \n",
       "0    55403  Scream (1996)  Horror|Thriller  \n",
       "1    19713  Scream (1996)  Horror|Thriller  \n",
       "2    27403  Scream (1996)  Horror|Thriller  \n",
       "3    10463  Scream (1996)  Horror|Thriller  \n",
       "4    48135  Scream (1996)  Horror|Thriller  "
      ]
     },
     "execution_count": 2,
     "metadata": {},
     "output_type": "execute_result"
    }
   ],
   "source": [
    "data = pd.read_csv('./datasets/merged.csv')\n",
    "data.head()"
   ]
  },
  {
   "cell_type": "code",
   "execution_count": 3,
   "id": "27206959-cae1-4088-9210-3eac6d059b36",
   "metadata": {},
   "outputs": [
    {
     "data": {
      "text/html": [
       "<div>\n",
       "<style scoped>\n",
       "    .dataframe tbody tr th:only-of-type {\n",
       "        vertical-align: middle;\n",
       "    }\n",
       "\n",
       "    .dataframe tbody tr th {\n",
       "        vertical-align: top;\n",
       "    }\n",
       "\n",
       "    .dataframe thead th {\n",
       "        text-align: right;\n",
       "    }\n",
       "</style>\n",
       "<table border=\"1\" class=\"dataframe\">\n",
       "  <thead>\n",
       "    <tr style=\"text-align: right;\">\n",
       "      <th></th>\n",
       "      <th>user_id</th>\n",
       "      <th>movie_id</th>\n",
       "      <th>rating</th>\n",
       "    </tr>\n",
       "  </thead>\n",
       "  <tbody>\n",
       "    <tr>\n",
       "      <th>0</th>\n",
       "      <td>4168</td>\n",
       "      <td>3082</td>\n",
       "      <td>3</td>\n",
       "    </tr>\n",
       "    <tr>\n",
       "      <th>1</th>\n",
       "      <td>4284</td>\n",
       "      <td>2763</td>\n",
       "      <td>4</td>\n",
       "    </tr>\n",
       "    <tr>\n",
       "      <th>2</th>\n",
       "      <td>798</td>\n",
       "      <td>2559</td>\n",
       "      <td>5</td>\n",
       "    </tr>\n",
       "    <tr>\n",
       "      <th>3</th>\n",
       "      <td>4345</td>\n",
       "      <td>2529</td>\n",
       "      <td>3</td>\n",
       "    </tr>\n",
       "    <tr>\n",
       "      <th>4</th>\n",
       "      <td>984</td>\n",
       "      <td>3099</td>\n",
       "      <td>4</td>\n",
       "    </tr>\n",
       "  </tbody>\n",
       "</table>\n",
       "</div>"
      ],
      "text/plain": [
       "   user_id  movie_id  rating\n",
       "0     4168      3082       3\n",
       "1     4284      2763       4\n",
       "2      798      2559       5\n",
       "3     4345      2529       3\n",
       "4      984      3099       4"
      ]
     },
     "execution_count": 3,
     "metadata": {},
     "output_type": "execute_result"
    }
   ],
   "source": [
    "trainset = pd.read_csv('./datasets/train.csv')\n",
    "trainset.head()"
   ]
  },
  {
   "cell_type": "code",
   "execution_count": 4,
   "id": "d1a9851b-2e1e-4fa6-86a7-fa378d563235",
   "metadata": {},
   "outputs": [
    {
     "data": {
      "text/html": [
       "<div>\n",
       "<style scoped>\n",
       "    .dataframe tbody tr th:only-of-type {\n",
       "        vertical-align: middle;\n",
       "    }\n",
       "\n",
       "    .dataframe tbody tr th {\n",
       "        vertical-align: top;\n",
       "    }\n",
       "\n",
       "    .dataframe thead th {\n",
       "        text-align: right;\n",
       "    }\n",
       "</style>\n",
       "<table border=\"1\" class=\"dataframe\">\n",
       "  <thead>\n",
       "    <tr style=\"text-align: right;\">\n",
       "      <th></th>\n",
       "      <th>user_id</th>\n",
       "      <th>movie_id</th>\n",
       "      <th>rating</th>\n",
       "    </tr>\n",
       "  </thead>\n",
       "  <tbody>\n",
       "    <tr>\n",
       "      <th>0</th>\n",
       "      <td>5412</td>\n",
       "      <td>2431</td>\n",
       "      <td>5</td>\n",
       "    </tr>\n",
       "    <tr>\n",
       "      <th>1</th>\n",
       "      <td>5440</td>\n",
       "      <td>111</td>\n",
       "      <td>5</td>\n",
       "    </tr>\n",
       "    <tr>\n",
       "      <th>2</th>\n",
       "      <td>368</td>\n",
       "      <td>2976</td>\n",
       "      <td>3</td>\n",
       "    </tr>\n",
       "    <tr>\n",
       "      <th>3</th>\n",
       "      <td>425</td>\n",
       "      <td>2139</td>\n",
       "      <td>4</td>\n",
       "    </tr>\n",
       "    <tr>\n",
       "      <th>4</th>\n",
       "      <td>4942</td>\n",
       "      <td>2532</td>\n",
       "      <td>3</td>\n",
       "    </tr>\n",
       "  </tbody>\n",
       "</table>\n",
       "</div>"
      ],
      "text/plain": [
       "   user_id  movie_id  rating\n",
       "0     5412      2431       5\n",
       "1     5440       111       5\n",
       "2      368      2976       3\n",
       "3      425      2139       4\n",
       "4     4942      2532       3"
      ]
     },
     "execution_count": 4,
     "metadata": {},
     "output_type": "execute_result"
    }
   ],
   "source": [
    "testset = pd.read_csv('./datasets/test.csv')\n",
    "testset.head()"
   ]
  },
  {
   "cell_type": "markdown",
   "id": "ed97b95a-580d-4a75-a059-93c7d0de7092",
   "metadata": {},
   "source": [
    "## Build SVD model"
   ]
  },
  {
   "cell_type": "code",
   "execution_count": 5,
   "id": "43fa80d3-91b0-4e05-9614-916f484e80fa",
   "metadata": {},
   "outputs": [
    {
     "name": "stdout",
     "output_type": "stream",
     "text": [
      "For parameters {'n_factors': 50, 'n_epochs': 20, 'lr_all': 0.002, 'reg_all': 0.01}\n",
      "\tTraining RMSE: 0.8432\n",
      "\tValidation RMSE: 0.9578\n",
      "For parameters {'n_factors': 100, 'n_epochs': 20, 'lr_all': 0.005, 'reg_all': 0.02}\n",
      "\tTraining RMSE: 0.6715\n",
      "\tValidation RMSE: 0.9639\n",
      "For parameters {'n_factors': 150, 'n_epochs': 20, 'lr_all': 0.008, 'reg_all': 0.03}\n",
      "\tTraining RMSE: 0.5905\n",
      "\tValidation RMSE: 0.9359\n",
      "For parameters {'n_factors': 200, 'n_epochs': 20, 'lr_all': 0.01, 'reg_all': 0.05}\n",
      "\tTraining RMSE: 0.6751\n",
      "\tValidation RMSE: 0.9032\n",
      "For parameters {'n_factors': 250, 'n_epochs': 20, 'lr_all': 0.012, 'reg_all': 0.08}\n",
      "\tTraining RMSE: 0.7954\n",
      "\tValidation RMSE: 0.9166\n",
      "For parameters {'n_factors': 300, 'n_epochs': 20, 'lr_all': 0.015, 'reg_all': 0.1}\n",
      "\tTraining RMSE: 0.8350\n",
      "\tValidation RMSE: 0.9354\n",
      "For parameters {'n_factors': 350, 'n_epochs': 20, 'lr_all': 0.02, 'reg_all': 0.12}\n",
      "\tTraining RMSE: 0.8610\n",
      "\tValidation RMSE: 0.9471\n"
     ]
    }
   ],
   "source": [
    "from surprise import SVD, Dataset, Reader\n",
    "from surprise import accuracy\n",
    "from surprise.model_selection import cross_validate\n",
    "from sklearn.model_selection import train_test_split \n",
    "\n",
    "# trainset, testset = train_test_split(data[['user_id', 'movie_id', 'rating']], test_size = 0.01, random_state = 42)\n",
    "\n",
    "reader = Reader(rating_scale = (1, 5))\n",
    "train_data = Dataset.load_from_df(trainset, reader)\n",
    "train_data = train_data.build_full_trainset()\n",
    "\n",
    "test_data = list(testset.itertuples(index = False, name = None))\n",
    "\n",
    "# As explained above, we will only focus on three hyper parameters\n",
    "    # number of factors (n_factors), learning rate (lr_all), and regularization parameter (reg_all)\n",
    "    # default for number of epochs is 20\n",
    "hyperparameters = [\n",
    "    {'n_factors': 50, 'n_epochs': 20, 'lr_all': 0.002, 'reg_all': 0.01}, \n",
    "    {'n_factors': 100, 'n_epochs': 20, 'lr_all': 0.005, 'reg_all': 0.02}, # default\n",
    "    {'n_factors': 150, 'n_epochs': 20, 'lr_all': 0.008, 'reg_all': 0.03}, \n",
    "    {'n_factors': 200, 'n_epochs': 20, 'lr_all': 0.01, 'reg_all': 0.05}, \n",
    "    {'n_factors': 250, 'n_epochs': 20, 'lr_all': 0.012, 'reg_all': 0.08}, \n",
    "    {'n_factors': 300, 'n_epochs': 20, 'lr_all': 0.015, 'reg_all': 0.1}, \n",
    "    {'n_factors': 350, 'n_epochs': 20, 'lr_all': 0.02, 'reg_all': 0.12}, \n",
    "]\n",
    "\n",
    "res = []\n",
    "for params in hyperparameters:\n",
    "    # Create an SVD model\n",
    "    svd_model = SVD(\n",
    "        n_factors=params['n_factors'],\n",
    "        n_epochs=params['n_epochs'],\n",
    "        lr_all=params['lr_all'],\n",
    "        reg_all=params['reg_all']\n",
    "    )\n",
    "    \n",
    "    # Train the model on the training data\n",
    "    svd_model.fit(train_data)\n",
    "    \n",
    "    # Predict on the training set (to evaluate training RMSE)\n",
    "    train_predictions = svd_model.test(train_data.build_testset())\n",
    "    train_rmse = accuracy.rmse(train_predictions, verbose=False)\n",
    "    \n",
    "    # Predict on the test set (to evaluate validation RMSE)\n",
    "    test_predictions = svd_model.test(test_data)\n",
    "    test_rmse = accuracy.rmse(test_predictions, verbose=False)\n",
    "    \n",
    "    # Display results\n",
    "    print(f\"For parameters {params}\")\n",
    "    print(f\"\\tTraining RMSE: {train_rmse:.4f}\")\n",
    "    print(f\"\\tValidation RMSE: {test_rmse:.4f}\")\n",
    "    res.append({'parameters': params, 'training_rmse': train_rmse, 'test_rmse': test_rmse})"
   ]
  },
  {
   "cell_type": "code",
   "execution_count": 8,
   "id": "62546167-717e-4e90-97dd-7ed8a02b40b7",
   "metadata": {},
   "outputs": [
    {
     "data": {
      "text/plain": [
       "3.830450002844806"
      ]
     },
     "execution_count": 8,
     "metadata": {},
     "output_type": "execute_result"
    }
   ],
   "source": [
    "best_svd_model = SVD(\n",
    "    n_factors=200,\n",
    "    n_epochs=50,\n",
    "    lr_all=0.005,\n",
    "    reg_all=0.1\n",
    ")\n",
    "best_svd_model.fit(train_data)\n",
    "\n",
    "best_svd_model.predict(196, 302).est"
   ]
  },
  {
   "cell_type": "code",
   "execution_count": null,
   "id": "f6d2d653-a61f-4055-a028-d8cedf9c96cd",
   "metadata": {},
   "outputs": [],
   "source": []
  },
  {
   "cell_type": "code",
   "execution_count": null,
   "id": "ebc154ca-7772-4ec7-806b-d5602102a987",
   "metadata": {},
   "outputs": [],
   "source": [
    "best_svd_model = SVD(\n",
    "    n_factors=200,\n",
    "    n_epochs=50,\n",
    "    lr_all=0.005,\n",
    "    reg_all=0.1\n",
    ")\n",
    "\n",
    "# Train the model on the training data\n",
    "best_svd_model.fit(train_data)\n",
    "\n",
    "# Predict on the test set (to evaluate validation RMSE)\n",
    "test_predictions = best_svd_model.test(test_data)\n",
    "test_rmse = accuracy.rmse(test_predictions, verbose=False)\n",
    "\n",
    "# Display results\n",
    "print(f\"Training RMSE: {train_rmse:.4f}\")\n",
    "print(f\"Validation RMSE: {test_rmse:.4f}\")"
   ]
  },
  {
   "cell_type": "code",
   "execution_count": null,
   "id": "8a9d2624-1c85-495d-9dcf-0fd654ed3f51",
   "metadata": {},
   "outputs": [],
   "source": []
  },
  {
   "cell_type": "code",
   "execution_count": null,
   "id": "c42aac4c-f09e-4d31-be22-fef9ebf297a6",
   "metadata": {},
   "outputs": [],
   "source": []
  },
  {
   "cell_type": "code",
   "execution_count": null,
   "id": "5cf7c5bc-a39e-40b7-8a79-c59297fa2892",
   "metadata": {},
   "outputs": [],
   "source": []
  },
  {
   "cell_type": "code",
   "execution_count": null,
   "id": "1ec3aae3-6815-44fe-aae8-6c24d89f27f2",
   "metadata": {},
   "outputs": [],
   "source": []
  },
  {
   "cell_type": "code",
   "execution_count": null,
   "id": "02d9f092-6386-419d-a591-55c0d5503e89",
   "metadata": {},
   "outputs": [],
   "source": []
  },
  {
   "cell_type": "code",
   "execution_count": null,
   "id": "5ad6c0c6-2ca2-43d7-9933-ac7dec299bb1",
   "metadata": {},
   "outputs": [],
   "source": []
  },
  {
   "cell_type": "code",
   "execution_count": null,
   "id": "d46b44af-c1e4-4874-b6ba-e7738c09731a",
   "metadata": {},
   "outputs": [],
   "source": []
  },
  {
   "cell_type": "code",
   "execution_count": null,
   "id": "e48f4aa9-13e3-4e24-b8de-6922675b5847",
   "metadata": {},
   "outputs": [],
   "source": []
  },
  {
   "cell_type": "code",
   "execution_count": null,
   "id": "4a6fe381-cdfb-41ac-8903-f463acfc30d6",
   "metadata": {},
   "outputs": [],
   "source": []
  }
 ],
 "metadata": {
  "kernelspec": {
   "display_name": "Python 3 (ipykernel)",
   "language": "python",
   "name": "python3"
  },
  "language_info": {
   "codemirror_mode": {
    "name": "ipython",
    "version": 3
   },
   "file_extension": ".py",
   "mimetype": "text/x-python",
   "name": "python",
   "nbconvert_exporter": "python",
   "pygments_lexer": "ipython3",
   "version": "3.11.7"
  }
 },
 "nbformat": 4,
 "nbformat_minor": 5
}
