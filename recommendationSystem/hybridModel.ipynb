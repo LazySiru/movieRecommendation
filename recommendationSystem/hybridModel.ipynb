{
 "cells": [
  {
   "cell_type": "code",
   "execution_count": 2,
   "metadata": {},
   "outputs": [],
   "source": [
    "import numpy as np\n",
    "from pandas import read_csv\n",
    "import pickle\n",
    "\n"
   ]
  },
  {
   "cell_type": "markdown",
   "metadata": {},
   "source": [
    "## Import datasets and models"
   ]
  },
  {
   "cell_type": "code",
   "execution_count": 5,
   "metadata": {},
   "outputs": [
    {
     "data": {
      "text/html": [
       "<div>\n",
       "<style scoped>\n",
       "    .dataframe tbody tr th:only-of-type {\n",
       "        vertical-align: middle;\n",
       "    }\n",
       "\n",
       "    .dataframe tbody tr th {\n",
       "        vertical-align: top;\n",
       "    }\n",
       "\n",
       "    .dataframe thead th {\n",
       "        text-align: right;\n",
       "    }\n",
       "</style>\n",
       "<table border=\"1\" class=\"dataframe\">\n",
       "  <thead>\n",
       "    <tr style=\"text-align: right;\">\n",
       "      <th></th>\n",
       "      <th>user_id</th>\n",
       "      <th>movie_id</th>\n",
       "      <th>rating</th>\n",
       "    </tr>\n",
       "  </thead>\n",
       "  <tbody>\n",
       "    <tr>\n",
       "      <th>0</th>\n",
       "      <td>5412</td>\n",
       "      <td>2431</td>\n",
       "      <td>5</td>\n",
       "    </tr>\n",
       "    <tr>\n",
       "      <th>1</th>\n",
       "      <td>5440</td>\n",
       "      <td>111</td>\n",
       "      <td>5</td>\n",
       "    </tr>\n",
       "    <tr>\n",
       "      <th>2</th>\n",
       "      <td>368</td>\n",
       "      <td>2976</td>\n",
       "      <td>3</td>\n",
       "    </tr>\n",
       "    <tr>\n",
       "      <th>3</th>\n",
       "      <td>425</td>\n",
       "      <td>2139</td>\n",
       "      <td>4</td>\n",
       "    </tr>\n",
       "    <tr>\n",
       "      <th>4</th>\n",
       "      <td>4942</td>\n",
       "      <td>2532</td>\n",
       "      <td>3</td>\n",
       "    </tr>\n",
       "  </tbody>\n",
       "</table>\n",
       "</div>"
      ],
      "text/plain": [
       "   user_id  movie_id  rating\n",
       "0     5412      2431       5\n",
       "1     5440       111       5\n",
       "2      368      2976       3\n",
       "3      425      2139       4\n",
       "4     4942      2532       3"
      ]
     },
     "execution_count": 5,
     "metadata": {},
     "output_type": "execute_result"
    }
   ],
   "source": [
    "data = read_csv('./datasets/merged.csv')\n",
    "test = read_csv('./datasets/test.csv')\n",
    "\n",
    "test.head()"
   ]
  },
  {
   "cell_type": "code",
   "execution_count": 6,
   "metadata": {},
   "outputs": [],
   "source": [
    "knn_clf_url = \"./models/knn_clf.pkl\"\n",
    "svd_url = \"./models/knn_clf.pkl\"\n",
    "\n",
    "# Load the model\n",
    "with open(knn_clf_url, 'rb') as file:\n",
    "    knn_clf = pickle.load(file)\n",
    "\n",
    "# Load the model\n",
    "with open(svd_url, 'rb') as file:\n",
    "    svd = pickle.load(file)"
   ]
  },
  {
   "cell_type": "markdown",
   "metadata": {},
   "source": [
    "# Hybrid model"
   ]
  },
  {
   "cell_type": "code",
   "execution_count": 7,
   "metadata": {},
   "outputs": [],
   "source": [
    "def hybrid_prediction(user_id, movie_id, svd_weight=0.7, knn_weight=0.3):\n",
    "    try:\n",
    "        # Try to predict using the SVD model\n",
    "        svd_pred = svd.predict(user_id, movie_id).est\n",
    "    except:\n",
    "        # If the user is not found, use the KNN model instead\n",
    "        svd_pred = None\n",
    "    \n",
    "    # Predict using the KNN model (works for new users)\n",
    "    knn_pred = knn_clf.predict(user_id, movie_id).est\n",
    "    \n",
    "    # Combine predictions (if both exist) or use KNN if SVD prediction fails\n",
    "    if svd_pred is not None:\n",
    "        hybrid_pred = svd_weight * svd_pred + knn_weight * knn_pred\n",
    "    else:\n",
    "        hybrid_pred = knn_pred\n",
    "    \n",
    "    return hybrid_pred"
   ]
  },
  {
   "cell_type": "code",
   "execution_count": 8,
   "metadata": {},
   "outputs": [
    {
     "name": "stdout",
     "output_type": "stream",
     "text": [
      "Predicted rating for new user 9999 on movie 4: 3.5819211764138528\n"
     ]
    }
   ],
   "source": [
    "# Example recommendation for a new user\n",
    "new_user_id = 9999\n",
    "movie_id = 4 \n",
    "predicted_rating = hybrid_prediction(new_user_id, movie_id)\n",
    "\n",
    "print(f\"Predicted rating for new user {new_user_id} on movie {movie_id}: {predicted_rating}\")"
   ]
  },
  {
   "cell_type": "code",
   "execution_count": 13,
   "metadata": {},
   "outputs": [
    {
     "name": "stdout",
     "output_type": "stream",
     "text": [
      "SVD Weight: 0.0, KNN Weight: 1.0, RMSE: 0.9978326617962954\n",
      "SVD Weight: 0.1, KNN Weight: 0.9, RMSE: 0.9978326617962954\n",
      "SVD Weight: 0.2, KNN Weight: 0.8, RMSE: 0.9978326617962954\n",
      "SVD Weight: 0.30000000000000004, KNN Weight: 0.7, RMSE: 0.9978326617962954\n",
      "SVD Weight: 0.4, KNN Weight: 0.6, RMSE: 0.9978326617962954\n"
     ]
    }
   ],
   "source": [
    "def evaluate_hybrid_model(svd_weight):\n",
    "\n",
    "    knn_weight = 1.0 - svd_weight  # Make sure the weights sum to 1\n",
    "    \n",
    "    predictions = []\n",
    "    actual_ratings = []\n",
    "    \n",
    "    # Predict the rating using the hybrid model\n",
    "    for row in test.itertuples():\n",
    "        user_id, movie_id, actual_rating = row.user_id, row.movie_id, row.rating\n",
    "        predicted_rating = hybrid_prediction(user_id, movie_id, svd_weight, knn_weight)\n",
    "        predictions.append(predicted_rating)\n",
    "        actual_ratings.append(actual_rating)\n",
    "    \n",
    "    # Calculate RMSE for the current set of predictions\n",
    "    rmse = np.sqrt(np.mean(((np.array(actual_ratings) - np.array(predictions))**2)))\n",
    "    return rmse\n",
    "\n",
    "# Hyperparameter tuning: testing weights from 0.0 to 1.0 with a step size of 0.1\n",
    "rmses, svd_weights = [], []\n",
    "\n",
    "# Assuming test_data is available and contains tuples of (user_id, movie_id, actual_rating)\n",
    "# Replace `test_data` with your actual test set\n",
    "for svd_weight in np.arange(0, 1.1, 0.1):  # Step size of 0.1\n",
    "    rmse = evaluate_hybrid_model(svd_weight)\n",
    "    \n",
    "    rmses.append(rmse)\n",
    "    svd_weights.append(svd_weight)\n",
    "\n",
    "    print(f\"SVD Weight: {svd_weight}, KNN Weight: {1-svd_weight}, RMSE: {rmse}\")\n",
    "\n"
   ]
  },
  {
   "cell_type": "code",
   "execution_count": null,
   "metadata": {},
   "outputs": [],
   "source": [
    "\n",
    "\n"
   ]
  },
  {
   "cell_type": "code",
   "execution_count": null,
   "metadata": {},
   "outputs": [],
   "source": []
  }
 ],
 "metadata": {
  "kernelspec": {
   "display_name": "base",
   "language": "python",
   "name": "python3"
  },
  "language_info": {
   "codemirror_mode": {
    "name": "ipython",
    "version": 3
   },
   "file_extension": ".py",
   "mimetype": "text/x-python",
   "name": "python",
   "nbconvert_exporter": "python",
   "pygments_lexer": "ipython3",
   "version": "3.8.8"
  }
 },
 "nbformat": 4,
 "nbformat_minor": 2
}
