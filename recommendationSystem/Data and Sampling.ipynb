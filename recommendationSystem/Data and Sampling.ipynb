{
 "cells": [
  {
   "cell_type": "code",
   "execution_count": 3,
   "id": "a0bb0e8f-f75d-42a2-b7ba-8fcd7fc241ec",
   "metadata": {},
   "outputs": [],
   "source": [
    "import numpy as np\n",
    "import pandas as pd\n",
    "import matplotlib.pyplot as plt\n",
    "import seaborn as sns"
   ]
  },
  {
   "cell_type": "markdown",
   "id": "2afdf5c7-6b83-48fa-8590-254b01e1b5a8",
   "metadata": {},
   "source": [
    "### Data formats\n",
    "\"ratings.dat\" file format - UserID::MovieID::Rating::Timestamp\n",
    "- UserIDs range between 1 and 6040 \n",
    "- MovieIDs range between 1 and 3952\n",
    "- Ratings are made on a 5-star scale (whole-star ratings only)\n",
    "- Timestamp is represented in seconds since the epoch as returned by time(2)\n",
    "- Each user has at least 20 ratings\n",
    "\n",
    "\n",
    "\"movies.dat\" format - MovieID::Title::Genres\n",
    "- Genres are pipe-separated and are selected from the following genres: [Action, Adventure, Animation, Children's, Comedy, Crime, Documentary, Drama, Fantasy, Film-Noir, Horror, Musical, Mystery, Romance, Sci-Fi, Thriller, War, Western]\n",
    "- Titles are identical to titles provided by the IMDB (including\n",
    "year of release)\n",
    "- Some MovieIDs do not correspond to a movie due to accidental duplicate\n",
    "entries and/or test entries\n",
    "- Movies are mostly entered by hand, so errors and inconsistencies may exist\n",
    "\n",
    "\n",
    "\"users.dat\" file format - UserID::Gender::Age::Occupation::Zip-code\n",
    "- Gender is denoted by a \"M\" for male and \"F\" for female\n",
    "- Age is chosen from the following ranges: {1:  \"Under 18\", 18:  \"18-24\", 25:  \"25-34\", 35:  \"35-44\", 45:  \"45-49\", 50:  \"50-55\", 56:  \"56+\"}\n",
    "\n",
    "- Occupation is chosen from the following choices: {0:  \"other\" or \"not specified\", 1:  \"academic/educator\", 2:  \"artist\", 3:  \"clerical/admin\", 4:  \"college/grad student\", 5:  \"customer service\", 6:  \"doctor/health care\", 7:  \"executive/managerial\", 8:  \"farmer\", 9:  \"homemaker\", 10:  \"K-12 student\", 11:  \"lawyer\", 12:  \"programmer\", 13:  \"retired\", 14:  \"sales/marketing\", 15:  \"scientist\", 16:  \"self-employed\", 17:  \"technician/engineer\", 18:  \"tradesman/craftsman\", 19:  \"unemployed\", 20:  \"writer\"}"
   ]
  },
  {
   "cell_type": "code",
   "execution_count": 4,
   "id": "aacb90df-2971-405c-bb56-fdc91a6e1ab5",
   "metadata": {},
   "outputs": [],
   "source": [
    "ratings = pd.read_csv('./cleaned_datasets/ratings.dat', \n",
    "                 delimiter='::', \n",
    "                 encoding='latin1', \n",
    "                 engine = 'python', \n",
    "                 header = None,\n",
    "                 names = ['user_id', 'movie_id', 'rating', 'timestamp']\n",
    ")\n",
    "movies = pd.read_csv('./cleaned_datasets/movies.dat', \n",
    "                 delimiter='::', \n",
    "                 encoding = 'latin1',\n",
    "                 header = None,\n",
    "                 engine = 'python',\n",
    "                 names = ['movie_id', 'title', 'genres']\n",
    ")\n",
    "users = pd.read_csv('./cleaned_datasets/users.dat', \n",
    "                 delimiter='::', \n",
    "                 encoding='latin1', \n",
    "                 engine = 'python', \n",
    "                 header = None,\n",
    "                 names = ['user_id', 'gender', 'age', 'occupation', 'zip_code']\n",
    ")"
   ]
  },
  {
   "cell_type": "code",
   "execution_count": 5,
   "id": "f1fbdb0e-203a-4cc7-94ce-a559b51715f7",
   "metadata": {},
   "outputs": [
    {
     "data": {
      "text/html": [
       "<div>\n",
       "<style scoped>\n",
       "    .dataframe tbody tr th:only-of-type {\n",
       "        vertical-align: middle;\n",
       "    }\n",
       "\n",
       "    .dataframe tbody tr th {\n",
       "        vertical-align: top;\n",
       "    }\n",
       "\n",
       "    .dataframe thead th {\n",
       "        text-align: right;\n",
       "    }\n",
       "</style>\n",
       "<table border=\"1\" class=\"dataframe\">\n",
       "  <thead>\n",
       "    <tr style=\"text-align: right;\">\n",
       "      <th></th>\n",
       "      <th>user_id</th>\n",
       "      <th>movie_id</th>\n",
       "      <th>rating</th>\n",
       "      <th>timestamp</th>\n",
       "    </tr>\n",
       "  </thead>\n",
       "  <tbody>\n",
       "    <tr>\n",
       "      <th>825438</th>\n",
       "      <td>4958</td>\n",
       "      <td>1407</td>\n",
       "      <td>5</td>\n",
       "      <td>2003-02-28 09:47:23</td>\n",
       "    </tr>\n",
       "    <tr>\n",
       "      <th>984025</th>\n",
       "      <td>5948</td>\n",
       "      <td>1180</td>\n",
       "      <td>5</td>\n",
       "      <td>2003-02-28 05:11:19</td>\n",
       "    </tr>\n",
       "    <tr>\n",
       "      <th>984632</th>\n",
       "      <td>5950</td>\n",
       "      <td>3196</td>\n",
       "      <td>5</td>\n",
       "      <td>2003-02-27 09:54:22</td>\n",
       "    </tr>\n",
       "    <tr>\n",
       "      <th>984849</th>\n",
       "      <td>5950</td>\n",
       "      <td>111</td>\n",
       "      <td>5</td>\n",
       "      <td>2003-02-27 09:50:41</td>\n",
       "    </tr>\n",
       "    <tr>\n",
       "      <th>984825</th>\n",
       "      <td>5950</td>\n",
       "      <td>2329</td>\n",
       "      <td>5</td>\n",
       "      <td>2003-02-27 09:45:48</td>\n",
       "    </tr>\n",
       "  </tbody>\n",
       "</table>\n",
       "</div>"
      ],
      "text/plain": [
       "        user_id  movie_id  rating           timestamp\n",
       "825438     4958      1407       5 2003-02-28 09:47:23\n",
       "984025     5948      1180       5 2003-02-28 05:11:19\n",
       "984632     5950      3196       5 2003-02-27 09:54:22\n",
       "984849     5950       111       5 2003-02-27 09:50:41\n",
       "984825     5950      2329       5 2003-02-27 09:45:48"
      ]
     },
     "execution_count": 5,
     "metadata": {},
     "output_type": "execute_result"
    }
   ],
   "source": [
    "from datetime import datetime\n",
    "\n",
    "# TODO: later change to hive.sql\n",
    "ratings['timestamp'] = ratings['timestamp'].apply(lambda timestamp: datetime.fromtimestamp(timestamp))\n",
    "\n",
    "ratings = ratings.sort_values(['rating', 'timestamp'], ascending = [False, False])\n",
    "ratings.head()"
   ]
  },
  {
   "cell_type": "code",
   "execution_count": 6,
   "id": "24229430-77ac-43de-b57c-0a8a7b4e222f",
   "metadata": {},
   "outputs": [
    {
     "data": {
      "text/html": [
       "<div>\n",
       "<style scoped>\n",
       "    .dataframe tbody tr th:only-of-type {\n",
       "        vertical-align: middle;\n",
       "    }\n",
       "\n",
       "    .dataframe tbody tr th {\n",
       "        vertical-align: top;\n",
       "    }\n",
       "\n",
       "    .dataframe thead th {\n",
       "        text-align: right;\n",
       "    }\n",
       "</style>\n",
       "<table border=\"1\" class=\"dataframe\">\n",
       "  <thead>\n",
       "    <tr style=\"text-align: right;\">\n",
       "      <th></th>\n",
       "      <th>movie_id</th>\n",
       "      <th>title</th>\n",
       "      <th>genres</th>\n",
       "    </tr>\n",
       "  </thead>\n",
       "  <tbody>\n",
       "    <tr>\n",
       "      <th>0</th>\n",
       "      <td>1</td>\n",
       "      <td>Toy Story (1995)</td>\n",
       "      <td>Animation|Children's|Comedy</td>\n",
       "    </tr>\n",
       "    <tr>\n",
       "      <th>1</th>\n",
       "      <td>2</td>\n",
       "      <td>Jumanji (1995)</td>\n",
       "      <td>Adventure|Children's|Fantasy</td>\n",
       "    </tr>\n",
       "    <tr>\n",
       "      <th>2</th>\n",
       "      <td>3</td>\n",
       "      <td>Grumpier Old Men (1995)</td>\n",
       "      <td>Comedy|Romance</td>\n",
       "    </tr>\n",
       "    <tr>\n",
       "      <th>3</th>\n",
       "      <td>4</td>\n",
       "      <td>Waiting to Exhale (1995)</td>\n",
       "      <td>Comedy|Drama</td>\n",
       "    </tr>\n",
       "    <tr>\n",
       "      <th>4</th>\n",
       "      <td>5</td>\n",
       "      <td>Father of the Bride Part II (1995)</td>\n",
       "      <td>Comedy</td>\n",
       "    </tr>\n",
       "  </tbody>\n",
       "</table>\n",
       "</div>"
      ],
      "text/plain": [
       "   movie_id                               title                        genres\n",
       "0         1                    Toy Story (1995)   Animation|Children's|Comedy\n",
       "1         2                      Jumanji (1995)  Adventure|Children's|Fantasy\n",
       "2         3             Grumpier Old Men (1995)                Comedy|Romance\n",
       "3         4            Waiting to Exhale (1995)                  Comedy|Drama\n",
       "4         5  Father of the Bride Part II (1995)                        Comedy"
      ]
     },
     "execution_count": 6,
     "metadata": {},
     "output_type": "execute_result"
    }
   ],
   "source": [
    "movies.head()"
   ]
  },
  {
   "cell_type": "code",
   "execution_count": 7,
   "id": "9a6c4c64-d674-4a46-863d-e278da18d1b0",
   "metadata": {},
   "outputs": [
    {
     "data": {
      "text/html": [
       "<div>\n",
       "<style scoped>\n",
       "    .dataframe tbody tr th:only-of-type {\n",
       "        vertical-align: middle;\n",
       "    }\n",
       "\n",
       "    .dataframe tbody tr th {\n",
       "        vertical-align: top;\n",
       "    }\n",
       "\n",
       "    .dataframe thead th {\n",
       "        text-align: right;\n",
       "    }\n",
       "</style>\n",
       "<table border=\"1\" class=\"dataframe\">\n",
       "  <thead>\n",
       "    <tr style=\"text-align: right;\">\n",
       "      <th></th>\n",
       "      <th>user_id</th>\n",
       "      <th>gender</th>\n",
       "      <th>age</th>\n",
       "      <th>occupation</th>\n",
       "      <th>zip_code</th>\n",
       "    </tr>\n",
       "  </thead>\n",
       "  <tbody>\n",
       "    <tr>\n",
       "      <th>0</th>\n",
       "      <td>1</td>\n",
       "      <td>F</td>\n",
       "      <td>1</td>\n",
       "      <td>10</td>\n",
       "      <td>48067</td>\n",
       "    </tr>\n",
       "    <tr>\n",
       "      <th>1</th>\n",
       "      <td>2</td>\n",
       "      <td>M</td>\n",
       "      <td>56</td>\n",
       "      <td>16</td>\n",
       "      <td>70072</td>\n",
       "    </tr>\n",
       "    <tr>\n",
       "      <th>2</th>\n",
       "      <td>3</td>\n",
       "      <td>M</td>\n",
       "      <td>25</td>\n",
       "      <td>15</td>\n",
       "      <td>55117</td>\n",
       "    </tr>\n",
       "    <tr>\n",
       "      <th>3</th>\n",
       "      <td>4</td>\n",
       "      <td>M</td>\n",
       "      <td>45</td>\n",
       "      <td>7</td>\n",
       "      <td>02460</td>\n",
       "    </tr>\n",
       "    <tr>\n",
       "      <th>4</th>\n",
       "      <td>5</td>\n",
       "      <td>M</td>\n",
       "      <td>25</td>\n",
       "      <td>20</td>\n",
       "      <td>55455</td>\n",
       "    </tr>\n",
       "  </tbody>\n",
       "</table>\n",
       "</div>"
      ],
      "text/plain": [
       "   user_id gender  age  occupation zip_code\n",
       "0        1      F    1          10    48067\n",
       "1        2      M   56          16    70072\n",
       "2        3      M   25          15    55117\n",
       "3        4      M   45           7    02460\n",
       "4        5      M   25          20    55455"
      ]
     },
     "execution_count": 7,
     "metadata": {},
     "output_type": "execute_result"
    }
   ],
   "source": [
    "users.head()"
   ]
  },
  {
   "cell_type": "markdown",
   "id": "d6648c40",
   "metadata": {},
   "source": [
    "## Create merged ratings and analysis"
   ]
  },
  {
   "cell_type": "code",
   "execution_count": 8,
   "id": "d9a9f174",
   "metadata": {},
   "outputs": [
    {
     "name": "stdout",
     "output_type": "stream",
     "text": [
      "        user_id  movie_id  rating\n",
      "171933        1         1       5\n",
      "911414        1        48       5\n",
      "21420         1       150       5\n",
      "49104         1       260       4\n",
      "34221         1       527       5\n",
      "Unique number of users in the dataset: 6040\n",
      "Unique number of movies in the dataset: 3706\n"
     ]
    }
   ],
   "source": [
    "# merge datasets\n",
    "merged = pd.merge(ratings, users, how = 'inner', on = 'user_id')\n",
    "merged = pd.merge(merged, movies, how = 'inner', on = 'movie_id')\n",
    "merged.head()\n",
    "\n",
    "ratings_cleaned = merged[['user_id', 'movie_id', 'rating']].sort_values(by=['user_id', 'movie_id', 'rating'])\n",
    "print(ratings_cleaned.head())\n",
    "\n",
    "print(f\"Unique number of users in the dataset: {ratings_cleaned['user_id'].nunique()}\")\n",
    "print(f\"Unique number of movies in the dataset: {ratings_cleaned['movie_id'].nunique()}\")"
   ]
  },
  {
   "cell_type": "markdown",
   "id": "c51fe185",
   "metadata": {},
   "source": [
    "#### Some movies in the movie dataset does not have any ratings.\n",
    "These movies will not be used as input data."
   ]
  },
  {
   "cell_type": "code",
   "execution_count": 9,
   "id": "ca760aee",
   "metadata": {},
   "outputs": [
    {
     "data": {
      "text/html": [
       "<div>\n",
       "<style scoped>\n",
       "    .dataframe tbody tr th:only-of-type {\n",
       "        vertical-align: middle;\n",
       "    }\n",
       "\n",
       "    .dataframe tbody tr th {\n",
       "        vertical-align: top;\n",
       "    }\n",
       "\n",
       "    .dataframe thead th {\n",
       "        text-align: right;\n",
       "    }\n",
       "</style>\n",
       "<table border=\"1\" class=\"dataframe\">\n",
       "  <thead>\n",
       "    <tr style=\"text-align: right;\">\n",
       "      <th></th>\n",
       "      <th>user_id</th>\n",
       "      <th>movie_id</th>\n",
       "      <th>rating</th>\n",
       "      <th>timestamp</th>\n",
       "    </tr>\n",
       "  </thead>\n",
       "  <tbody>\n",
       "  </tbody>\n",
       "</table>\n",
       "</div>"
      ],
      "text/plain": [
       "Empty DataFrame\n",
       "Columns: [user_id, movie_id, rating, timestamp]\n",
       "Index: []"
      ]
     },
     "execution_count": 9,
     "metadata": {},
     "output_type": "execute_result"
    }
   ],
   "source": [
    "# hence there are some movies missing in merged dataset\n",
    "ratings[ratings['movie_id'] == 51]"
   ]
  },
  {
   "cell_type": "code",
   "execution_count": null,
   "id": "f48f8061",
   "metadata": {},
   "outputs": [],
   "source": [
    "missing_movies = movies[~movies['movie_id'].isin(ratings_cleaned['movie_id'].unique())]\n",
    "missing_movies"
   ]
  },
  {
   "cell_type": "markdown",
   "id": "96f4d088",
   "metadata": {},
   "source": [
    "## Train Test Split"
   ]
  },
  {
   "cell_type": "markdown",
   "id": "c30becd1",
   "metadata": {},
   "source": [
    "### Train test split"
   ]
  },
  {
   "cell_type": "code",
   "execution_count": 12,
   "id": "85d52f05",
   "metadata": {},
   "outputs": [
    {
     "name": "stdout",
     "output_type": "stream",
     "text": [
      "Unique number of users in the train dataset: 6040\n",
      "Unique number of movies in the train dataset: 3706\n",
      "Unique number of users in the train dataset: 812\n",
      "Unique number of movies in the train dataset: 724\n",
      "Unique number of users in the train dataset: 98\n",
      "Unique number of movies in the train dataset: 95\n"
     ]
    },
    {
     "data": {
      "text/html": [
       "<div>\n",
       "<style scoped>\n",
       "    .dataframe tbody tr th:only-of-type {\n",
       "        vertical-align: middle;\n",
       "    }\n",
       "\n",
       "    .dataframe tbody tr th {\n",
       "        vertical-align: top;\n",
       "    }\n",
       "\n",
       "    .dataframe thead th {\n",
       "        text-align: right;\n",
       "    }\n",
       "</style>\n",
       "<table border=\"1\" class=\"dataframe\">\n",
       "  <thead>\n",
       "    <tr style=\"text-align: right;\">\n",
       "      <th></th>\n",
       "      <th>user_id</th>\n",
       "      <th>movie_id</th>\n",
       "      <th>rating</th>\n",
       "    </tr>\n",
       "  </thead>\n",
       "  <tbody>\n",
       "    <tr>\n",
       "      <th>730373</th>\n",
       "      <td>4168</td>\n",
       "      <td>3082</td>\n",
       "      <td>3</td>\n",
       "    </tr>\n",
       "    <tr>\n",
       "      <th>627609</th>\n",
       "      <td>4284</td>\n",
       "      <td>2763</td>\n",
       "      <td>4</td>\n",
       "    </tr>\n",
       "    <tr>\n",
       "      <th>993682</th>\n",
       "      <td>798</td>\n",
       "      <td>2559</td>\n",
       "      <td>5</td>\n",
       "    </tr>\n",
       "    <tr>\n",
       "      <th>266328</th>\n",
       "      <td>4345</td>\n",
       "      <td>2529</td>\n",
       "      <td>3</td>\n",
       "    </tr>\n",
       "    <tr>\n",
       "      <th>412503</th>\n",
       "      <td>984</td>\n",
       "      <td>3099</td>\n",
       "      <td>4</td>\n",
       "    </tr>\n",
       "    <tr>\n",
       "      <th>...</th>\n",
       "      <td>...</td>\n",
       "      <td>...</td>\n",
       "      <td>...</td>\n",
       "    </tr>\n",
       "    <tr>\n",
       "      <th>841987</th>\n",
       "      <td>1799</td>\n",
       "      <td>533</td>\n",
       "      <td>1</td>\n",
       "    </tr>\n",
       "    <tr>\n",
       "      <th>749605</th>\n",
       "      <td>1203</td>\n",
       "      <td>1377</td>\n",
       "      <td>4</td>\n",
       "    </tr>\n",
       "    <tr>\n",
       "      <th>606134</th>\n",
       "      <td>5047</td>\n",
       "      <td>431</td>\n",
       "      <td>3</td>\n",
       "    </tr>\n",
       "    <tr>\n",
       "      <th>694799</th>\n",
       "      <td>735</td>\n",
       "      <td>3863</td>\n",
       "      <td>3</td>\n",
       "    </tr>\n",
       "    <tr>\n",
       "      <th>325901</th>\n",
       "      <td>5550</td>\n",
       "      <td>2009</td>\n",
       "      <td>4</td>\n",
       "    </tr>\n",
       "  </tbody>\n",
       "</table>\n",
       "<p>999107 rows × 3 columns</p>\n",
       "</div>"
      ],
      "text/plain": [
       "        user_id  movie_id  rating\n",
       "730373     4168      3082       3\n",
       "627609     4284      2763       4\n",
       "993682      798      2559       5\n",
       "266328     4345      2529       3\n",
       "412503      984      3099       4\n",
       "...         ...       ...     ...\n",
       "841987     1799       533       1\n",
       "749605     1203      1377       4\n",
       "606134     5047       431       3\n",
       "694799      735      3863       3\n",
       "325901     5550      2009       4\n",
       "\n",
       "[999107 rows x 3 columns]"
      ]
     },
     "execution_count": 12,
     "metadata": {},
     "output_type": "execute_result"
    }
   ],
   "source": [
    "from sklearn.model_selection import train_test_split\n",
    "\n",
    "# Split the data into training and testing sets\n",
    "train, test = train_test_split(ratings_cleaned, test_size=0.0001, random_state=42)\n",
    "\n",
    "# train = dataset w/o both verification & test\n",
    "train, validation = train_test_split(train, test_size=0.001, random_state=42)\n",
    "\n",
    "print(f\"Unique number of users in the train dataset: {train['user_id'].nunique()}\")\n",
    "print(f\"Unique number of movies in the train dataset: {train['movie_id'].nunique()}\")\n",
    "\n",
    "print(f\"Unique number of users in the train dataset: {validation['user_id'].nunique()}\")\n",
    "print(f\"Unique number of movies in the train dataset: {validation['movie_id'].nunique()}\")\n",
    "\n",
    "print(f\"Unique number of users in the train dataset: {test['user_id'].nunique()}\")\n",
    "print(f\"Unique number of movies in the train dataset: {test['movie_id'].nunique()}\")\n",
    "\n",
    "train"
   ]
  },
  {
   "cell_type": "markdown",
   "id": "5bda0af5",
   "metadata": {},
   "source": [
    "### Export train, validation, test"
   ]
  },
  {
   "cell_type": "code",
   "execution_count": 18,
   "id": "71c0eb60",
   "metadata": {},
   "outputs": [],
   "source": [
    "train.to_csv(\"cleaned_datasets/train.csv\", index=False)\n",
    "validation.to_csv(\"cleaned_datasets/validation.csv\", index=False)\n",
    "test.to_csv(\"cleaned_datasets/test.csv\", index=False)"
   ]
  }
 ],
 "metadata": {
  "kernelspec": {
   "display_name": "Python 3 (ipykernel)",
   "language": "python",
   "name": "python3"
  },
  "language_info": {
   "codemirror_mode": {
    "name": "ipython",
    "version": 3
   },
   "file_extension": ".py",
   "mimetype": "text/x-python",
   "name": "python",
   "nbconvert_exporter": "python",
   "pygments_lexer": "ipython3",
   "version": "3.8.8"
  }
 },
 "nbformat": 4,
 "nbformat_minor": 5
}
